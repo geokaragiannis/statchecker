{
 "cells": [
  {
   "cell_type": "code",
   "execution_count": 20,
   "metadata": {},
   "outputs": [],
   "source": [
    "import pandas as pd\n",
    "import matplotlib.pyplot as plt"
   ]
  },
  {
   "cell_type": "code",
   "execution_count": 42,
   "metadata": {},
   "outputs": [],
   "source": [
    "RES_PATH = \"data/active_learning/val_accuracy_list_sure.csv\""
   ]
  },
  {
   "cell_type": "code",
   "execution_count": 43,
   "metadata": {},
   "outputs": [],
   "source": [
    "df = pd.read_csv(RES_PATH)"
   ]
  },
  {
   "cell_type": "code",
   "execution_count": 44,
   "metadata": {},
   "outputs": [
    {
     "data": {
      "text/html": [
       "<div>\n",
       "<style scoped>\n",
       "    .dataframe tbody tr th:only-of-type {\n",
       "        vertical-align: middle;\n",
       "    }\n",
       "\n",
       "    .dataframe tbody tr th {\n",
       "        vertical-align: top;\n",
       "    }\n",
       "\n",
       "    .dataframe thead th {\n",
       "        text-align: right;\n",
       "    }\n",
       "</style>\n",
       "<table border=\"1\" class=\"dataframe\">\n",
       "  <thead>\n",
       "    <tr style=\"text-align: right;\">\n",
       "      <th></th>\n",
       "      <th>column</th>\n",
       "      <th>file</th>\n",
       "      <th>region</th>\n",
       "      <th>row_index</th>\n",
       "      <th>tab</th>\n",
       "      <th>template_formula</th>\n",
       "    </tr>\n",
       "  </thead>\n",
       "  <tbody>\n",
       "    <tr>\n",
       "      <th>0</th>\n",
       "      <td>0.570000</td>\n",
       "      <td>0.630000</td>\n",
       "      <td>0.650000</td>\n",
       "      <td>0.370000</td>\n",
       "      <td>0.71</td>\n",
       "      <td>0.380000</td>\n",
       "    </tr>\n",
       "    <tr>\n",
       "      <th>1</th>\n",
       "      <td>0.440000</td>\n",
       "      <td>0.540000</td>\n",
       "      <td>0.550000</td>\n",
       "      <td>0.340000</td>\n",
       "      <td>0.62</td>\n",
       "      <td>0.240000</td>\n",
       "    </tr>\n",
       "    <tr>\n",
       "      <th>2</th>\n",
       "      <td>0.470000</td>\n",
       "      <td>0.570000</td>\n",
       "      <td>0.470000</td>\n",
       "      <td>0.270000</td>\n",
       "      <td>0.52</td>\n",
       "      <td>0.320000</td>\n",
       "    </tr>\n",
       "    <tr>\n",
       "      <th>3</th>\n",
       "      <td>0.570000</td>\n",
       "      <td>0.630000</td>\n",
       "      <td>0.620000</td>\n",
       "      <td>0.390000</td>\n",
       "      <td>0.70</td>\n",
       "      <td>0.360000</td>\n",
       "    </tr>\n",
       "    <tr>\n",
       "      <th>4</th>\n",
       "      <td>0.560000</td>\n",
       "      <td>0.510000</td>\n",
       "      <td>0.550000</td>\n",
       "      <td>0.360000</td>\n",
       "      <td>0.66</td>\n",
       "      <td>0.310000</td>\n",
       "    </tr>\n",
       "    <tr>\n",
       "      <th>5</th>\n",
       "      <td>0.380000</td>\n",
       "      <td>0.630000</td>\n",
       "      <td>0.650000</td>\n",
       "      <td>0.390000</td>\n",
       "      <td>0.73</td>\n",
       "      <td>0.340000</td>\n",
       "    </tr>\n",
       "    <tr>\n",
       "      <th>6</th>\n",
       "      <td>0.400000</td>\n",
       "      <td>0.640000</td>\n",
       "      <td>0.710000</td>\n",
       "      <td>0.360000</td>\n",
       "      <td>0.78</td>\n",
       "      <td>0.320000</td>\n",
       "    </tr>\n",
       "    <tr>\n",
       "      <th>7</th>\n",
       "      <td>0.480000</td>\n",
       "      <td>0.760000</td>\n",
       "      <td>0.690000</td>\n",
       "      <td>0.430000</td>\n",
       "      <td>0.78</td>\n",
       "      <td>0.330000</td>\n",
       "    </tr>\n",
       "    <tr>\n",
       "      <th>8</th>\n",
       "      <td>0.610000</td>\n",
       "      <td>0.790000</td>\n",
       "      <td>0.710000</td>\n",
       "      <td>0.530000</td>\n",
       "      <td>0.77</td>\n",
       "      <td>0.470000</td>\n",
       "    </tr>\n",
       "    <tr>\n",
       "      <th>9</th>\n",
       "      <td>0.610000</td>\n",
       "      <td>0.810000</td>\n",
       "      <td>0.740000</td>\n",
       "      <td>0.500000</td>\n",
       "      <td>0.81</td>\n",
       "      <td>0.470000</td>\n",
       "    </tr>\n",
       "    <tr>\n",
       "      <th>10</th>\n",
       "      <td>0.680000</td>\n",
       "      <td>0.750000</td>\n",
       "      <td>0.790000</td>\n",
       "      <td>0.490000</td>\n",
       "      <td>0.81</td>\n",
       "      <td>0.440000</td>\n",
       "    </tr>\n",
       "    <tr>\n",
       "      <th>11</th>\n",
       "      <td>0.700000</td>\n",
       "      <td>0.790000</td>\n",
       "      <td>0.830000</td>\n",
       "      <td>0.570000</td>\n",
       "      <td>0.85</td>\n",
       "      <td>0.590000</td>\n",
       "    </tr>\n",
       "    <tr>\n",
       "      <th>12</th>\n",
       "      <td>0.780000</td>\n",
       "      <td>0.860000</td>\n",
       "      <td>0.910000</td>\n",
       "      <td>0.760000</td>\n",
       "      <td>0.91</td>\n",
       "      <td>0.530000</td>\n",
       "    </tr>\n",
       "    <tr>\n",
       "      <th>13</th>\n",
       "      <td>0.782609</td>\n",
       "      <td>0.956522</td>\n",
       "      <td>0.869565</td>\n",
       "      <td>0.826087</td>\n",
       "      <td>1.00</td>\n",
       "      <td>0.565217</td>\n",
       "    </tr>\n",
       "  </tbody>\n",
       "</table>\n",
       "</div>"
      ],
      "text/plain": [
       "      column      file    region  row_index   tab  template_formula\n",
       "0   0.570000  0.630000  0.650000   0.370000  0.71          0.380000\n",
       "1   0.440000  0.540000  0.550000   0.340000  0.62          0.240000\n",
       "2   0.470000  0.570000  0.470000   0.270000  0.52          0.320000\n",
       "3   0.570000  0.630000  0.620000   0.390000  0.70          0.360000\n",
       "4   0.560000  0.510000  0.550000   0.360000  0.66          0.310000\n",
       "5   0.380000  0.630000  0.650000   0.390000  0.73          0.340000\n",
       "6   0.400000  0.640000  0.710000   0.360000  0.78          0.320000\n",
       "7   0.480000  0.760000  0.690000   0.430000  0.78          0.330000\n",
       "8   0.610000  0.790000  0.710000   0.530000  0.77          0.470000\n",
       "9   0.610000  0.810000  0.740000   0.500000  0.81          0.470000\n",
       "10  0.680000  0.750000  0.790000   0.490000  0.81          0.440000\n",
       "11  0.700000  0.790000  0.830000   0.570000  0.85          0.590000\n",
       "12  0.780000  0.860000  0.910000   0.760000  0.91          0.530000\n",
       "13  0.782609  0.956522  0.869565   0.826087  1.00          0.565217"
      ]
     },
     "execution_count": 44,
     "metadata": {},
     "output_type": "execute_result"
    }
   ],
   "source": [
    "df"
   ]
  },
  {
   "cell_type": "code",
   "execution_count": 45,
   "metadata": {},
   "outputs": [],
   "source": [
    "def apply_avg(row):\n",
    "    a = 0.0\n",
    "    for _, val in row.items():\n",
    "        a += float(val)\n",
    "    return round(a/len(row),3)"
   ]
  },
  {
   "cell_type": "code",
   "execution_count": 46,
   "metadata": {},
   "outputs": [],
   "source": [
    "df[\"avg\"] = df.apply(apply_avg, axis=1)"
   ]
  },
  {
   "cell_type": "code",
   "execution_count": 47,
   "metadata": {},
   "outputs": [
    {
     "data": {
      "text/html": [
       "<div>\n",
       "<style scoped>\n",
       "    .dataframe tbody tr th:only-of-type {\n",
       "        vertical-align: middle;\n",
       "    }\n",
       "\n",
       "    .dataframe tbody tr th {\n",
       "        vertical-align: top;\n",
       "    }\n",
       "\n",
       "    .dataframe thead th {\n",
       "        text-align: right;\n",
       "    }\n",
       "</style>\n",
       "<table border=\"1\" class=\"dataframe\">\n",
       "  <thead>\n",
       "    <tr style=\"text-align: right;\">\n",
       "      <th></th>\n",
       "      <th>column</th>\n",
       "      <th>file</th>\n",
       "      <th>region</th>\n",
       "      <th>row_index</th>\n",
       "      <th>tab</th>\n",
       "      <th>template_formula</th>\n",
       "      <th>avg</th>\n",
       "    </tr>\n",
       "  </thead>\n",
       "  <tbody>\n",
       "    <tr>\n",
       "      <th>0</th>\n",
       "      <td>0.570000</td>\n",
       "      <td>0.630000</td>\n",
       "      <td>0.650000</td>\n",
       "      <td>0.370000</td>\n",
       "      <td>0.71</td>\n",
       "      <td>0.380000</td>\n",
       "      <td>0.552</td>\n",
       "    </tr>\n",
       "    <tr>\n",
       "      <th>1</th>\n",
       "      <td>0.440000</td>\n",
       "      <td>0.540000</td>\n",
       "      <td>0.550000</td>\n",
       "      <td>0.340000</td>\n",
       "      <td>0.62</td>\n",
       "      <td>0.240000</td>\n",
       "      <td>0.455</td>\n",
       "    </tr>\n",
       "    <tr>\n",
       "      <th>2</th>\n",
       "      <td>0.470000</td>\n",
       "      <td>0.570000</td>\n",
       "      <td>0.470000</td>\n",
       "      <td>0.270000</td>\n",
       "      <td>0.52</td>\n",
       "      <td>0.320000</td>\n",
       "      <td>0.437</td>\n",
       "    </tr>\n",
       "    <tr>\n",
       "      <th>3</th>\n",
       "      <td>0.570000</td>\n",
       "      <td>0.630000</td>\n",
       "      <td>0.620000</td>\n",
       "      <td>0.390000</td>\n",
       "      <td>0.70</td>\n",
       "      <td>0.360000</td>\n",
       "      <td>0.545</td>\n",
       "    </tr>\n",
       "    <tr>\n",
       "      <th>4</th>\n",
       "      <td>0.560000</td>\n",
       "      <td>0.510000</td>\n",
       "      <td>0.550000</td>\n",
       "      <td>0.360000</td>\n",
       "      <td>0.66</td>\n",
       "      <td>0.310000</td>\n",
       "      <td>0.492</td>\n",
       "    </tr>\n",
       "    <tr>\n",
       "      <th>5</th>\n",
       "      <td>0.380000</td>\n",
       "      <td>0.630000</td>\n",
       "      <td>0.650000</td>\n",
       "      <td>0.390000</td>\n",
       "      <td>0.73</td>\n",
       "      <td>0.340000</td>\n",
       "      <td>0.520</td>\n",
       "    </tr>\n",
       "    <tr>\n",
       "      <th>6</th>\n",
       "      <td>0.400000</td>\n",
       "      <td>0.640000</td>\n",
       "      <td>0.710000</td>\n",
       "      <td>0.360000</td>\n",
       "      <td>0.78</td>\n",
       "      <td>0.320000</td>\n",
       "      <td>0.535</td>\n",
       "    </tr>\n",
       "    <tr>\n",
       "      <th>7</th>\n",
       "      <td>0.480000</td>\n",
       "      <td>0.760000</td>\n",
       "      <td>0.690000</td>\n",
       "      <td>0.430000</td>\n",
       "      <td>0.78</td>\n",
       "      <td>0.330000</td>\n",
       "      <td>0.578</td>\n",
       "    </tr>\n",
       "    <tr>\n",
       "      <th>8</th>\n",
       "      <td>0.610000</td>\n",
       "      <td>0.790000</td>\n",
       "      <td>0.710000</td>\n",
       "      <td>0.530000</td>\n",
       "      <td>0.77</td>\n",
       "      <td>0.470000</td>\n",
       "      <td>0.647</td>\n",
       "    </tr>\n",
       "    <tr>\n",
       "      <th>9</th>\n",
       "      <td>0.610000</td>\n",
       "      <td>0.810000</td>\n",
       "      <td>0.740000</td>\n",
       "      <td>0.500000</td>\n",
       "      <td>0.81</td>\n",
       "      <td>0.470000</td>\n",
       "      <td>0.657</td>\n",
       "    </tr>\n",
       "    <tr>\n",
       "      <th>10</th>\n",
       "      <td>0.680000</td>\n",
       "      <td>0.750000</td>\n",
       "      <td>0.790000</td>\n",
       "      <td>0.490000</td>\n",
       "      <td>0.81</td>\n",
       "      <td>0.440000</td>\n",
       "      <td>0.660</td>\n",
       "    </tr>\n",
       "    <tr>\n",
       "      <th>11</th>\n",
       "      <td>0.700000</td>\n",
       "      <td>0.790000</td>\n",
       "      <td>0.830000</td>\n",
       "      <td>0.570000</td>\n",
       "      <td>0.85</td>\n",
       "      <td>0.590000</td>\n",
       "      <td>0.722</td>\n",
       "    </tr>\n",
       "    <tr>\n",
       "      <th>12</th>\n",
       "      <td>0.780000</td>\n",
       "      <td>0.860000</td>\n",
       "      <td>0.910000</td>\n",
       "      <td>0.760000</td>\n",
       "      <td>0.91</td>\n",
       "      <td>0.530000</td>\n",
       "      <td>0.792</td>\n",
       "    </tr>\n",
       "    <tr>\n",
       "      <th>13</th>\n",
       "      <td>0.782609</td>\n",
       "      <td>0.956522</td>\n",
       "      <td>0.869565</td>\n",
       "      <td>0.826087</td>\n",
       "      <td>1.00</td>\n",
       "      <td>0.565217</td>\n",
       "      <td>0.833</td>\n",
       "    </tr>\n",
       "  </tbody>\n",
       "</table>\n",
       "</div>"
      ],
      "text/plain": [
       "      column      file    region  row_index   tab  template_formula    avg\n",
       "0   0.570000  0.630000  0.650000   0.370000  0.71          0.380000  0.552\n",
       "1   0.440000  0.540000  0.550000   0.340000  0.62          0.240000  0.455\n",
       "2   0.470000  0.570000  0.470000   0.270000  0.52          0.320000  0.437\n",
       "3   0.570000  0.630000  0.620000   0.390000  0.70          0.360000  0.545\n",
       "4   0.560000  0.510000  0.550000   0.360000  0.66          0.310000  0.492\n",
       "5   0.380000  0.630000  0.650000   0.390000  0.73          0.340000  0.520\n",
       "6   0.400000  0.640000  0.710000   0.360000  0.78          0.320000  0.535\n",
       "7   0.480000  0.760000  0.690000   0.430000  0.78          0.330000  0.578\n",
       "8   0.610000  0.790000  0.710000   0.530000  0.77          0.470000  0.647\n",
       "9   0.610000  0.810000  0.740000   0.500000  0.81          0.470000  0.657\n",
       "10  0.680000  0.750000  0.790000   0.490000  0.81          0.440000  0.660\n",
       "11  0.700000  0.790000  0.830000   0.570000  0.85          0.590000  0.722\n",
       "12  0.780000  0.860000  0.910000   0.760000  0.91          0.530000  0.792\n",
       "13  0.782609  0.956522  0.869565   0.826087  1.00          0.565217  0.833"
      ]
     },
     "execution_count": 47,
     "metadata": {},
     "output_type": "execute_result"
    }
   ],
   "source": [
    "df"
   ]
  },
  {
   "cell_type": "code",
   "execution_count": 48,
   "metadata": {},
   "outputs": [],
   "source": [
    "data_list = []\n",
    "for idx, row in df.iterrows():\n",
    "    data_list.append([row.column, row.file, row.region, row.row_index, row.tab, row.template_formula])"
   ]
  },
  {
   "cell_type": "code",
   "execution_count": 49,
   "metadata": {
    "scrolled": true
   },
   "outputs": [
    {
     "data": {
      "text/plain": [
       "[0.57, 0.63, 0.65, 0.37, 0.71, 0.38]"
      ]
     },
     "execution_count": 49,
     "metadata": {},
     "output_type": "execute_result"
    }
   ],
   "source": [
    "data_list[0]"
   ]
  },
  {
   "cell_type": "code",
   "execution_count": 50,
   "metadata": {},
   "outputs": [
    {
     "data": {
      "text/plain": [
       "<matplotlib.axes._subplots.AxesSubplot at 0x7f5eda46e4e0>"
      ]
     },
     "execution_count": 50,
     "metadata": {},
     "output_type": "execute_result"
    },
    {
     "data": {
      "image/png": "[encoded data removed]",
      "text/plain": [
       "<Figure size 1296x720 with 1 Axes>"
      ]
     },
     "metadata": {
      "needs_background": "light"
     },
     "output_type": "display_data"
    }
   ],
   "source": [
    "df.plot.bar(rot=0, figsize=(18,10))"
   ]
  },
  {
   "cell_type": "code",
   "execution_count": 51,
   "metadata": {
    "scrolled": true
   },
   "outputs": [
    {
     "name": "stdout",
     "output_type": "stream",
     "text": [
      "[100, 200, 300, 400, 500, 600, 700, 800, 900, 1000, 1100, 1200, 1300, 1400]\n",
      "[0.552, 0.455, 0.437, 0.545, 0.492, 0.52, 0.535, 0.578, 0.647, 0.657, 0.66, 0.722, 0.792, 0.833]\n"
     ]
    },
    {
     "data": {
      "image/png": "[encoded data removed]",
      "text/plain": [
       "<Figure size 1296x576 with 1 Axes>"
      ]
     },
     "metadata": {
      "needs_background": "light"
     },
     "output_type": "display_data"
    }
   ],
   "source": [
    "x = [i for i in range(100, 100*(len(df)+1), 100)]\n",
    "print(x)\n",
    "acc = list(df[\"avg\"])\n",
    "print(acc)\n",
    "fig, ax = plt.subplots(figsize=(18,8))\n",
    "plt.bar(x, acc, width=20)\n",
    "plt.xticks(x, x)\n",
    "plt.show()"
   ]
  },
  {
   "cell_type": "code",
   "execution_count": 52,
   "metadata": {},
   "outputs": [
    {
     "ename": "NameError",
     "evalue": "name 'langs' is not defined",
     "output_type": "error",
     "traceback": [
      "\u001b[0;31m---------------------------------------------------------------------------\u001b[0m",
      "\u001b[0;31mNameError\u001b[0m                                 Traceback (most recent call last)",
      "\u001b[0;32m<ipython-input-52-9da277778174>\u001b[0m in \u001b[0;36m<module>\u001b[0;34m\u001b[0m\n\u001b[1;32m      2\u001b[0m \u001b[0max\u001b[0m \u001b[0;34m=\u001b[0m \u001b[0mfig\u001b[0m\u001b[0;34m.\u001b[0m\u001b[0madd_axes\u001b[0m\u001b[0;34m(\u001b[0m\u001b[0;34m[\u001b[0m\u001b[0;36m0\u001b[0m\u001b[0;34m,\u001b[0m\u001b[0;36m0\u001b[0m\u001b[0;34m,\u001b[0m\u001b[0;36m1\u001b[0m\u001b[0;34m,\u001b[0m\u001b[0;36m1\u001b[0m\u001b[0;34m]\u001b[0m\u001b[0;34m)\u001b[0m\u001b[0;34m\u001b[0m\u001b[0m\n\u001b[1;32m      3\u001b[0m \u001b[0mx\u001b[0m \u001b[0;34m=\u001b[0m \u001b[0;34m[\u001b[0m\u001b[0mi\u001b[0m \u001b[0;32mfor\u001b[0m \u001b[0mi\u001b[0m \u001b[0;32min\u001b[0m \u001b[0mrange\u001b[0m\u001b[0;34m(\u001b[0m\u001b[0;36m100\u001b[0m\u001b[0;34m,\u001b[0m \u001b[0;36m100\u001b[0m\u001b[0;34m*\u001b[0m\u001b[0;36m6\u001b[0m\u001b[0;34m,\u001b[0m \u001b[0;36m100\u001b[0m\u001b[0;34m)\u001b[0m\u001b[0;34m]\u001b[0m\u001b[0;34m\u001b[0m\u001b[0m\n\u001b[0;32m----> 4\u001b[0;31m \u001b[0mprint\u001b[0m\u001b[0;34m(\u001b[0m\u001b[0mlangs\u001b[0m\u001b[0;34m)\u001b[0m\u001b[0;34m\u001b[0m\u001b[0m\n\u001b[0m\u001b[1;32m      5\u001b[0m \u001b[0macc\u001b[0m \u001b[0;34m=\u001b[0m \u001b[0;34m[\u001b[0m\u001b[0;36m23\u001b[0m\u001b[0;34m,\u001b[0m\u001b[0;36m17\u001b[0m\u001b[0;34m,\u001b[0m\u001b[0;36m35\u001b[0m\u001b[0;34m,\u001b[0m\u001b[0;36m29\u001b[0m\u001b[0;34m,\u001b[0m\u001b[0;36m12\u001b[0m\u001b[0;34m]\u001b[0m\u001b[0;34m\u001b[0m\u001b[0m\n\u001b[1;32m      6\u001b[0m \u001b[0max\u001b[0m\u001b[0;34m.\u001b[0m\u001b[0mbar\u001b[0m\u001b[0;34m(\u001b[0m\u001b[0mlangs\u001b[0m\u001b[0;34m,\u001b[0m\u001b[0mstudents\u001b[0m\u001b[0;34m)\u001b[0m\u001b[0;34m\u001b[0m\u001b[0m\n",
      "\u001b[0;31mNameError\u001b[0m: name 'langs' is not defined"
     ]
    },
    {
     "data": {
      "image/png": "[encoded data removed]",
      "text/plain": [
       "<Figure size 432x288 with 1 Axes>"
      ]
     },
     "metadata": {
      "needs_background": "light"
     },
     "output_type": "display_data"
    }
   ],
   "source": [
    "fig = plt.figure()\n",
    "ax = fig.add_axes([0,0,1,1])\n",
    "x = [i for i in range(100, 100*6, 100)]\n",
    "print(langs)\n",
    "acc = [23,17,35,29,12]\n",
    "ax.bar(langs,students)\n",
    "plt.show()"
   ]
  },
  {
   "cell_type": "code",
   "execution_count": 19,
   "metadata": {},
   "outputs": [
    {
     "data": {
      "text/plain": [
       "[100, 200, 300, 400]"
      ]
     },
     "execution_count": 19,
     "metadata": {},
     "output_type": "execute_result"
    }
   ],
   "source": [
    "[i for i in range(100, 100*5, 100)]"
   ]
  },
  {
   "cell_type": "code",
   "execution_count": 104,
   "metadata": {},
   "outputs": [],
   "source": [
    "import numpy as np"
   ]
  },
  {
   "cell_type": "code",
   "execution_count": 109,
   "metadata": {},
   "outputs": [],
   "source": [
    "q = np.ones((5,2))"
   ]
  },
  {
   "cell_type": "code",
   "execution_count": 111,
   "metadata": {},
   "outputs": [],
   "source": [
    "p = [0.1, 0.2, 0.33, 0.99, 0.55]\n",
    "q[:, 0] = p"
   ]
  },
  {
   "cell_type": "code",
   "execution_count": 112,
   "metadata": {},
   "outputs": [
    {
     "data": {
      "text/plain": [
       "array([[0.1 , 1.  ],\n",
       "       [0.2 , 1.  ],\n",
       "       [0.33, 1.  ],\n",
       "       [0.99, 1.  ],\n",
       "       [0.55, 1.  ]])"
      ]
     },
     "execution_count": 112,
     "metadata": {},
     "output_type": "execute_result"
    }
   ],
   "source": [
    "q"
   ]
  },
  {
   "cell_type": "code",
   "execution_count": 113,
   "metadata": {},
   "outputs": [
    {
     "data": {
      "text/plain": [
       "array([0.55 , 0.6  , 0.665, 0.995, 0.775])"
      ]
     },
     "execution_count": 113,
     "metadata": {},
     "output_type": "execute_result"
    }
   ],
   "source": [
    "np.average(q, axis=1)"
   ]
  },
  {
   "cell_type": "code",
   "execution_count": null,
   "metadata": {},
   "outputs": [],
   "source": []
  }
 ],
 "metadata": {
  "kernelspec": {
   "display_name": "Python 3",
   "language": "python",
   "name": "python3"
  },
  "language_info": {
   "codemirror_mode": {
    "name": "ipython",
    "version": 3
   },
   "file_extension": ".py",
   "mimetype": "text/x-python",
   "name": "python",
   "nbconvert_exporter": "python",
   "pygments_lexer": "ipython3",
   "version": "3.5.6"
  }
 },
 "nbformat": 4,
 "nbformat_minor": 2
}
