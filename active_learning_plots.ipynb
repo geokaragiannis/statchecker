{
 "cells": [
  {
   "cell_type": "code",
   "execution_count": 3,
   "metadata": {},
   "outputs": [],
   "source": [
    "import pandas as pd\n",
    "import matplotlib.pyplot as plt\n",
    "import os"
   ]
  },
  {
   "cell_type": "code",
   "execution_count": 2,
   "metadata": {},
   "outputs": [],
   "source": [
    "RES_PATH = \"data/active_learning/\""
   ]
  },
  {
   "cell_type": "code",
   "execution_count": 36,
   "metadata": {},
   "outputs": [],
   "source": [
    "df_random = pd.read_csv(os.path.join(RES_PATH, \"val_accuracy_list_random2.csv\"))\n",
    "df_unsure = pd.read_csv(os.path.join(RES_PATH, \"val_accuracy_list_unsure.csv\"))\n",
    "df_cluster10 = pd.read_csv(os.path.join(RES_PATH, \"val_accuracy_list_cluster_one_model_10_clusters.csv\"))\n",
    "df_cluster8 = pd.read_csv(os.path.join(RES_PATH, \"val_accuracy_list_cluster_one_model_10_clusters.csv\"))\n",
    "df_cluster6 = pd.read_csv(os.path.join(RES_PATH, \"val_accuracy_list_cluster_one_model_10_clusters.csv\"))"
   ]
  },
  {
   "cell_type": "code",
   "execution_count": 37,
   "metadata": {},
   "outputs": [
    {
     "data": {
      "text/html": [
       "<div>\n",
       "<style scoped>\n",
       "    .dataframe tbody tr th:only-of-type {\n",
       "        vertical-align: middle;\n",
       "    }\n",
       "\n",
       "    .dataframe tbody tr th {\n",
       "        vertical-align: top;\n",
       "    }\n",
       "\n",
       "    .dataframe thead th {\n",
       "        text-align: right;\n",
       "    }\n",
       "</style>\n",
       "<table border=\"1\" class=\"dataframe\">\n",
       "  <thead>\n",
       "    <tr style=\"text-align: right;\">\n",
       "      <th></th>\n",
       "      <th>column</th>\n",
       "      <th>file</th>\n",
       "      <th>region</th>\n",
       "      <th>row_index</th>\n",
       "      <th>tab</th>\n",
       "      <th>template_formula</th>\n",
       "    </tr>\n",
       "  </thead>\n",
       "  <tbody>\n",
       "    <tr>\n",
       "      <th>0</th>\n",
       "      <td>0.520000</td>\n",
       "      <td>0.620000</td>\n",
       "      <td>0.570000</td>\n",
       "      <td>0.330000</td>\n",
       "      <td>0.670000</td>\n",
       "      <td>0.340000</td>\n",
       "    </tr>\n",
       "    <tr>\n",
       "      <th>1</th>\n",
       "      <td>0.510000</td>\n",
       "      <td>0.590000</td>\n",
       "      <td>0.710000</td>\n",
       "      <td>0.280000</td>\n",
       "      <td>0.770000</td>\n",
       "      <td>0.330000</td>\n",
       "    </tr>\n",
       "    <tr>\n",
       "      <th>2</th>\n",
       "      <td>0.500000</td>\n",
       "      <td>0.570000</td>\n",
       "      <td>0.530000</td>\n",
       "      <td>0.370000</td>\n",
       "      <td>0.640000</td>\n",
       "      <td>0.270000</td>\n",
       "    </tr>\n",
       "    <tr>\n",
       "      <th>3</th>\n",
       "      <td>0.500000</td>\n",
       "      <td>0.730000</td>\n",
       "      <td>0.720000</td>\n",
       "      <td>0.420000</td>\n",
       "      <td>0.730000</td>\n",
       "      <td>0.390000</td>\n",
       "    </tr>\n",
       "    <tr>\n",
       "      <th>4</th>\n",
       "      <td>0.580000</td>\n",
       "      <td>0.700000</td>\n",
       "      <td>0.640000</td>\n",
       "      <td>0.380000</td>\n",
       "      <td>0.700000</td>\n",
       "      <td>0.340000</td>\n",
       "    </tr>\n",
       "    <tr>\n",
       "      <th>5</th>\n",
       "      <td>0.600000</td>\n",
       "      <td>0.720000</td>\n",
       "      <td>0.770000</td>\n",
       "      <td>0.400000</td>\n",
       "      <td>0.780000</td>\n",
       "      <td>0.410000</td>\n",
       "    </tr>\n",
       "    <tr>\n",
       "      <th>6</th>\n",
       "      <td>0.610000</td>\n",
       "      <td>0.740000</td>\n",
       "      <td>0.830000</td>\n",
       "      <td>0.510000</td>\n",
       "      <td>0.850000</td>\n",
       "      <td>0.420000</td>\n",
       "    </tr>\n",
       "    <tr>\n",
       "      <th>7</th>\n",
       "      <td>0.550000</td>\n",
       "      <td>0.850000</td>\n",
       "      <td>0.730000</td>\n",
       "      <td>0.520000</td>\n",
       "      <td>0.770000</td>\n",
       "      <td>0.360000</td>\n",
       "    </tr>\n",
       "    <tr>\n",
       "      <th>8</th>\n",
       "      <td>0.580000</td>\n",
       "      <td>0.760000</td>\n",
       "      <td>0.710000</td>\n",
       "      <td>0.530000</td>\n",
       "      <td>0.740000</td>\n",
       "      <td>0.470000</td>\n",
       "    </tr>\n",
       "    <tr>\n",
       "      <th>9</th>\n",
       "      <td>0.600000</td>\n",
       "      <td>0.800000</td>\n",
       "      <td>0.790000</td>\n",
       "      <td>0.460000</td>\n",
       "      <td>0.840000</td>\n",
       "      <td>0.470000</td>\n",
       "    </tr>\n",
       "    <tr>\n",
       "      <th>10</th>\n",
       "      <td>0.590000</td>\n",
       "      <td>0.730000</td>\n",
       "      <td>0.780000</td>\n",
       "      <td>0.580000</td>\n",
       "      <td>0.830000</td>\n",
       "      <td>0.450000</td>\n",
       "    </tr>\n",
       "    <tr>\n",
       "      <th>11</th>\n",
       "      <td>0.580000</td>\n",
       "      <td>0.720000</td>\n",
       "      <td>0.710000</td>\n",
       "      <td>0.510000</td>\n",
       "      <td>0.750000</td>\n",
       "      <td>0.440000</td>\n",
       "    </tr>\n",
       "    <tr>\n",
       "      <th>12</th>\n",
       "      <td>0.620000</td>\n",
       "      <td>0.710000</td>\n",
       "      <td>0.760000</td>\n",
       "      <td>0.530000</td>\n",
       "      <td>0.780000</td>\n",
       "      <td>0.440000</td>\n",
       "    </tr>\n",
       "    <tr>\n",
       "      <th>13</th>\n",
       "      <td>0.833333</td>\n",
       "      <td>0.833333</td>\n",
       "      <td>0.833333</td>\n",
       "      <td>0.722222</td>\n",
       "      <td>0.833333</td>\n",
       "      <td>0.555556</td>\n",
       "    </tr>\n",
       "  </tbody>\n",
       "</table>\n",
       "</div>"
      ],
      "text/plain": [
       "      column      file    region  row_index       tab  template_formula\n",
       "0   0.520000  0.620000  0.570000   0.330000  0.670000          0.340000\n",
       "1   0.510000  0.590000  0.710000   0.280000  0.770000          0.330000\n",
       "2   0.500000  0.570000  0.530000   0.370000  0.640000          0.270000\n",
       "3   0.500000  0.730000  0.720000   0.420000  0.730000          0.390000\n",
       "4   0.580000  0.700000  0.640000   0.380000  0.700000          0.340000\n",
       "5   0.600000  0.720000  0.770000   0.400000  0.780000          0.410000\n",
       "6   0.610000  0.740000  0.830000   0.510000  0.850000          0.420000\n",
       "7   0.550000  0.850000  0.730000   0.520000  0.770000          0.360000\n",
       "8   0.580000  0.760000  0.710000   0.530000  0.740000          0.470000\n",
       "9   0.600000  0.800000  0.790000   0.460000  0.840000          0.470000\n",
       "10  0.590000  0.730000  0.780000   0.580000  0.830000          0.450000\n",
       "11  0.580000  0.720000  0.710000   0.510000  0.750000          0.440000\n",
       "12  0.620000  0.710000  0.760000   0.530000  0.780000          0.440000\n",
       "13  0.833333  0.833333  0.833333   0.722222  0.833333          0.555556"
      ]
     },
     "execution_count": 37,
     "metadata": {},
     "output_type": "execute_result"
    }
   ],
   "source": [
    "df_random"
   ]
  },
  {
   "cell_type": "code",
   "execution_count": 38,
   "metadata": {},
   "outputs": [],
   "source": [
    "def apply_avg(row):\n",
    "    a = 0.0\n",
    "    for _, val in row.items():\n",
    "        a += float(val)\n",
    "    return round(a/len(row),3)"
   ]
  },
  {
   "cell_type": "code",
   "execution_count": 41,
   "metadata": {},
   "outputs": [],
   "source": [
    "df_random[\"avg\"] = df_random.apply(apply_avg, axis=1)\n",
    "df_unsure[\"avg\"] = df_unsure.apply(apply_avg, axis=1)\n",
    "df_cluster10[\"avg\"] = df_cluster10.apply(apply_avg, axis=1)\n",
    "df_cluster8[\"avg\"] = df_cluster8.apply(apply_avg, axis=1)\n",
    "df_cluster6[\"avg\"] = df_cluster6.apply(apply_avg, axis=1)"
   ]
  },
  {
   "cell_type": "code",
   "execution_count": 42,
   "metadata": {},
   "outputs": [
    {
     "data": {
      "text/html": [
       "<div>\n",
       "<style scoped>\n",
       "    .dataframe tbody tr th:only-of-type {\n",
       "        vertical-align: middle;\n",
       "    }\n",
       "\n",
       "    .dataframe tbody tr th {\n",
       "        vertical-align: top;\n",
       "    }\n",
       "\n",
       "    .dataframe thead th {\n",
       "        text-align: right;\n",
       "    }\n",
       "</style>\n",
       "<table border=\"1\" class=\"dataframe\">\n",
       "  <thead>\n",
       "    <tr style=\"text-align: right;\">\n",
       "      <th></th>\n",
       "      <th>column</th>\n",
       "      <th>file</th>\n",
       "      <th>region</th>\n",
       "      <th>row_index</th>\n",
       "      <th>tab</th>\n",
       "      <th>template_formula</th>\n",
       "      <th>avg</th>\n",
       "    </tr>\n",
       "  </thead>\n",
       "  <tbody>\n",
       "    <tr>\n",
       "      <th>0</th>\n",
       "      <td>0.520000</td>\n",
       "      <td>0.620000</td>\n",
       "      <td>0.570000</td>\n",
       "      <td>0.330000</td>\n",
       "      <td>0.670000</td>\n",
       "      <td>0.340000</td>\n",
       "      <td>0.508</td>\n",
       "    </tr>\n",
       "    <tr>\n",
       "      <th>1</th>\n",
       "      <td>0.510000</td>\n",
       "      <td>0.590000</td>\n",
       "      <td>0.710000</td>\n",
       "      <td>0.280000</td>\n",
       "      <td>0.770000</td>\n",
       "      <td>0.330000</td>\n",
       "      <td>0.532</td>\n",
       "    </tr>\n",
       "    <tr>\n",
       "      <th>2</th>\n",
       "      <td>0.500000</td>\n",
       "      <td>0.570000</td>\n",
       "      <td>0.530000</td>\n",
       "      <td>0.370000</td>\n",
       "      <td>0.640000</td>\n",
       "      <td>0.270000</td>\n",
       "      <td>0.480</td>\n",
       "    </tr>\n",
       "    <tr>\n",
       "      <th>3</th>\n",
       "      <td>0.500000</td>\n",
       "      <td>0.730000</td>\n",
       "      <td>0.720000</td>\n",
       "      <td>0.420000</td>\n",
       "      <td>0.730000</td>\n",
       "      <td>0.390000</td>\n",
       "      <td>0.582</td>\n",
       "    </tr>\n",
       "    <tr>\n",
       "      <th>4</th>\n",
       "      <td>0.580000</td>\n",
       "      <td>0.700000</td>\n",
       "      <td>0.640000</td>\n",
       "      <td>0.380000</td>\n",
       "      <td>0.700000</td>\n",
       "      <td>0.340000</td>\n",
       "      <td>0.557</td>\n",
       "    </tr>\n",
       "    <tr>\n",
       "      <th>5</th>\n",
       "      <td>0.600000</td>\n",
       "      <td>0.720000</td>\n",
       "      <td>0.770000</td>\n",
       "      <td>0.400000</td>\n",
       "      <td>0.780000</td>\n",
       "      <td>0.410000</td>\n",
       "      <td>0.613</td>\n",
       "    </tr>\n",
       "    <tr>\n",
       "      <th>6</th>\n",
       "      <td>0.610000</td>\n",
       "      <td>0.740000</td>\n",
       "      <td>0.830000</td>\n",
       "      <td>0.510000</td>\n",
       "      <td>0.850000</td>\n",
       "      <td>0.420000</td>\n",
       "      <td>0.660</td>\n",
       "    </tr>\n",
       "    <tr>\n",
       "      <th>7</th>\n",
       "      <td>0.550000</td>\n",
       "      <td>0.850000</td>\n",
       "      <td>0.730000</td>\n",
       "      <td>0.520000</td>\n",
       "      <td>0.770000</td>\n",
       "      <td>0.360000</td>\n",
       "      <td>0.630</td>\n",
       "    </tr>\n",
       "    <tr>\n",
       "      <th>8</th>\n",
       "      <td>0.580000</td>\n",
       "      <td>0.760000</td>\n",
       "      <td>0.710000</td>\n",
       "      <td>0.530000</td>\n",
       "      <td>0.740000</td>\n",
       "      <td>0.470000</td>\n",
       "      <td>0.632</td>\n",
       "    </tr>\n",
       "    <tr>\n",
       "      <th>9</th>\n",
       "      <td>0.600000</td>\n",
       "      <td>0.800000</td>\n",
       "      <td>0.790000</td>\n",
       "      <td>0.460000</td>\n",
       "      <td>0.840000</td>\n",
       "      <td>0.470000</td>\n",
       "      <td>0.660</td>\n",
       "    </tr>\n",
       "    <tr>\n",
       "      <th>10</th>\n",
       "      <td>0.590000</td>\n",
       "      <td>0.730000</td>\n",
       "      <td>0.780000</td>\n",
       "      <td>0.580000</td>\n",
       "      <td>0.830000</td>\n",
       "      <td>0.450000</td>\n",
       "      <td>0.660</td>\n",
       "    </tr>\n",
       "    <tr>\n",
       "      <th>11</th>\n",
       "      <td>0.580000</td>\n",
       "      <td>0.720000</td>\n",
       "      <td>0.710000</td>\n",
       "      <td>0.510000</td>\n",
       "      <td>0.750000</td>\n",
       "      <td>0.440000</td>\n",
       "      <td>0.618</td>\n",
       "    </tr>\n",
       "    <tr>\n",
       "      <th>12</th>\n",
       "      <td>0.620000</td>\n",
       "      <td>0.710000</td>\n",
       "      <td>0.760000</td>\n",
       "      <td>0.530000</td>\n",
       "      <td>0.780000</td>\n",
       "      <td>0.440000</td>\n",
       "      <td>0.640</td>\n",
       "    </tr>\n",
       "    <tr>\n",
       "      <th>13</th>\n",
       "      <td>0.833333</td>\n",
       "      <td>0.833333</td>\n",
       "      <td>0.833333</td>\n",
       "      <td>0.722222</td>\n",
       "      <td>0.833333</td>\n",
       "      <td>0.555556</td>\n",
       "      <td>0.769</td>\n",
       "    </tr>\n",
       "  </tbody>\n",
       "</table>\n",
       "</div>"
      ],
      "text/plain": [
       "      column      file    region  row_index       tab  template_formula    avg\n",
       "0   0.520000  0.620000  0.570000   0.330000  0.670000          0.340000  0.508\n",
       "1   0.510000  0.590000  0.710000   0.280000  0.770000          0.330000  0.532\n",
       "2   0.500000  0.570000  0.530000   0.370000  0.640000          0.270000  0.480\n",
       "3   0.500000  0.730000  0.720000   0.420000  0.730000          0.390000  0.582\n",
       "4   0.580000  0.700000  0.640000   0.380000  0.700000          0.340000  0.557\n",
       "5   0.600000  0.720000  0.770000   0.400000  0.780000          0.410000  0.613\n",
       "6   0.610000  0.740000  0.830000   0.510000  0.850000          0.420000  0.660\n",
       "7   0.550000  0.850000  0.730000   0.520000  0.770000          0.360000  0.630\n",
       "8   0.580000  0.760000  0.710000   0.530000  0.740000          0.470000  0.632\n",
       "9   0.600000  0.800000  0.790000   0.460000  0.840000          0.470000  0.660\n",
       "10  0.590000  0.730000  0.780000   0.580000  0.830000          0.450000  0.660\n",
       "11  0.580000  0.720000  0.710000   0.510000  0.750000          0.440000  0.618\n",
       "12  0.620000  0.710000  0.760000   0.530000  0.780000          0.440000  0.640\n",
       "13  0.833333  0.833333  0.833333   0.722222  0.833333          0.555556  0.769"
      ]
     },
     "execution_count": 42,
     "metadata": {},
     "output_type": "execute_result"
    }
   ],
   "source": [
    "df_random"
   ]
  },
  {
   "cell_type": "code",
   "execution_count": 11,
   "metadata": {},
   "outputs": [
    {
     "ename": "NameError",
     "evalue": "name 'df' is not defined",
     "output_type": "error",
     "traceback": [
      "\u001b[0;31m---------------------------------------------------------------------------\u001b[0m",
      "\u001b[0;31mNameError\u001b[0m                                 Traceback (most recent call last)",
      "\u001b[0;32m<ipython-input-11-92a1e0aa7ced>\u001b[0m in \u001b[0;36m<module>\u001b[0;34m\u001b[0m\n\u001b[1;32m      1\u001b[0m \u001b[0mdata_list\u001b[0m \u001b[0;34m=\u001b[0m \u001b[0;34m[\u001b[0m\u001b[0;34m]\u001b[0m\u001b[0;34m\u001b[0m\u001b[0m\n\u001b[0;32m----> 2\u001b[0;31m \u001b[0;32mfor\u001b[0m \u001b[0midx\u001b[0m\u001b[0;34m,\u001b[0m \u001b[0mrow\u001b[0m \u001b[0;32min\u001b[0m \u001b[0mdf\u001b[0m\u001b[0;34m.\u001b[0m\u001b[0miterrows\u001b[0m\u001b[0;34m(\u001b[0m\u001b[0;34m)\u001b[0m\u001b[0;34m:\u001b[0m\u001b[0;34m\u001b[0m\u001b[0m\n\u001b[0m\u001b[1;32m      3\u001b[0m     \u001b[0mdata_list\u001b[0m\u001b[0;34m.\u001b[0m\u001b[0mappend\u001b[0m\u001b[0;34m(\u001b[0m\u001b[0;34m[\u001b[0m\u001b[0mrow\u001b[0m\u001b[0;34m.\u001b[0m\u001b[0mcolumn\u001b[0m\u001b[0;34m,\u001b[0m \u001b[0mrow\u001b[0m\u001b[0;34m.\u001b[0m\u001b[0mfile\u001b[0m\u001b[0;34m,\u001b[0m \u001b[0mrow\u001b[0m\u001b[0;34m.\u001b[0m\u001b[0mregion\u001b[0m\u001b[0;34m,\u001b[0m \u001b[0mrow\u001b[0m\u001b[0;34m.\u001b[0m\u001b[0mrow_index\u001b[0m\u001b[0;34m,\u001b[0m \u001b[0mrow\u001b[0m\u001b[0;34m.\u001b[0m\u001b[0mtab\u001b[0m\u001b[0;34m,\u001b[0m \u001b[0mrow\u001b[0m\u001b[0;34m.\u001b[0m\u001b[0mtemplate_formula\u001b[0m\u001b[0;34m]\u001b[0m\u001b[0;34m)\u001b[0m\u001b[0;34m\u001b[0m\u001b[0m\n",
      "\u001b[0;31mNameError\u001b[0m: name 'df' is not defined"
     ]
    }
   ],
   "source": [
    "data_list = []\n",
    "for idx, row in df.iterrows():\n",
    "    data_list.append([row.column, row.file, row.region, row.row_index, row.tab, row.template_formula])"
   ]
  },
  {
   "cell_type": "code",
   "execution_count": 12,
   "metadata": {
    "scrolled": true
   },
   "outputs": [
    {
     "ename": "IndexError",
     "evalue": "list index out of range",
     "output_type": "error",
     "traceback": [
      "\u001b[0;31m---------------------------------------------------------------------------\u001b[0m",
      "\u001b[0;31mIndexError\u001b[0m                                Traceback (most recent call last)",
      "\u001b[0;32m<ipython-input-12-809eaf4f0f92>\u001b[0m in \u001b[0;36m<module>\u001b[0;34m\u001b[0m\n\u001b[0;32m----> 1\u001b[0;31m \u001b[0mdata_list\u001b[0m\u001b[0;34m[\u001b[0m\u001b[0;36m0\u001b[0m\u001b[0;34m]\u001b[0m\u001b[0;34m\u001b[0m\u001b[0m\n\u001b[0m",
      "\u001b[0;31mIndexError\u001b[0m: list index out of range"
     ]
    }
   ],
   "source": [
    "data_list[0]"
   ]
  },
  {
   "cell_type": "code",
   "execution_count": 13,
   "metadata": {},
   "outputs": [
    {
     "ename": "NameError",
     "evalue": "name 'df' is not defined",
     "output_type": "error",
     "traceback": [
      "\u001b[0;31m---------------------------------------------------------------------------\u001b[0m",
      "\u001b[0;31mNameError\u001b[0m                                 Traceback (most recent call last)",
      "\u001b[0;32m<ipython-input-13-3e381211f501>\u001b[0m in \u001b[0;36m<module>\u001b[0;34m\u001b[0m\n\u001b[0;32m----> 1\u001b[0;31m \u001b[0mdf\u001b[0m\u001b[0;34m.\u001b[0m\u001b[0mplot\u001b[0m\u001b[0;34m.\u001b[0m\u001b[0mbar\u001b[0m\u001b[0;34m(\u001b[0m\u001b[0mrot\u001b[0m\u001b[0;34m=\u001b[0m\u001b[0;36m0\u001b[0m\u001b[0;34m,\u001b[0m \u001b[0mfigsize\u001b[0m\u001b[0;34m=\u001b[0m\u001b[0;34m(\u001b[0m\u001b[0;36m18\u001b[0m\u001b[0;34m,\u001b[0m\u001b[0;36m10\u001b[0m\u001b[0;34m)\u001b[0m\u001b[0;34m)\u001b[0m\u001b[0;34m\u001b[0m\u001b[0m\n\u001b[0m",
      "\u001b[0;31mNameError\u001b[0m: name 'df' is not defined"
     ]
    }
   ],
   "source": [
    "df.plot.bar(rot=0, figsize=(18,10))"
   ]
  },
  {
   "cell_type": "code",
   "execution_count": 43,
   "metadata": {},
   "outputs": [],
   "source": [
    "def two_plots(df1, df2, name1, name2):\n",
    "    x1 = [i for i in range(100, 100*(len(df1)+1), 100)]\n",
    "    x2 = [i for i in range(100, 100*(len(df2)+1), 100)]\n",
    "    acc1 = list(df1[\"avg\"])\n",
    "    acc2 = list(df2[\"avg\"])\n",
    "    fig, (ax1, ax2) = plt.subplots(1, 2, figsize=(18,8))\n",
    "    ax1.bar(x1, acc1, width=20)\n",
    "    ax1.set_title(name1)\n",
    "    ax2.bar(x2, acc2, width=20)\n",
    "    ax2.set_title(name2)\n",
    "    plt.xticks(x, x)\n",
    "    plt.show()"
   ]
  },
  {
   "cell_type": "code",
   "execution_count": 44,
   "metadata": {},
   "outputs": [
    {
     "data": {
      "image/png": "[encoded data removed]",
      "text/plain": [
       "<Figure size 1296x576 with 2 Axes>"
      ]
     },
     "metadata": {
      "needs_background": "light"
     },
     "output_type": "display_data"
    }
   ],
   "source": [
    "two_plots(df_random, df_unsure, \"random\", \"unsure\")"
   ]
  },
  {
   "cell_type": "code",
   "execution_count": 45,
   "metadata": {},
   "outputs": [
    {
     "data": {
      "image/png": "[encoded data removed]",
      "text/plain": [
       "<Figure size 1296x576 with 2 Axes>"
      ]
     },
     "metadata": {
      "needs_background": "light"
     },
     "output_type": "display_data"
    }
   ],
   "source": [
    "two_plots(df_random, df_cluster10, \"random\", \"cluster_one_model_10_clusters\")"
   ]
  },
  {
   "cell_type": "code",
   "execution_count": 47,
   "metadata": {},
   "outputs": [
    {
     "data": {
      "image/png": "[encoded data removed]",
      "text/plain": [
       "<Figure size 1296x576 with 2 Axes>"
      ]
     },
     "metadata": {
      "needs_background": "light"
     },
     "output_type": "display_data"
    }
   ],
   "source": [
    "two_plots(df_unsure, df_cluster8, \"unsure\", \"cluster_one_model_8_clusters\")"
   ]
  },
  {
   "cell_type": "code",
   "execution_count": 49,
   "metadata": {},
   "outputs": [
    {
     "data": {
      "image/png": "[encoded data removed]",
      "text/plain": [
       "<Figure size 1296x576 with 2 Axes>"
      ]
     },
     "metadata": {
      "needs_background": "light"
     },
     "output_type": "display_data"
    }
   ],
   "source": [
    "two_plots(df_cluster6, df_cluster8, \"cluster_one_model_6_clusters\", \"cluster_one_model_8_clusters\")"
   ]
  },
  {
   "cell_type": "code",
   "execution_count": null,
   "metadata": {},
   "outputs": [],
   "source": []
  },
  {
   "cell_type": "code",
   "execution_count": null,
   "metadata": {},
   "outputs": [],
   "source": []
  },
  {
   "cell_type": "code",
   "execution_count": null,
   "metadata": {},
   "outputs": [],
   "source": []
  },
  {
   "cell_type": "code",
   "execution_count": null,
   "metadata": {},
   "outputs": [],
   "source": []
  },
  {
   "cell_type": "code",
   "execution_count": null,
   "metadata": {},
   "outputs": [],
   "source": []
  },
  {
   "cell_type": "code",
   "execution_count": 15,
   "metadata": {
    "scrolled": false
   },
   "outputs": [
    {
     "name": "stdout",
     "output_type": "stream",
     "text": [
      "[100, 200, 300, 400, 500, 600, 700, 800, 900, 1000, 1100, 1200, 1300, 1400]\n",
      "[0.508, 0.532, 0.48, 0.582, 0.557, 0.613, 0.66, 0.63, 0.632, 0.66, 0.66, 0.618, 0.64, 0.769]\n"
     ]
    },
    {
     "data": {
      "image/png": "[encoded data removed]",
      "text/plain": [
       "<Figure size 1296x576 with 1 Axes>"
      ]
     },
     "metadata": {
      "needs_background": "light"
     },
     "output_type": "display_data"
    }
   ],
   "source": [
    "x = [i for i in range(100, 100*(len(df_random)+1), 100)]\n",
    "print(x)\n",
    "acc = list(df_random[\"avg\"])\n",
    "print(acc)\n",
    "fig, ax = plt.subplots(figsize=(18,8))\n",
    "plt.bar(x, acc, width=20)\n",
    "plt.xticks(x, x)\n",
    "plt.show()"
   ]
  },
  {
   "cell_type": "code",
   "execution_count": null,
   "metadata": {},
   "outputs": [],
   "source": []
  }
 ],
 "metadata": {
  "kernelspec": {
   "display_name": "Python 3",
   "language": "python",
   "name": "python3"
  },
  "language_info": {
   "codemirror_mode": {
    "name": "ipython",
    "version": 3
   },
   "file_extension": ".py",
   "mimetype": "text/x-python",
   "name": "python",
   "nbconvert_exporter": "python",
   "pygments_lexer": "ipython3",
   "version": "3.5.6"
  },
  "latex_envs": {
   "LaTeX_envs_menu_present": true,
   "autoclose": false,
   "autocomplete": true,
   "bibliofile": "biblio.bib",
   "cite_by": "apalike",
   "current_citInitial": 1,
   "eqLabelWithNumbers": true,
   "eqNumInitial": 1,
   "hotkeys": {
    "equation": "Ctrl-E",
    "itemize": "Ctrl-I"
   },
   "labels_anchors": false,
   "latex_user_defs": false,
   "report_style_numbering": false,
   "user_envs_cfg": false
  }
 },
 "nbformat": 4,
 "nbformat_minor": 2
}
