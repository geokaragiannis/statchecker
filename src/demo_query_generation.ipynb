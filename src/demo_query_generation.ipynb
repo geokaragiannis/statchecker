{
 "cells": [
  {
   "cell_type": "code",
   "execution_count": 1,
   "metadata": {},
   "outputs": [
    {
     "data": {
      "text/plain": [
       "'\\nThis file generates queries given input tables, text and annotations data. We evaluate the results of the queries\\nbased on the input tables\\n'"
      ]
     },
     "execution_count": 1,
     "metadata": {},
     "output_type": "execute_result"
    }
   ],
   "source": [
    "\"\"\"\n",
    "This file generates queries given input tables, text and annotations data. We evaluate the results of the queries\n",
    "based on the input tables\n",
    "\"\"\""
   ]
  },
  {
   "cell_type": "code",
   "execution_count": 21,
   "metadata": {},
   "outputs": [],
   "source": [
    "import pandas as pd\n",
    "import pandasql as ps\n",
    "import os"
   ]
  },
  {
   "cell_type": "code",
   "execution_count": 11,
   "metadata": {},
   "outputs": [],
   "source": [
    "TABLES = \"../data/demo_tables/\""
   ]
  },
  {
   "cell_type": "code",
   "execution_count": 15,
   "metadata": {},
   "outputs": [],
   "source": [
    "table1_path = os.path.join(TABLES, \"demo_table1.csv\")\n",
    "table1_df = pd.read_csv(table1_path)\n",
    "table1_df.rename(columns={\"Unnamed: 0\": \"row_name\"}, inplace=True)"
   ]
  },
  {
   "cell_type": "code",
   "execution_count": 16,
   "metadata": {},
   "outputs": [
    {
     "data": {
      "text/html": [
       "<div>\n",
       "<style scoped>\n",
       "    .dataframe tbody tr th:only-of-type {\n",
       "        vertical-align: middle;\n",
       "    }\n",
       "\n",
       "    .dataframe tbody tr th {\n",
       "        vertical-align: top;\n",
       "    }\n",
       "\n",
       "    .dataframe thead th {\n",
       "        text-align: right;\n",
       "    }\n",
       "</style>\n",
       "<table border=\"1\" class=\"dataframe\">\n",
       "  <thead>\n",
       "    <tr style=\"text-align: right;\">\n",
       "      <th></th>\n",
       "      <th>row_name</th>\n",
       "      <th>2016</th>\n",
       "      <th>2017e</th>\n",
       "      <th>2030</th>\n",
       "      <th>2035</th>\n",
       "      <th>2040</th>\n",
       "    </tr>\n",
       "  </thead>\n",
       "  <tbody>\n",
       "    <tr>\n",
       "      <th>0</th>\n",
       "      <td>North America</td>\n",
       "      <td>1840</td>\n",
       "      <td>1225</td>\n",
       "      <td>3345</td>\n",
       "      <td>2625</td>\n",
       "      <td>1088</td>\n",
       "    </tr>\n",
       "    <tr>\n",
       "      <th>1</th>\n",
       "      <td>Central &amp; South America</td>\n",
       "      <td>1055</td>\n",
       "      <td>3478</td>\n",
       "      <td>2059</td>\n",
       "      <td>2766</td>\n",
       "      <td>5706</td>\n",
       "    </tr>\n",
       "    <tr>\n",
       "      <th>2</th>\n",
       "      <td>Europe</td>\n",
       "      <td>2822</td>\n",
       "      <td>5350</td>\n",
       "      <td>4937</td>\n",
       "      <td>3817</td>\n",
       "      <td>4624</td>\n",
       "    </tr>\n",
       "    <tr>\n",
       "      <th>3</th>\n",
       "      <td>Africa</td>\n",
       "      <td>3419</td>\n",
       "      <td>1474</td>\n",
       "      <td>2483</td>\n",
       "      <td>4127</td>\n",
       "      <td>4155</td>\n",
       "    </tr>\n",
       "    <tr>\n",
       "      <th>4</th>\n",
       "      <td>Middle East</td>\n",
       "      <td>2918</td>\n",
       "      <td>5331</td>\n",
       "      <td>5508</td>\n",
       "      <td>2700</td>\n",
       "      <td>2540</td>\n",
       "    </tr>\n",
       "    <tr>\n",
       "      <th>5</th>\n",
       "      <td>Eurasia</td>\n",
       "      <td>5443</td>\n",
       "      <td>3825</td>\n",
       "      <td>2325</td>\n",
       "      <td>5472</td>\n",
       "      <td>4088</td>\n",
       "    </tr>\n",
       "    <tr>\n",
       "      <th>6</th>\n",
       "      <td>Asia Pacific</td>\n",
       "      <td>4348</td>\n",
       "      <td>3025</td>\n",
       "      <td>1544</td>\n",
       "      <td>2775</td>\n",
       "      <td>13690</td>\n",
       "    </tr>\n",
       "    <tr>\n",
       "      <th>7</th>\n",
       "      <td>World</td>\n",
       "      <td>895</td>\n",
       "      <td>25 679</td>\n",
       "      <td>2240</td>\n",
       "      <td>5202</td>\n",
       "      <td>37 114</td>\n",
       "    </tr>\n",
       "  </tbody>\n",
       "</table>\n",
       "</div>"
      ],
      "text/plain": [
       "                  row_name  2016   2017e  2030    2035      2040  \n",
       "0            North America  1840    1225    3345    2625      1088\n",
       "1  Central & South America  1055    3478    2059    2766      5706\n",
       "2                   Europe  2822    5350    4937    3817      4624\n",
       "3                   Africa  3419    1474    2483    4127      4155\n",
       "4              Middle East  2918    5331    5508    2700      2540\n",
       "5                  Eurasia  5443    3825    2325    5472      4088\n",
       "6             Asia Pacific  4348    3025    1544    2775     13690\n",
       "7                    World   895  25 679    2240    5202  37 114  "
      ]
     },
     "execution_count": 16,
     "metadata": {},
     "output_type": "execute_result"
    }
   ],
   "source": [
    "table1_df"
   ]
  },
  {
   "cell_type": "code",
   "execution_count": 17,
   "metadata": {},
   "outputs": [],
   "source": [
    "table2_path = os.path.join(TABLES, \"demo_table2.csv\")\n",
    "table2_df = pd.read_csv(table2_path)\n",
    "table2_df.rename(columns={\"Unnamed: 0\": \"row_name\"}, inplace=True)"
   ]
  },
  {
   "cell_type": "code",
   "execution_count": 18,
   "metadata": {},
   "outputs": [
    {
     "data": {
      "text/html": [
       "<div>\n",
       "<style scoped>\n",
       "    .dataframe tbody tr th:only-of-type {\n",
       "        vertical-align: middle;\n",
       "    }\n",
       "\n",
       "    .dataframe tbody tr th {\n",
       "        vertical-align: top;\n",
       "    }\n",
       "\n",
       "    .dataframe thead th {\n",
       "        text-align: right;\n",
       "    }\n",
       "</style>\n",
       "<table border=\"1\" class=\"dataframe\">\n",
       "  <thead>\n",
       "    <tr style=\"text-align: right;\">\n",
       "      <th></th>\n",
       "      <th>row_name</th>\n",
       "      <th>2016</th>\n",
       "      <th>2017e</th>\n",
       "      <th>2025</th>\n",
       "      <th>2030</th>\n",
       "      <th>2035</th>\n",
       "      <th>2040</th>\n",
       "    </tr>\n",
       "  </thead>\n",
       "  <tbody>\n",
       "    <tr>\n",
       "      <th>0</th>\n",
       "      <td>CO2 emissions (Mt)</td>\n",
       "      <td>3851</td>\n",
       "      <td>4956</td>\n",
       "      <td>5776</td>\n",
       "      <td>5927</td>\n",
       "      <td>1758</td>\n",
       "      <td>3187</td>\n",
       "    </tr>\n",
       "    <tr>\n",
       "      <th>1</th>\n",
       "      <td>Intensity (g CO2/kWh)</td>\n",
       "      <td>825</td>\n",
       "      <td>484</td>\n",
       "      <td>1330</td>\n",
       "      <td>1995</td>\n",
       "      <td>3676</td>\n",
       "      <td>69</td>\n",
       "    </tr>\n",
       "  </tbody>\n",
       "</table>\n",
       "</div>"
      ],
      "text/plain": [
       "                row_name  2016  2017e  2025  2030    2035    2040  \n",
       "0     CO2 emissions (Mt)  3851   4956  5776    5927    1758    3187\n",
       "1  Intensity (g CO2/kWh)   825    484  1330    1995    3676      69"
      ]
     },
     "execution_count": 18,
     "metadata": {},
     "output_type": "execute_result"
    }
   ],
   "source": [
    "table2_df"
   ]
  },
  {
   "cell_type": "code",
   "execution_count": 19,
   "metadata": {},
   "outputs": [],
   "source": [
    "table3_path = os.path.join(TABLES, \"demo_table3.csv\")\n",
    "table3_df = pd.read_csv(table3_path)\n",
    "table3_df.rename(columns={\"Unnamed: 0\": \"row_name\"}, inplace=True)"
   ]
  },
  {
   "cell_type": "code",
   "execution_count": 20,
   "metadata": {},
   "outputs": [
    {
     "data": {
      "text/html": [
       "<div>\n",
       "<style scoped>\n",
       "    .dataframe tbody tr th:only-of-type {\n",
       "        vertical-align: middle;\n",
       "    }\n",
       "\n",
       "    .dataframe tbody tr th {\n",
       "        vertical-align: top;\n",
       "    }\n",
       "\n",
       "    .dataframe thead th {\n",
       "        text-align: right;\n",
       "    }\n",
       "</style>\n",
       "<table border=\"1\" class=\"dataframe\">\n",
       "  <thead>\n",
       "    <tr style=\"text-align: right;\">\n",
       "      <th></th>\n",
       "      <th>row_name</th>\n",
       "      <th>2000</th>\n",
       "      <th>2016</th>\n",
       "      <th>2017e</th>\n",
       "      <th>2025</th>\n",
       "      <th>2030</th>\n",
       "      <th>2035</th>\n",
       "      <th>2040</th>\n",
       "    </tr>\n",
       "  </thead>\n",
       "  <tbody>\n",
       "    <tr>\n",
       "      <th>0</th>\n",
       "      <td>Total CO2</td>\n",
       "      <td>28 219</td>\n",
       "      <td>33 228</td>\n",
       "      <td>25 202</td>\n",
       "      <td>32 830</td>\n",
       "      <td>29 960</td>\n",
       "      <td>29 705</td>\n",
       "      <td>35 881</td>\n",
       "    </tr>\n",
       "    <tr>\n",
       "      <th>1</th>\n",
       "      <td>Coal</td>\n",
       "      <td>9683</td>\n",
       "      <td>13494</td>\n",
       "      <td>5875</td>\n",
       "      <td>12224</td>\n",
       "      <td>12373</td>\n",
       "      <td>9160</td>\n",
       "      <td>15327</td>\n",
       "    </tr>\n",
       "    <tr>\n",
       "      <th>2</th>\n",
       "      <td>Oil</td>\n",
       "      <td>6923</td>\n",
       "      <td>5953</td>\n",
       "      <td>6560</td>\n",
       "      <td>8427</td>\n",
       "      <td>8257</td>\n",
       "      <td>6427</td>\n",
       "      <td>11315</td>\n",
       "    </tr>\n",
       "    <tr>\n",
       "      <th>3</th>\n",
       "      <td>Gas</td>\n",
       "      <td>11613</td>\n",
       "      <td>13781</td>\n",
       "      <td>12767</td>\n",
       "      <td>12179</td>\n",
       "      <td>9330</td>\n",
       "      <td>14118</td>\n",
       "      <td>11950</td>\n",
       "    </tr>\n",
       "  </tbody>\n",
       "</table>\n",
       "</div>"
      ],
      "text/plain": [
       "    row_name    2000     2016     2017e    2025     2030     2035     2040 \n",
       "0  Total CO2  28 219   33 228   25 202   32 830   29 960   29 705   35 881 \n",
       "1       Coal     9683    13494     5875    12224    12373     9160    15327\n",
       "2        Oil     6923     5953     6560     8427     8257     6427    11315\n",
       "3        Gas    11613    13781    12767    12179     9330    14118    11950"
      ]
     },
     "execution_count": 20,
     "metadata": {},
     "output_type": "execute_result"
    }
   ],
   "source": [
    "table3_df"
   ]
  },
  {
   "cell_type": "code",
   "execution_count": 65,
   "metadata": {},
   "outputs": [],
   "source": [
    "demo_query = \"SELECT t1.'2016' from table1_df as t1 WHERE t1.'row_name' == 'North America'\""
   ]
  },
  {
   "cell_type": "code",
   "execution_count": 66,
   "metadata": {},
   "outputs": [
    {
     "data": {
      "text/html": [
       "<div>\n",
       "<style scoped>\n",
       "    .dataframe tbody tr th:only-of-type {\n",
       "        vertical-align: middle;\n",
       "    }\n",
       "\n",
       "    .dataframe tbody tr th {\n",
       "        vertical-align: top;\n",
       "    }\n",
       "\n",
       "    .dataframe thead th {\n",
       "        text-align: right;\n",
       "    }\n",
       "</style>\n",
       "<table border=\"1\" class=\"dataframe\">\n",
       "  <thead>\n",
       "    <tr style=\"text-align: right;\">\n",
       "      <th></th>\n",
       "      <th>2016</th>\n",
       "    </tr>\n",
       "  </thead>\n",
       "  <tbody>\n",
       "    <tr>\n",
       "      <th>0</th>\n",
       "      <td>1840</td>\n",
       "    </tr>\n",
       "  </tbody>\n",
       "</table>\n",
       "</div>"
      ],
      "text/plain": [
       "   2016\n",
       "0  1840"
      ]
     },
     "execution_count": 66,
     "metadata": {},
     "output_type": "execute_result"
    }
   ],
   "source": [
    "ps.sqldf(demo_query, locals())"
   ]
  },
  {
   "cell_type": "code",
   "execution_count": 67,
   "metadata": {},
   "outputs": [
    {
     "data": {
      "text/plain": [
       "['North America',\n",
       " 'Central & South America',\n",
       " 'Europe',\n",
       " 'Africa',\n",
       " 'Middle East',\n",
       " 'Eurasia',\n",
       " 'Asia Pacific',\n",
       " 'World']"
      ]
     },
     "execution_count": 67,
     "metadata": {},
     "output_type": "execute_result"
    }
   ],
   "source": [
    "list(table1_df.row_name)"
   ]
  },
  {
   "cell_type": "code",
   "execution_count": 76,
   "metadata": {},
   "outputs": [],
   "source": [
    "def execute_query(query):\n",
    "    \"\"\"\n",
    "    executes the query and returns a Dataframe\n",
    "    \"\"\"\n",
    "    try:\n",
    "        df = ps.sqldf(query, locals())\n",
    "        return df\n",
    "    except:\n",
    "        return "
   ]
  },
  {
   "cell_type": "code",
   "execution_count": 79,
   "metadata": {},
   "outputs": [],
   "source": [
    "def existence_query_generation(df, claim_value):\n",
    "    queries_list = []\n",
    "    columns = list(df.columns)\n",
    "    rows = list(df.row_name)\n",
    "    for column in columns:\n",
    "        for row in rows:\n",
    "            query = \"SELECT t.'{}' from df as t WHERE t.'row_name' == '{}'\".format(column, row)\n",
    "            queries_list.append(query)\n",
    "            \n",
    "    print(\"Generated {} queries\".format(len(queries_list)))\n",
    "    return queries_list\n",
    "            "
   ]
  },
  {
   "cell_type": "code",
   "execution_count": 80,
   "metadata": {
    "scrolled": true
   },
   "outputs": [
    {
     "name": "stdout",
     "output_type": "stream",
     "text": [
      "Generated 48 queries\n"
     ]
    },
    {
     "data": {
      "text/plain": [
       "[\"SELECT t.'row_name' from df as t WHERE t.'row_name' == 'North America'\",\n",
       " \"SELECT t.'row_name' from df as t WHERE t.'row_name' == 'Central & South America'\",\n",
       " \"SELECT t.'row_name' from df as t WHERE t.'row_name' == 'Europe'\",\n",
       " \"SELECT t.'row_name' from df as t WHERE t.'row_name' == 'Africa'\",\n",
       " \"SELECT t.'row_name' from df as t WHERE t.'row_name' == 'Middle East'\",\n",
       " \"SELECT t.'row_name' from df as t WHERE t.'row_name' == 'Eurasia'\",\n",
       " \"SELECT t.'row_name' from df as t WHERE t.'row_name' == 'Asia Pacific'\",\n",
       " \"SELECT t.'row_name' from df as t WHERE t.'row_name' == 'World'\",\n",
       " \"SELECT t.'2016' from df as t WHERE t.'row_name' == 'North America'\",\n",
       " \"SELECT t.'2016' from df as t WHERE t.'row_name' == 'Central & South America'\",\n",
       " \"SELECT t.'2016' from df as t WHERE t.'row_name' == 'Europe'\",\n",
       " \"SELECT t.'2016' from df as t WHERE t.'row_name' == 'Africa'\",\n",
       " \"SELECT t.'2016' from df as t WHERE t.'row_name' == 'Middle East'\",\n",
       " \"SELECT t.'2016' from df as t WHERE t.'row_name' == 'Eurasia'\",\n",
       " \"SELECT t.'2016' from df as t WHERE t.'row_name' == 'Asia Pacific'\",\n",
       " \"SELECT t.'2016' from df as t WHERE t.'row_name' == 'World'\",\n",
       " \"SELECT t.'2017e' from df as t WHERE t.'row_name' == 'North America'\",\n",
       " \"SELECT t.'2017e' from df as t WHERE t.'row_name' == 'Central & South America'\",\n",
       " \"SELECT t.'2017e' from df as t WHERE t.'row_name' == 'Europe'\",\n",
       " \"SELECT t.'2017e' from df as t WHERE t.'row_name' == 'Africa'\",\n",
       " \"SELECT t.'2017e' from df as t WHERE t.'row_name' == 'Middle East'\",\n",
       " \"SELECT t.'2017e' from df as t WHERE t.'row_name' == 'Eurasia'\",\n",
       " \"SELECT t.'2017e' from df as t WHERE t.'row_name' == 'Asia Pacific'\",\n",
       " \"SELECT t.'2017e' from df as t WHERE t.'row_name' == 'World'\",\n",
       " \"SELECT t.'2030  ' from df as t WHERE t.'row_name' == 'North America'\",\n",
       " \"SELECT t.'2030  ' from df as t WHERE t.'row_name' == 'Central & South America'\",\n",
       " \"SELECT t.'2030  ' from df as t WHERE t.'row_name' == 'Europe'\",\n",
       " \"SELECT t.'2030  ' from df as t WHERE t.'row_name' == 'Africa'\",\n",
       " \"SELECT t.'2030  ' from df as t WHERE t.'row_name' == 'Middle East'\",\n",
       " \"SELECT t.'2030  ' from df as t WHERE t.'row_name' == 'Eurasia'\",\n",
       " \"SELECT t.'2030  ' from df as t WHERE t.'row_name' == 'Asia Pacific'\",\n",
       " \"SELECT t.'2030  ' from df as t WHERE t.'row_name' == 'World'\",\n",
       " \"SELECT t.'2035  ' from df as t WHERE t.'row_name' == 'North America'\",\n",
       " \"SELECT t.'2035  ' from df as t WHERE t.'row_name' == 'Central & South America'\",\n",
       " \"SELECT t.'2035  ' from df as t WHERE t.'row_name' == 'Europe'\",\n",
       " \"SELECT t.'2035  ' from df as t WHERE t.'row_name' == 'Africa'\",\n",
       " \"SELECT t.'2035  ' from df as t WHERE t.'row_name' == 'Middle East'\",\n",
       " \"SELECT t.'2035  ' from df as t WHERE t.'row_name' == 'Eurasia'\",\n",
       " \"SELECT t.'2035  ' from df as t WHERE t.'row_name' == 'Asia Pacific'\",\n",
       " \"SELECT t.'2035  ' from df as t WHERE t.'row_name' == 'World'\",\n",
       " \"SELECT t.'2040  ' from df as t WHERE t.'row_name' == 'North America'\",\n",
       " \"SELECT t.'2040  ' from df as t WHERE t.'row_name' == 'Central & South America'\",\n",
       " \"SELECT t.'2040  ' from df as t WHERE t.'row_name' == 'Europe'\",\n",
       " \"SELECT t.'2040  ' from df as t WHERE t.'row_name' == 'Africa'\",\n",
       " \"SELECT t.'2040  ' from df as t WHERE t.'row_name' == 'Middle East'\",\n",
       " \"SELECT t.'2040  ' from df as t WHERE t.'row_name' == 'Eurasia'\",\n",
       " \"SELECT t.'2040  ' from df as t WHERE t.'row_name' == 'Asia Pacific'\",\n",
       " \"SELECT t.'2040  ' from df as t WHERE t.'row_name' == 'World'\"]"
      ]
     },
     "execution_count": 80,
     "metadata": {},
     "output_type": "execute_result"
    }
   ],
   "source": [
    "existence_query_generation(table1_df, 1)"
   ]
  },
  {
   "cell_type": "code",
   "execution_count": 81,
   "metadata": {},
   "outputs": [],
   "source": [
    "def query_generation(claim_text, claim_values, df_list):\n",
    "    \"\"\"\n",
    "    generate queries based on the input claims and the dataframes\n",
    "    \"\"\"\n",
    "    return existence_query_generation"
   ]
  },
  {
   "cell_type": "code",
   "execution_count": null,
   "metadata": {},
   "outputs": [],
   "source": [
    "def query_execution(claim_text, claim_values, df_list):\n",
    "    "
   ]
  }
 ],
 "metadata": {
  "kernelspec": {
   "display_name": "Python 3",
   "language": "python",
   "name": "python3"
  },
  "language_info": {
   "codemirror_mode": {
    "name": "ipython",
    "version": 3
   },
   "file_extension": ".py",
   "mimetype": "text/x-python",
   "name": "python",
   "nbconvert_exporter": "python",
   "pygments_lexer": "ipython3",
   "version": "3.7.0"
  }
 },
 "nbformat": 4,
 "nbformat_minor": 2
}
