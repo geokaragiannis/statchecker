{
 "cells": [
  {
   "cell_type": "code",
   "execution_count": 1,
   "metadata": {},
   "outputs": [
    {
     "data": {
      "text/plain": [
       "'\\nThis file generates queries given input tables, text and annotations data. We evaluate the results of the queries\\nbased on the input tables\\n'"
      ]
     },
     "execution_count": 1,
     "metadata": {},
     "output_type": "execute_result"
    }
   ],
   "source": [
    "\"\"\"\n",
    "This file generates queries given input tables, text and annotations data. We evaluate the results of the queries\n",
    "based on the input tables\n",
    "\"\"\""
   ]
  },
  {
   "cell_type": "code",
   "execution_count": 82,
   "metadata": {},
   "outputs": [],
   "source": [
    "import pandas as pd\n",
    "import pandasql as ps\n",
    "import os\n",
    "import math"
   ]
  },
  {
   "cell_type": "code",
   "execution_count": 83,
   "metadata": {},
   "outputs": [],
   "source": [
    "TABLES = \"../data/demo_tables/\""
   ]
  },
  {
   "cell_type": "code",
   "execution_count": 84,
   "metadata": {},
   "outputs": [],
   "source": [
    "table1_path = os.path.join(TABLES, \"demo_table1.csv\")\n",
    "table1_df = pd.read_csv(table1_path)\n",
    "table1_df.rename(columns={\"Unnamed: 0\": \"row_name\"}, inplace=True)\n",
    "table1_df.name = \"table1_df\""
   ]
  },
  {
   "cell_type": "code",
   "execution_count": 85,
   "metadata": {},
   "outputs": [
    {
     "data": {
      "text/html": [
       "<div>\n",
       "<style scoped>\n",
       "    .dataframe tbody tr th:only-of-type {\n",
       "        vertical-align: middle;\n",
       "    }\n",
       "\n",
       "    .dataframe tbody tr th {\n",
       "        vertical-align: top;\n",
       "    }\n",
       "\n",
       "    .dataframe thead th {\n",
       "        text-align: right;\n",
       "    }\n",
       "</style>\n",
       "<table border=\"1\" class=\"dataframe\">\n",
       "  <thead>\n",
       "    <tr style=\"text-align: right;\">\n",
       "      <th></th>\n",
       "      <th>row_name</th>\n",
       "      <th>2016</th>\n",
       "      <th>2017e</th>\n",
       "      <th>2030</th>\n",
       "      <th>2035</th>\n",
       "      <th>2040</th>\n",
       "    </tr>\n",
       "  </thead>\n",
       "  <tbody>\n",
       "    <tr>\n",
       "      <th>0</th>\n",
       "      <td>North America</td>\n",
       "      <td>4425</td>\n",
       "      <td>5680</td>\n",
       "      <td>1120</td>\n",
       "      <td>5653</td>\n",
       "      <td>1550</td>\n",
       "    </tr>\n",
       "    <tr>\n",
       "      <th>1</th>\n",
       "      <td>Central &amp; South America</td>\n",
       "      <td>2330</td>\n",
       "      <td>3920</td>\n",
       "      <td>2131</td>\n",
       "      <td>1375</td>\n",
       "      <td>3045</td>\n",
       "    </tr>\n",
       "    <tr>\n",
       "      <th>2</th>\n",
       "      <td>Europe</td>\n",
       "      <td>2708</td>\n",
       "      <td>2376</td>\n",
       "      <td>2053</td>\n",
       "      <td>887</td>\n",
       "      <td>3670</td>\n",
       "    </tr>\n",
       "    <tr>\n",
       "      <th>3</th>\n",
       "      <td>Africa</td>\n",
       "      <td>2257</td>\n",
       "      <td>1305</td>\n",
       "      <td>2217</td>\n",
       "      <td>5788</td>\n",
       "      <td>2922</td>\n",
       "    </tr>\n",
       "    <tr>\n",
       "      <th>4</th>\n",
       "      <td>Middle East</td>\n",
       "      <td>4151</td>\n",
       "      <td>5830</td>\n",
       "      <td>2033</td>\n",
       "      <td>4962</td>\n",
       "      <td>1402</td>\n",
       "    </tr>\n",
       "    <tr>\n",
       "      <th>5</th>\n",
       "      <td>Eurasia</td>\n",
       "      <td>4664</td>\n",
       "      <td>4901</td>\n",
       "      <td>1262</td>\n",
       "      <td>2096</td>\n",
       "      <td>3242</td>\n",
       "    </tr>\n",
       "    <tr>\n",
       "      <th>6</th>\n",
       "      <td>Asia Pacific</td>\n",
       "      <td>5304</td>\n",
       "      <td>3025</td>\n",
       "      <td>5624</td>\n",
       "      <td>2718</td>\n",
       "      <td>13690</td>\n",
       "    </tr>\n",
       "    <tr>\n",
       "      <th>7</th>\n",
       "      <td>World</td>\n",
       "      <td>1328</td>\n",
       "      <td>25679</td>\n",
       "      <td>3570</td>\n",
       "      <td>4582</td>\n",
       "      <td>37114</td>\n",
       "    </tr>\n",
       "  </tbody>\n",
       "</table>\n",
       "</div>"
      ],
      "text/plain": [
       "                  row_name  2016  2017e  2030  2035   2040\n",
       "0            North America  4425   5680  1120  5653   1550\n",
       "1  Central & South America  2330   3920  2131  1375   3045\n",
       "2                   Europe  2708   2376  2053   887   3670\n",
       "3                   Africa  2257   1305  2217  5788   2922\n",
       "4              Middle East  4151   5830  2033  4962   1402\n",
       "5                  Eurasia  4664   4901  1262  2096   3242\n",
       "6             Asia Pacific  5304   3025  5624  2718  13690\n",
       "7                    World  1328  25679  3570  4582  37114"
      ]
     },
     "execution_count": 85,
     "metadata": {},
     "output_type": "execute_result"
    }
   ],
   "source": [
    "table1_df"
   ]
  },
  {
   "cell_type": "code",
   "execution_count": 6,
   "metadata": {},
   "outputs": [],
   "source": [
    "table2_path = os.path.join(TABLES, \"demo_table2.csv\")\n",
    "table2_df = pd.read_csv(table2_path)\n",
    "table2_df.rename(columns={\"Unnamed: 0\": \"row_name\"}, inplace=True)\n",
    "table2_df.name = \"table2_df\""
   ]
  },
  {
   "cell_type": "code",
   "execution_count": 7,
   "metadata": {},
   "outputs": [
    {
     "data": {
      "text/html": [
       "<div>\n",
       "<style scoped>\n",
       "    .dataframe tbody tr th:only-of-type {\n",
       "        vertical-align: middle;\n",
       "    }\n",
       "\n",
       "    .dataframe tbody tr th {\n",
       "        vertical-align: top;\n",
       "    }\n",
       "\n",
       "    .dataframe thead th {\n",
       "        text-align: right;\n",
       "    }\n",
       "</style>\n",
       "<table border=\"1\" class=\"dataframe\">\n",
       "  <thead>\n",
       "    <tr style=\"text-align: right;\">\n",
       "      <th></th>\n",
       "      <th>row_name</th>\n",
       "      <th>2016</th>\n",
       "      <th>2017e</th>\n",
       "      <th>2025</th>\n",
       "      <th>2030</th>\n",
       "      <th>2035</th>\n",
       "      <th>2040</th>\n",
       "    </tr>\n",
       "  </thead>\n",
       "  <tbody>\n",
       "    <tr>\n",
       "      <th>0</th>\n",
       "      <td>CO2 emissions (Mt)</td>\n",
       "      <td>3851</td>\n",
       "      <td>4956</td>\n",
       "      <td>5776</td>\n",
       "      <td>5927</td>\n",
       "      <td>1758</td>\n",
       "      <td>3187</td>\n",
       "    </tr>\n",
       "    <tr>\n",
       "      <th>1</th>\n",
       "      <td>Intensity (g CO2/kWh)</td>\n",
       "      <td>825</td>\n",
       "      <td>484</td>\n",
       "      <td>1330</td>\n",
       "      <td>1995</td>\n",
       "      <td>3676</td>\n",
       "      <td>69</td>\n",
       "    </tr>\n",
       "  </tbody>\n",
       "</table>\n",
       "</div>"
      ],
      "text/plain": [
       "                row_name  2016  2017e  2025  2030    2035    2040  \n",
       "0     CO2 emissions (Mt)  3851   4956  5776    5927    1758    3187\n",
       "1  Intensity (g CO2/kWh)   825    484  1330    1995    3676      69"
      ]
     },
     "execution_count": 7,
     "metadata": {},
     "output_type": "execute_result"
    }
   ],
   "source": [
    "table2_df"
   ]
  },
  {
   "cell_type": "code",
   "execution_count": 8,
   "metadata": {},
   "outputs": [],
   "source": [
    "table3_path = os.path.join(TABLES, \"demo_table3.csv\")\n",
    "table3_df = pd.read_csv(table3_path)\n",
    "table3_df.rename(columns={\"Unnamed: 0\": \"row_name\"}, inplace=True)\n",
    "table3_df.name = \"table3_df\""
   ]
  },
  {
   "cell_type": "code",
   "execution_count": 9,
   "metadata": {},
   "outputs": [
    {
     "data": {
      "text/html": [
       "<div>\n",
       "<style scoped>\n",
       "    .dataframe tbody tr th:only-of-type {\n",
       "        vertical-align: middle;\n",
       "    }\n",
       "\n",
       "    .dataframe tbody tr th {\n",
       "        vertical-align: top;\n",
       "    }\n",
       "\n",
       "    .dataframe thead th {\n",
       "        text-align: right;\n",
       "    }\n",
       "</style>\n",
       "<table border=\"1\" class=\"dataframe\">\n",
       "  <thead>\n",
       "    <tr style=\"text-align: right;\">\n",
       "      <th></th>\n",
       "      <th>row_name</th>\n",
       "      <th>2000</th>\n",
       "      <th>2016</th>\n",
       "      <th>2017e</th>\n",
       "      <th>2025</th>\n",
       "      <th>2030</th>\n",
       "      <th>2035</th>\n",
       "      <th>2040</th>\n",
       "    </tr>\n",
       "  </thead>\n",
       "  <tbody>\n",
       "    <tr>\n",
       "      <th>0</th>\n",
       "      <td>Total CO2</td>\n",
       "      <td>28219</td>\n",
       "      <td>33228</td>\n",
       "      <td>25202</td>\n",
       "      <td>32830</td>\n",
       "      <td>29960</td>\n",
       "      <td>29705</td>\n",
       "      <td>35881</td>\n",
       "    </tr>\n",
       "    <tr>\n",
       "      <th>1</th>\n",
       "      <td>Coal</td>\n",
       "      <td>9683</td>\n",
       "      <td>13494</td>\n",
       "      <td>5875</td>\n",
       "      <td>12224</td>\n",
       "      <td>12373</td>\n",
       "      <td>9160</td>\n",
       "      <td>15327</td>\n",
       "    </tr>\n",
       "    <tr>\n",
       "      <th>2</th>\n",
       "      <td>Oil</td>\n",
       "      <td>6923</td>\n",
       "      <td>5953</td>\n",
       "      <td>6560</td>\n",
       "      <td>8427</td>\n",
       "      <td>8257</td>\n",
       "      <td>6427</td>\n",
       "      <td>11315</td>\n",
       "    </tr>\n",
       "    <tr>\n",
       "      <th>3</th>\n",
       "      <td>Gas</td>\n",
       "      <td>11613</td>\n",
       "      <td>13781</td>\n",
       "      <td>12767</td>\n",
       "      <td>12179</td>\n",
       "      <td>9330</td>\n",
       "      <td>14118</td>\n",
       "      <td>11950</td>\n",
       "    </tr>\n",
       "  </tbody>\n",
       "</table>\n",
       "</div>"
      ],
      "text/plain": [
       "    row_name  2000   2016   2017e  2025   2030   2035   2040 \n",
       "0  Total CO2  28219  33228  25202  32830  29960  29705  35881\n",
       "1       Coal   9683  13494   5875  12224  12373   9160  15327\n",
       "2        Oil   6923   5953   6560   8427   8257   6427  11315\n",
       "3        Gas  11613  13781  12767  12179   9330  14118  11950"
      ]
     },
     "execution_count": 9,
     "metadata": {},
     "output_type": "execute_result"
    }
   ],
   "source": [
    "table3_df"
   ]
  },
  {
   "cell_type": "code",
   "execution_count": 10,
   "metadata": {},
   "outputs": [
    {
     "data": {
      "text/plain": [
       "str"
      ]
     },
     "execution_count": 10,
     "metadata": {},
     "output_type": "execute_result"
    }
   ],
   "source": [
    "type(table3_df.iloc[0][\"row_name\"])"
   ]
  },
  {
   "cell_type": "code",
   "execution_count": 114,
   "metadata": {},
   "outputs": [],
   "source": [
    "demo_query = \"SELECT t1.'2035' from {} as t1 WHERE t1.'row_name' == 'North America'\".format(table1_df.name)"
   ]
  },
  {
   "cell_type": "code",
   "execution_count": 115,
   "metadata": {},
   "outputs": [],
   "source": [
    "a = ps.sqldf(demo_query, locals())"
   ]
  },
  {
   "cell_type": "code",
   "execution_count": 116,
   "metadata": {},
   "outputs": [
    {
     "data": {
      "text/html": [
       "<div>\n",
       "<style scoped>\n",
       "    .dataframe tbody tr th:only-of-type {\n",
       "        vertical-align: middle;\n",
       "    }\n",
       "\n",
       "    .dataframe tbody tr th {\n",
       "        vertical-align: top;\n",
       "    }\n",
       "\n",
       "    .dataframe thead th {\n",
       "        text-align: right;\n",
       "    }\n",
       "</style>\n",
       "<table border=\"1\" class=\"dataframe\">\n",
       "  <thead>\n",
       "    <tr style=\"text-align: right;\">\n",
       "      <th></th>\n",
       "      <th>2035</th>\n",
       "    </tr>\n",
       "  </thead>\n",
       "  <tbody>\n",
       "    <tr>\n",
       "      <th>0</th>\n",
       "      <td>2625.1</td>\n",
       "    </tr>\n",
       "  </tbody>\n",
       "</table>\n",
       "</div>"
      ],
      "text/plain": [
       "     2035\n",
       "0  2625.1"
      ]
     },
     "execution_count": 116,
     "metadata": {},
     "output_type": "execute_result"
    }
   ],
   "source": [
    "a"
   ]
  },
  {
   "cell_type": "code",
   "execution_count": 117,
   "metadata": {},
   "outputs": [
    {
     "data": {
      "text/plain": [
       "(float, (1, 1))"
      ]
     },
     "execution_count": 117,
     "metadata": {},
     "output_type": "execute_result"
    }
   ],
   "source": [
    "type(a.values.tolist()[0][0]), a.shape "
   ]
  },
  {
   "cell_type": "code",
   "execution_count": 13,
   "metadata": {},
   "outputs": [
    {
     "data": {
      "text/plain": [
       "1840"
      ]
     },
     "execution_count": 13,
     "metadata": {},
     "output_type": "execute_result"
    }
   ],
   "source": [
    "a.iloc[0][\"2016\"]"
   ]
  },
  {
   "cell_type": "code",
   "execution_count": 22,
   "metadata": {},
   "outputs": [
    {
     "data": {
      "text/plain": [
       "['row_name', '2016', '2017e', '2030', '2035', '2040']"
      ]
     },
     "execution_count": 22,
     "metadata": {},
     "output_type": "execute_result"
    }
   ],
   "source": [
    "list(table1_df.columns)"
   ]
  },
  {
   "cell_type": "code",
   "execution_count": 15,
   "metadata": {},
   "outputs": [],
   "source": [
    "def execute_query(query):\n",
    "    \"\"\"\n",
    "    executes the query and returns a Dataframe\n",
    "    \"\"\"\n",
    "    try:\n",
    "        df = ps.sqldf(query, locals())\n",
    "        return df\n",
    "    except:\n",
    "        return "
   ]
  },
  {
   "cell_type": "code",
   "execution_count": 88,
   "metadata": {},
   "outputs": [],
   "source": [
    "def existence_query_generation(df):\n",
    "    queries_list = []\n",
    "    columns = list(df.columns)\n",
    "    rows = list(df.row_name)\n",
    "    for column in columns:\n",
    "        for row in rows:\n",
    "            query = \"SELECT t.'{}' from {} as t WHERE t.'row_name' == '{}'\".format(column, df.name, row)\n",
    "            queries_list.append(query)\n",
    "            \n",
    "    print(\"Generated {} existence queries\".format(len(queries_list)))\n",
    "    return queries_list\n",
    "            "
   ]
  },
  {
   "cell_type": "code",
   "execution_count": 204,
   "metadata": {},
   "outputs": [],
   "source": [
    "def get_column_tuples(columns):\n",
    "    \"\"\"\n",
    "    given a columns list [\"a\", \"b\", \"c\", \"d\"] return a list\n",
    "    [('a', 'b'), ('a', 'c'), ('a', 'd'), ('b', 'c'), ('b', 'd'), ('c', 'd')]\n",
    "    \"\"\"\n",
    "    tuple_list = []\n",
    "    for idx, col in enumerate(columns):\n",
    "        t = tuple(columns[idx:])\n",
    "        first_item = t[0]\n",
    "        for a in t[1:]:\n",
    "            tuple_list.append((first_item, a))\n",
    "    return tuple_list"
   ]
  },
  {
   "cell_type": "code",
   "execution_count": 207,
   "metadata": {},
   "outputs": [],
   "source": [
    "def percentage_increase_query_generation(df):\n",
    "    queries_list = []\n",
    "    columns = list(df.columns)\n",
    "    rows = list(df.row_name)\n",
    "    column_tuples = get_column_tuples(columns)\n",
    "    for column_tuple in column_tuples:\n",
    "        for row in rows:\n",
    "            query = \"SELECT (t.'{}' - t.'{}')/t.'{}' from {} as t WHERE t.'row_name' == '{}'\".format(column_tuple[1], column_tuple[0], column_tuple[0], df.name, row)\n",
    "            queries_list.append(query)\n",
    "            \n",
    "    print(\"Generated {} percentage increase queries\".format(len(queries_list)))\n",
    "    return queries_list"
   ]
  },
  {
   "cell_type": "code",
   "execution_count": 208,
   "metadata": {
    "scrolled": true
   },
   "outputs": [
    {
     "name": "stdout",
     "output_type": "stream",
     "text": [
      "Generated 42 percentage increase queries\n"
     ]
    },
    {
     "data": {
      "text/plain": [
       "[\"SELECT (t.'2016' - t.'row_name')/t.'row_name' from table2_df as t WHERE t.'row_name' == 'CO2 emissions (Mt)'\",\n",
       " \"SELECT (t.'2016' - t.'row_name')/t.'row_name' from table2_df as t WHERE t.'row_name' == 'Intensity (g CO2/kWh)'\",\n",
       " \"SELECT (t.'2017e' - t.'row_name')/t.'row_name' from table2_df as t WHERE t.'row_name' == 'CO2 emissions (Mt)'\",\n",
       " \"SELECT (t.'2017e' - t.'row_name')/t.'row_name' from table2_df as t WHERE t.'row_name' == 'Intensity (g CO2/kWh)'\",\n",
       " \"SELECT (t.'2025' - t.'row_name')/t.'row_name' from table2_df as t WHERE t.'row_name' == 'CO2 emissions (Mt)'\",\n",
       " \"SELECT (t.'2025' - t.'row_name')/t.'row_name' from table2_df as t WHERE t.'row_name' == 'Intensity (g CO2/kWh)'\",\n",
       " \"SELECT (t.'2030  ' - t.'row_name')/t.'row_name' from table2_df as t WHERE t.'row_name' == 'CO2 emissions (Mt)'\",\n",
       " \"SELECT (t.'2030  ' - t.'row_name')/t.'row_name' from table2_df as t WHERE t.'row_name' == 'Intensity (g CO2/kWh)'\",\n",
       " \"SELECT (t.'2035  ' - t.'row_name')/t.'row_name' from table2_df as t WHERE t.'row_name' == 'CO2 emissions (Mt)'\",\n",
       " \"SELECT (t.'2035  ' - t.'row_name')/t.'row_name' from table2_df as t WHERE t.'row_name' == 'Intensity (g CO2/kWh)'\",\n",
       " \"SELECT (t.'2040  ' - t.'row_name')/t.'row_name' from table2_df as t WHERE t.'row_name' == 'CO2 emissions (Mt)'\",\n",
       " \"SELECT (t.'2040  ' - t.'row_name')/t.'row_name' from table2_df as t WHERE t.'row_name' == 'Intensity (g CO2/kWh)'\",\n",
       " \"SELECT (t.'2017e' - t.'2016')/t.'2016' from table2_df as t WHERE t.'row_name' == 'CO2 emissions (Mt)'\",\n",
       " \"SELECT (t.'2017e' - t.'2016')/t.'2016' from table2_df as t WHERE t.'row_name' == 'Intensity (g CO2/kWh)'\",\n",
       " \"SELECT (t.'2025' - t.'2016')/t.'2016' from table2_df as t WHERE t.'row_name' == 'CO2 emissions (Mt)'\",\n",
       " \"SELECT (t.'2025' - t.'2016')/t.'2016' from table2_df as t WHERE t.'row_name' == 'Intensity (g CO2/kWh)'\",\n",
       " \"SELECT (t.'2030  ' - t.'2016')/t.'2016' from table2_df as t WHERE t.'row_name' == 'CO2 emissions (Mt)'\",\n",
       " \"SELECT (t.'2030  ' - t.'2016')/t.'2016' from table2_df as t WHERE t.'row_name' == 'Intensity (g CO2/kWh)'\",\n",
       " \"SELECT (t.'2035  ' - t.'2016')/t.'2016' from table2_df as t WHERE t.'row_name' == 'CO2 emissions (Mt)'\",\n",
       " \"SELECT (t.'2035  ' - t.'2016')/t.'2016' from table2_df as t WHERE t.'row_name' == 'Intensity (g CO2/kWh)'\",\n",
       " \"SELECT (t.'2040  ' - t.'2016')/t.'2016' from table2_df as t WHERE t.'row_name' == 'CO2 emissions (Mt)'\",\n",
       " \"SELECT (t.'2040  ' - t.'2016')/t.'2016' from table2_df as t WHERE t.'row_name' == 'Intensity (g CO2/kWh)'\",\n",
       " \"SELECT (t.'2025' - t.'2017e')/t.'2017e' from table2_df as t WHERE t.'row_name' == 'CO2 emissions (Mt)'\",\n",
       " \"SELECT (t.'2025' - t.'2017e')/t.'2017e' from table2_df as t WHERE t.'row_name' == 'Intensity (g CO2/kWh)'\",\n",
       " \"SELECT (t.'2030  ' - t.'2017e')/t.'2017e' from table2_df as t WHERE t.'row_name' == 'CO2 emissions (Mt)'\",\n",
       " \"SELECT (t.'2030  ' - t.'2017e')/t.'2017e' from table2_df as t WHERE t.'row_name' == 'Intensity (g CO2/kWh)'\",\n",
       " \"SELECT (t.'2035  ' - t.'2017e')/t.'2017e' from table2_df as t WHERE t.'row_name' == 'CO2 emissions (Mt)'\",\n",
       " \"SELECT (t.'2035  ' - t.'2017e')/t.'2017e' from table2_df as t WHERE t.'row_name' == 'Intensity (g CO2/kWh)'\",\n",
       " \"SELECT (t.'2040  ' - t.'2017e')/t.'2017e' from table2_df as t WHERE t.'row_name' == 'CO2 emissions (Mt)'\",\n",
       " \"SELECT (t.'2040  ' - t.'2017e')/t.'2017e' from table2_df as t WHERE t.'row_name' == 'Intensity (g CO2/kWh)'\",\n",
       " \"SELECT (t.'2030  ' - t.'2025')/t.'2025' from table2_df as t WHERE t.'row_name' == 'CO2 emissions (Mt)'\",\n",
       " \"SELECT (t.'2030  ' - t.'2025')/t.'2025' from table2_df as t WHERE t.'row_name' == 'Intensity (g CO2/kWh)'\",\n",
       " \"SELECT (t.'2035  ' - t.'2025')/t.'2025' from table2_df as t WHERE t.'row_name' == 'CO2 emissions (Mt)'\",\n",
       " \"SELECT (t.'2035  ' - t.'2025')/t.'2025' from table2_df as t WHERE t.'row_name' == 'Intensity (g CO2/kWh)'\",\n",
       " \"SELECT (t.'2040  ' - t.'2025')/t.'2025' from table2_df as t WHERE t.'row_name' == 'CO2 emissions (Mt)'\",\n",
       " \"SELECT (t.'2040  ' - t.'2025')/t.'2025' from table2_df as t WHERE t.'row_name' == 'Intensity (g CO2/kWh)'\",\n",
       " \"SELECT (t.'2035  ' - t.'2030  ')/t.'2030  ' from table2_df as t WHERE t.'row_name' == 'CO2 emissions (Mt)'\",\n",
       " \"SELECT (t.'2035  ' - t.'2030  ')/t.'2030  ' from table2_df as t WHERE t.'row_name' == 'Intensity (g CO2/kWh)'\",\n",
       " \"SELECT (t.'2040  ' - t.'2030  ')/t.'2030  ' from table2_df as t WHERE t.'row_name' == 'CO2 emissions (Mt)'\",\n",
       " \"SELECT (t.'2040  ' - t.'2030  ')/t.'2030  ' from table2_df as t WHERE t.'row_name' == 'Intensity (g CO2/kWh)'\",\n",
       " \"SELECT (t.'2040  ' - t.'2035  ')/t.'2035  ' from table2_df as t WHERE t.'row_name' == 'CO2 emissions (Mt)'\",\n",
       " \"SELECT (t.'2040  ' - t.'2035  ')/t.'2035  ' from table2_df as t WHERE t.'row_name' == 'Intensity (g CO2/kWh)'\"]"
      ]
     },
     "execution_count": 208,
     "metadata": {},
     "output_type": "execute_result"
    }
   ],
   "source": [
    "percentage_increase_query_generation(table2_df)"
   ]
  },
  {
   "cell_type": "code",
   "execution_count": 90,
   "metadata": {},
   "outputs": [],
   "source": [
    "def query_generation(claim_text, claim_values, df_list):\n",
    "    \"\"\"\n",
    "    generate queries based on the input claims and the dataframes\n",
    "    \"\"\"\n",
    "    existence_queries = []\n",
    "    for df in df_list:\n",
    "        existence_queries += existence_query_generation(df)\n",
    "    return existence_queries"
   ]
  },
  {
   "cell_type": "code",
   "execution_count": 41,
   "metadata": {},
   "outputs": [],
   "source": [
    "def int_round(x, n=10):\n",
    "    res = math.ceil(x/n)*n\n",
    "    if (x%n < n/2)and (x%n>0):\n",
    "        res-=n\n",
    "    return res"
   ]
  },
  {
   "cell_type": "code",
   "execution_count": 162,
   "metadata": {},
   "outputs": [],
   "source": [
    "def get_num_digits(num):\n",
    "    l = str(num).split(\".\")\n",
    "    if len(l) == 1:\n",
    "        return len(l[0])\n",
    "    else:\n",
    "        return len(l[0]) + len(l[1]) - 1 # floats with .0"
   ]
  },
  {
   "cell_type": "code",
   "execution_count": 163,
   "metadata": {},
   "outputs": [],
   "source": [
    "def get_int_round_list(x, num_digits):\n",
    "    if num_digits == 1:\n",
    "        return [x]\n",
    "    elif num_digits == 2:\n",
    "        return [x, int_round(x, 10)]\n",
    "    elif num_digits == 3:\n",
    "        return [x, int_round(x, 10), int_round(x, 100)] \n",
    "    elif num_digits == 4:\n",
    "        return [x, int_round(x, 10), int_round(x, 100), int_round(x, 1000)]\n",
    "    elif num_digits == 5:\n",
    "        return [x, int_round(x, 10), int_round(x, 100), int_round(x, 1000)]"
   ]
  },
  {
   "cell_type": "code",
   "execution_count": 192,
   "metadata": {},
   "outputs": [
    {
     "data": {
      "text/plain": [
       "[112.3, 110, 100]"
      ]
     },
     "execution_count": 192,
     "metadata": {},
     "output_type": "execute_result"
    }
   ],
   "source": [
    "get_int_round_list(112.3, 3)"
   ]
  },
  {
   "cell_type": "code",
   "execution_count": 165,
   "metadata": {},
   "outputs": [
    {
     "data": {
      "text/plain": [
       "37000"
      ]
     },
     "execution_count": 165,
     "metadata": {},
     "output_type": "execute_result"
    }
   ],
   "source": [
    "int_round(37114.5, 1000)"
   ]
  },
  {
   "cell_type": "code",
   "execution_count": 166,
   "metadata": {},
   "outputs": [
    {
     "data": {
      "text/plain": [
       "111"
      ]
     },
     "execution_count": 166,
     "metadata": {},
     "output_type": "execute_result"
    }
   ],
   "source": [
    "round(111, 100)"
   ]
  },
  {
   "cell_type": "code",
   "execution_count": 167,
   "metadata": {},
   "outputs": [
    {
     "data": {
      "text/plain": [
       "['111']"
      ]
     },
     "execution_count": 167,
     "metadata": {},
     "output_type": "execute_result"
    }
   ],
   "source": [
    "num = str(111)\n",
    "num.split('.')"
   ]
  },
  {
   "cell_type": "code",
   "execution_count": 168,
   "metadata": {},
   "outputs": [],
   "source": [
    "def approximately_equal(claim_value, query_value):\n",
    "    \"\"\"\n",
    "    returns True if the claim value and the query value are approximately equal\n",
    "    \"\"\"\n",
    "    if isinstance(query_value, str):\n",
    "        return False\n",
    "    else:\n",
    "        num_digits_q = get_num_digits(query_value)\n",
    "        num_digits_c = get_num_digits(claim_value)\n",
    "        \n",
    "        if claim_value in get_int_round_list(query_value, num_digits_q):\n",
    "            return True\n",
    "        else:\n",
    "            return False"
   ]
  },
  {
   "cell_type": "code",
   "execution_count": 169,
   "metadata": {},
   "outputs": [],
   "source": [
    "def estimate_query_result(claim_value, query_result):\n",
    "    \"\"\"\n",
    "    compares the query result (Dataframe) and the claim value.\n",
    "    Assume that the dataframe has only one element.\n",
    "    Return True/False\n",
    "    \"\"\"\n",
    "    if len(query_result) == 0:\n",
    "        return False\n",
    "    if len((query_result.columns)) != 1:\n",
    "        return False\n",
    "    q_col = list(query_result.columns)[0]\n",
    "    query_value = query_result.iloc[0][q_col]\n",
    "    try:\n",
    "        query_value = float(query_value)\n",
    "    except ValueError:\n",
    "        query_value = query_value\n",
    "        \n",
    "    print(query_value, type(query_value))\n",
    "    return approximately_equal(claim_value, query_value)"
   ]
  },
  {
   "cell_type": "code",
   "execution_count": 170,
   "metadata": {},
   "outputs": [],
   "source": [
    "def query_execution(claim_text, claim_value, df_list):\n",
    "    \"\"\"\n",
    "    Executes the queries generated and compares the result. If the result is close\n",
    "    to the claim, then we return this query!\n",
    "    \"\"\"\n",
    "    all_queries = []\n",
    "    existence_queries = query_generation(claim_text, claim_value, df_list)\n",
    "    all_queries += existence_queries\n",
    "    \n",
    "    # queries to be returned as possible candidates\n",
    "    candidate_queries = []\n",
    "    \n",
    "    for query in all_queries:\n",
    "        query_result = ps.sqldf(query)\n",
    "        if query_result is None:\n",
    "            print(\"lala\")\n",
    "            continue\n",
    "        est = estimate_query_result(claim_value, query_result)\n",
    "        if est:\n",
    "            candidate_queries.append(query)\n",
    "    \n",
    "    return candidate_queries"
   ]
  },
  {
   "cell_type": "code",
   "execution_count": 187,
   "metadata": {},
   "outputs": [],
   "source": [
    "claim_text = \"lala\"\n",
    "claim_value = 70"
   ]
  },
  {
   "cell_type": "code",
   "execution_count": 188,
   "metadata": {
    "scrolled": true
   },
   "outputs": [
    {
     "name": "stdout",
     "output_type": "stream",
     "text": [
      "Generated 48 queries\n",
      "Generated 14 queries\n",
      "Generated 32 queries\n",
      "North America <class 'str'>\n",
      "Central & South America <class 'str'>\n",
      "Europe <class 'str'>\n",
      "Africa <class 'str'>\n",
      "Middle East <class 'str'>\n",
      "Eurasia <class 'str'>\n",
      "Asia Pacific <class 'str'>\n",
      "World <class 'str'>\n",
      "1840.0 <class 'float'>\n",
      "1055.0 <class 'float'>\n",
      "2822.0 <class 'float'>\n",
      "3419.0 <class 'float'>\n",
      "2918.0 <class 'float'>\n",
      "5443.0 <class 'float'>\n",
      "4348.0 <class 'float'>\n",
      "895.0 <class 'float'>\n",
      "1225.0 <class 'float'>\n",
      "3478.0 <class 'float'>\n",
      "5350.0 <class 'float'>\n",
      "1474.0 <class 'float'>\n",
      "5331.0 <class 'float'>\n",
      "3825.0 <class 'float'>\n",
      "3025.0 <class 'float'>\n",
      "25 679 <class 'str'>\n",
      "3345.0 <class 'float'>\n",
      "2059.0 <class 'float'>\n",
      "4937.0 <class 'float'>\n",
      "2483.0 <class 'float'>\n",
      "5508.0 <class 'float'>\n",
      "2325.0 <class 'float'>\n",
      "1544.0 <class 'float'>\n",
      "2240.0 <class 'float'>\n",
      "2625.0 <class 'float'>\n",
      "2766.0 <class 'float'>\n",
      "3817.0 <class 'float'>\n",
      "4127.0 <class 'float'>\n",
      "2700.0 <class 'float'>\n",
      "5472.0 <class 'float'>\n",
      "2775.0 <class 'float'>\n",
      "5202.0 <class 'float'>\n",
      "1088.0 <class 'float'>\n",
      "5706.0 <class 'float'>\n",
      "4624.0 <class 'float'>\n",
      "4155.0 <class 'float'>\n",
      "2540.0 <class 'float'>\n",
      "4088.0 <class 'float'>\n",
      "13690.0 <class 'float'>\n",
      "37114.0 <class 'float'>\n",
      "CO2 emissions (Mt) <class 'str'>\n",
      "Intensity (g CO2/kWh) <class 'str'>\n",
      "3851.0 <class 'float'>\n",
      "825.0 <class 'float'>\n",
      "4956.0 <class 'float'>\n",
      "484.0 <class 'float'>\n",
      "5776.0 <class 'float'>\n",
      "1330.0 <class 'float'>\n",
      "5927.0 <class 'float'>\n",
      "1995.0 <class 'float'>\n",
      "1758.0 <class 'float'>\n",
      "3676.0 <class 'float'>\n",
      "3187.0 <class 'float'>\n",
      "69.0 <class 'float'>\n",
      "Total CO2 <class 'str'>\n",
      "Coal <class 'str'>\n",
      "Oil <class 'str'>\n",
      "Gas <class 'str'>\n",
      "28219.0 <class 'float'>\n",
      "9683.0 <class 'float'>\n",
      "6923.0 <class 'float'>\n",
      "11613.0 <class 'float'>\n",
      "33228.0 <class 'float'>\n",
      "13494.0 <class 'float'>\n",
      "5953.0 <class 'float'>\n",
      "13781.0 <class 'float'>\n",
      "25202.0 <class 'float'>\n",
      "5875.0 <class 'float'>\n",
      "6560.0 <class 'float'>\n",
      "12767.0 <class 'float'>\n",
      "32830.0 <class 'float'>\n",
      "12224.0 <class 'float'>\n",
      "8427.0 <class 'float'>\n",
      "12179.0 <class 'float'>\n",
      "29960.0 <class 'float'>\n",
      "12373.0 <class 'float'>\n",
      "8257.0 <class 'float'>\n",
      "9330.0 <class 'float'>\n",
      "29705.0 <class 'float'>\n",
      "9160.0 <class 'float'>\n",
      "6427.0 <class 'float'>\n",
      "14118.0 <class 'float'>\n",
      "35881.0 <class 'float'>\n",
      "15327.0 <class 'float'>\n",
      "11315.0 <class 'float'>\n",
      "11950.0 <class 'float'>\n"
     ]
    },
    {
     "data": {
      "text/plain": [
       "[\"SELECT t.'2040  ' from table2_df as t WHERE t.'row_name' == 'Intensity (g CO2/kWh)'\"]"
      ]
     },
     "execution_count": 188,
     "metadata": {},
     "output_type": "execute_result"
    }
   ],
   "source": [
    "query_execution(claim_text, claim_value, [table1_df, table2_df, table3_df])"
   ]
  },
  {
   "cell_type": "code",
   "execution_count": 220,
   "metadata": {},
   "outputs": [
    {
     "data": {
      "text/html": [
       "<div>\n",
       "<style scoped>\n",
       "    .dataframe tbody tr th:only-of-type {\n",
       "        vertical-align: middle;\n",
       "    }\n",
       "\n",
       "    .dataframe tbody tr th {\n",
       "        vertical-align: top;\n",
       "    }\n",
       "\n",
       "    .dataframe thead th {\n",
       "        text-align: right;\n",
       "    }\n",
       "</style>\n",
       "<table border=\"1\" class=\"dataframe\">\n",
       "  <thead>\n",
       "    <tr style=\"text-align: right;\">\n",
       "      <th></th>\n",
       "      <th>CAST((t.'2016' - t.'2017e')/10000 AS DECIMAL(53,8))</th>\n",
       "    </tr>\n",
       "  </thead>\n",
       "  <tbody>\n",
       "    <tr>\n",
       "      <th>0</th>\n",
       "      <td>0</td>\n",
       "    </tr>\n",
       "  </tbody>\n",
       "</table>\n",
       "</div>"
      ],
      "text/plain": [
       "   CAST((t.'2016' - t.'2017e')/10000 AS DECIMAL(53,8))\n",
       "0                                                  0  "
      ]
     },
     "execution_count": 220,
     "metadata": {},
     "output_type": "execute_result"
    }
   ],
   "source": [
    "ps.sqldf(\"SELECT CAST((t.'2016' - t.'2017e')/10000 AS DECIMAL(53,8)) from table2_df as t WHERE t.'row_name' == 'CO2 emissions (Mt)'\", locals())"
   ]
  },
  {
   "cell_type": "code",
   "execution_count": 148,
   "metadata": {},
   "outputs": [
    {
     "ename": "ValueError",
     "evalue": "invalid literal for int() with base 10: 'hello'",
     "output_type": "error",
     "traceback": [
      "\u001b[0;31m---------------------------------------------------------------------------\u001b[0m",
      "\u001b[0;31mValueError\u001b[0m                                Traceback (most recent call last)",
      "\u001b[0;32m<ipython-input-148-a6f1987f81d0>\u001b[0m in \u001b[0;36m<module>\u001b[0;34m\u001b[0m\n\u001b[0;32m----> 1\u001b[0;31m \u001b[0mint\u001b[0m\u001b[0;34m(\u001b[0m\u001b[0;34m\"hello\"\u001b[0m\u001b[0;34m)\u001b[0m\u001b[0;34m\u001b[0m\u001b[0m\n\u001b[0m",
      "\u001b[0;31mValueError\u001b[0m: invalid literal for int() with base 10: 'hello'"
     ]
    }
   ],
   "source": [
    "int(\"hello\")"
   ]
  },
  {
   "cell_type": "code",
   "execution_count": 197,
   "metadata": {},
   "outputs": [],
   "source": [
    "l = [\"a\", \"b\", \"c\", \"d\"]"
   ]
  },
  {
   "cell_type": "code",
   "execution_count": 202,
   "metadata": {},
   "outputs": [],
   "source": [
    "t = []\n",
    "for idx, itm in enumerate(l):\n",
    "    q = tuple(l[idx:])\n",
    "    first_item = q[0]\n",
    "    for a in q[1:]:\n",
    "        t.append((first_item, a))\n",
    "    "
   ]
  },
  {
   "cell_type": "code",
   "execution_count": 203,
   "metadata": {},
   "outputs": [
    {
     "data": {
      "text/plain": [
       "[('a', 'b'), ('a', 'c'), ('a', 'd'), ('b', 'c'), ('b', 'd'), ('c', 'd')]"
      ]
     },
     "execution_count": 203,
     "metadata": {},
     "output_type": "execute_result"
    }
   ],
   "source": [
    "t"
   ]
  },
  {
   "cell_type": "code",
   "execution_count": 89,
   "metadata": {},
   "outputs": [
    {
     "data": {
      "text/plain": [
       "14000"
      ]
     },
     "execution_count": 89,
     "metadata": {},
     "output_type": "execute_result"
    }
   ],
   "source": [
    "int_round(14446, 1000)"
   ]
  },
  {
   "cell_type": "code",
   "execution_count": 59,
   "metadata": {},
   "outputs": [],
   "source": [
    "import numpy as np"
   ]
  },
  {
   "cell_type": "code",
   "execution_count": 77,
   "metadata": {},
   "outputs": [],
   "source": [
    "num_digits = 7"
   ]
  },
  {
   "cell_type": "code",
   "execution_count": 78,
   "metadata": {},
   "outputs": [
    {
     "data": {
      "text/plain": [
       "[10, 100, 1000, 10000, 100000]"
      ]
     },
     "execution_count": 78,
     "metadata": {},
     "output_type": "execute_result"
    }
   ],
   "source": [
    "[10*(10**i) for i in np.arange(num_digits-2)]"
   ]
  },
  {
   "cell_type": "code",
   "execution_count": 92,
   "metadata": {},
   "outputs": [],
   "source": [
    "x = 0.56"
   ]
  },
  {
   "cell_type": "code",
   "execution_count": 109,
   "metadata": {},
   "outputs": [],
   "source": [
    "name = \"table1\""
   ]
  },
  {
   "cell_type": "code",
   "execution_count": 110,
   "metadata": {},
   "outputs": [],
   "source": [
    "exec(name + \" = table1_df\")"
   ]
  },
  {
   "cell_type": "code",
   "execution_count": 112,
   "metadata": {},
   "outputs": [
    {
     "data": {
      "text/html": [
       "<div>\n",
       "<style scoped>\n",
       "    .dataframe tbody tr th:only-of-type {\n",
       "        vertical-align: middle;\n",
       "    }\n",
       "\n",
       "    .dataframe tbody tr th {\n",
       "        vertical-align: top;\n",
       "    }\n",
       "\n",
       "    .dataframe thead th {\n",
       "        text-align: right;\n",
       "    }\n",
       "</style>\n",
       "<table border=\"1\" class=\"dataframe\">\n",
       "  <thead>\n",
       "    <tr style=\"text-align: right;\">\n",
       "      <th></th>\n",
       "      <th>row_name</th>\n",
       "      <th>2016</th>\n",
       "      <th>2017e</th>\n",
       "      <th>2030</th>\n",
       "      <th>2035</th>\n",
       "      <th>2040</th>\n",
       "    </tr>\n",
       "  </thead>\n",
       "  <tbody>\n",
       "    <tr>\n",
       "      <th>0</th>\n",
       "      <td>North America</td>\n",
       "      <td>1840</td>\n",
       "      <td>1225</td>\n",
       "      <td>3345</td>\n",
       "      <td>2625.1</td>\n",
       "      <td>1088</td>\n",
       "    </tr>\n",
       "    <tr>\n",
       "      <th>1</th>\n",
       "      <td>Central &amp; South America</td>\n",
       "      <td>1055</td>\n",
       "      <td>3478</td>\n",
       "      <td>2059</td>\n",
       "      <td>2766.0</td>\n",
       "      <td>5706</td>\n",
       "    </tr>\n",
       "    <tr>\n",
       "      <th>2</th>\n",
       "      <td>Europe</td>\n",
       "      <td>2822</td>\n",
       "      <td>5350</td>\n",
       "      <td>4937</td>\n",
       "      <td>3817.0</td>\n",
       "      <td>4624</td>\n",
       "    </tr>\n",
       "    <tr>\n",
       "      <th>3</th>\n",
       "      <td>Africa</td>\n",
       "      <td>3419</td>\n",
       "      <td>1474</td>\n",
       "      <td>2483</td>\n",
       "      <td>4127.0</td>\n",
       "      <td>4155</td>\n",
       "    </tr>\n",
       "    <tr>\n",
       "      <th>4</th>\n",
       "      <td>Middle East</td>\n",
       "      <td>2918</td>\n",
       "      <td>5331</td>\n",
       "      <td>5508</td>\n",
       "      <td>2700.0</td>\n",
       "      <td>2540</td>\n",
       "    </tr>\n",
       "    <tr>\n",
       "      <th>5</th>\n",
       "      <td>Eurasia</td>\n",
       "      <td>5443</td>\n",
       "      <td>3825</td>\n",
       "      <td>2325</td>\n",
       "      <td>5472.0</td>\n",
       "      <td>4088</td>\n",
       "    </tr>\n",
       "    <tr>\n",
       "      <th>6</th>\n",
       "      <td>Asia Pacific</td>\n",
       "      <td>4348</td>\n",
       "      <td>3025</td>\n",
       "      <td>1544</td>\n",
       "      <td>2775.0</td>\n",
       "      <td>13690</td>\n",
       "    </tr>\n",
       "    <tr>\n",
       "      <th>7</th>\n",
       "      <td>World</td>\n",
       "      <td>895</td>\n",
       "      <td>25679</td>\n",
       "      <td>2240</td>\n",
       "      <td>5202.0</td>\n",
       "      <td>37114</td>\n",
       "    </tr>\n",
       "  </tbody>\n",
       "</table>\n",
       "</div>"
      ],
      "text/plain": [
       "                  row_name  2016  2017e  2030    2035   2040\n",
       "0            North America  1840   1225  3345  2625.1   1088\n",
       "1  Central & South America  1055   3478  2059  2766.0   5706\n",
       "2                   Europe  2822   5350  4937  3817.0   4624\n",
       "3                   Africa  3419   1474  2483  4127.0   4155\n",
       "4              Middle East  2918   5331  5508  2700.0   2540\n",
       "5                  Eurasia  5443   3825  2325  5472.0   4088\n",
       "6             Asia Pacific  4348   3025  1544  2775.0  13690\n",
       "7                    World   895  25679  2240  5202.0  37114"
      ]
     },
     "execution_count": 112,
     "metadata": {},
     "output_type": "execute_result"
    }
   ],
   "source": [
    "table1"
   ]
  },
  {
   "cell_type": "code",
   "execution_count": 189,
   "metadata": {},
   "outputs": [],
   "source": [
    "perc_q = \"SELECT cast ((abs(100.0*(t.'2017e' - t.'2016')/t.'2016')) as numeric(2,2)) from table1_df as t \""
   ]
  },
  {
   "cell_type": "code",
   "execution_count": 190,
   "metadata": {},
   "outputs": [],
   "source": [
    "r = ps.sqldf(perc_q)"
   ]
  },
  {
   "cell_type": "code",
   "execution_count": 191,
   "metadata": {},
   "outputs": [
    {
     "data": {
      "text/html": [
       "<div>\n",
       "<style scoped>\n",
       "    .dataframe tbody tr th:only-of-type {\n",
       "        vertical-align: middle;\n",
       "    }\n",
       "\n",
       "    .dataframe tbody tr th {\n",
       "        vertical-align: top;\n",
       "    }\n",
       "\n",
       "    .dataframe thead th {\n",
       "        text-align: right;\n",
       "    }\n",
       "</style>\n",
       "<table border=\"1\" class=\"dataframe\">\n",
       "  <thead>\n",
       "    <tr style=\"text-align: right;\">\n",
       "      <th></th>\n",
       "      <th>cast ((abs(100.0*(t.'2017e' - t.'2016')/t.'2016')) as numeric(2,2))</th>\n",
       "    </tr>\n",
       "  </thead>\n",
       "  <tbody>\n",
       "    <tr>\n",
       "      <th>0</th>\n",
       "      <td>33.423913</td>\n",
       "    </tr>\n",
       "    <tr>\n",
       "      <th>1</th>\n",
       "      <td>229.668246</td>\n",
       "    </tr>\n",
       "    <tr>\n",
       "      <th>2</th>\n",
       "      <td>89.581857</td>\n",
       "    </tr>\n",
       "    <tr>\n",
       "      <th>3</th>\n",
       "      <td>56.887979</td>\n",
       "    </tr>\n",
       "    <tr>\n",
       "      <th>4</th>\n",
       "      <td>82.693626</td>\n",
       "    </tr>\n",
       "    <tr>\n",
       "      <th>5</th>\n",
       "      <td>29.726254</td>\n",
       "    </tr>\n",
       "    <tr>\n",
       "      <th>6</th>\n",
       "      <td>30.427783</td>\n",
       "    </tr>\n",
       "    <tr>\n",
       "      <th>7</th>\n",
       "      <td>2769.162011</td>\n",
       "    </tr>\n",
       "  </tbody>\n",
       "</table>\n",
       "</div>"
      ],
      "text/plain": [
       "   cast ((abs(100.0*(t.'2017e' - t.'2016')/t.'2016')) as numeric(2,2))\n",
       "0                                          33.423913                  \n",
       "1                                         229.668246                  \n",
       "2                                          89.581857                  \n",
       "3                                          56.887979                  \n",
       "4                                          82.693626                  \n",
       "5                                          29.726254                  \n",
       "6                                          30.427783                  \n",
       "7                                        2769.162011                  "
      ]
     },
     "execution_count": 191,
     "metadata": {},
     "output_type": "execute_result"
    }
   ],
   "source": [
    "r"
   ]
  },
  {
   "cell_type": "code",
   "execution_count": 192,
   "metadata": {},
   "outputs": [
    {
     "data": {
      "text/plain": [
       "[[33.42391304347826],\n",
       " [229.66824644549763],\n",
       " [89.58185683912119],\n",
       " [56.88797894121088],\n",
       " [82.69362577107609],\n",
       " [29.726253904097007],\n",
       " [30.42778288868445],\n",
       " [2769.1620111731845]]"
      ]
     },
     "execution_count": 192,
     "metadata": {},
     "output_type": "execute_result"
    }
   ],
   "source": [
    "r.values.tolist()"
   ]
  },
  {
   "cell_type": "code",
   "execution_count": 115,
   "metadata": {},
   "outputs": [],
   "source": [
    "q = \"SELECT table1_df.'2040'/table1_df.'2017e' - table1_df.'2017e'/table1_df.'2017e' FROM table1_df\""
   ]
  },
  {
   "cell_type": "code",
   "execution_count": 116,
   "metadata": {},
   "outputs": [
    {
     "data": {
      "text/html": [
       "<div>\n",
       "<style scoped>\n",
       "    .dataframe tbody tr th:only-of-type {\n",
       "        vertical-align: middle;\n",
       "    }\n",
       "\n",
       "    .dataframe tbody tr th {\n",
       "        vertical-align: top;\n",
       "    }\n",
       "\n",
       "    .dataframe thead th {\n",
       "        text-align: right;\n",
       "    }\n",
       "</style>\n",
       "<table border=\"1\" class=\"dataframe\">\n",
       "  <thead>\n",
       "    <tr style=\"text-align: right;\">\n",
       "      <th></th>\n",
       "      <th>table1_df.'2040'/table1_df.'2017e' - table1_df.'2017e'/table1_df.'2017e'</th>\n",
       "    </tr>\n",
       "  </thead>\n",
       "  <tbody>\n",
       "    <tr>\n",
       "      <th>0</th>\n",
       "      <td>-0.727113</td>\n",
       "    </tr>\n",
       "    <tr>\n",
       "      <th>1</th>\n",
       "      <td>-0.223214</td>\n",
       "    </tr>\n",
       "    <tr>\n",
       "      <th>2</th>\n",
       "      <td>0.544613</td>\n",
       "    </tr>\n",
       "    <tr>\n",
       "      <th>3</th>\n",
       "      <td>1.239080</td>\n",
       "    </tr>\n",
       "    <tr>\n",
       "      <th>4</th>\n",
       "      <td>-0.759520</td>\n",
       "    </tr>\n",
       "    <tr>\n",
       "      <th>5</th>\n",
       "      <td>-0.338502</td>\n",
       "    </tr>\n",
       "    <tr>\n",
       "      <th>6</th>\n",
       "      <td>3.525620</td>\n",
       "    </tr>\n",
       "    <tr>\n",
       "      <th>7</th>\n",
       "      <td>0.445306</td>\n",
       "    </tr>\n",
       "  </tbody>\n",
       "</table>\n",
       "</div>"
      ],
      "text/plain": [
       "   table1_df.'2040'/table1_df.'2017e' - table1_df.'2017e'/table1_df.'2017e'\n",
       "0                                          -0.727113                       \n",
       "1                                          -0.223214                       \n",
       "2                                           0.544613                       \n",
       "3                                           1.239080                       \n",
       "4                                          -0.759520                       \n",
       "5                                          -0.338502                       \n",
       "6                                           3.525620                       \n",
       "7                                           0.445306                       "
      ]
     },
     "execution_count": 116,
     "metadata": {},
     "output_type": "execute_result"
    }
   ],
   "source": [
    "ps.sqldf(q)"
   ]
  },
  {
   "cell_type": "code",
   "execution_count": 194,
   "metadata": {},
   "outputs": [
    {
     "data": {
      "text/plain": [
       "'laa-2'"
      ]
     },
     "execution_count": 194,
     "metadata": {},
     "output_type": "execute_result"
    }
   ],
   "source": [
    "\"-\".join([\"laa\", \"2\"])"
   ]
  },
  {
   "cell_type": "code",
   "execution_count": 40,
   "metadata": {},
   "outputs": [
    {
     "data": {
      "text/plain": [
       "[\"t.'row_name'\", \"t.'2016'\", \"t.'2017e'\", \"t.'2030'\", \"t.'2035'\", \"t.'2040'\"]"
      ]
     },
     "execution_count": 40,
     "metadata": {},
     "output_type": "execute_result"
    }
   ],
   "source": [
    "[\"t\" + \".\" + \"'\" + col + \"'\" for col in list(table1_df.columns)]"
   ]
  },
  {
   "cell_type": "code",
   "execution_count": 51,
   "metadata": {},
   "outputs": [],
   "source": [
    "from pandas.api.types import is_string_dtype\n",
    "from pandas.api.types import is_numeric_dtype"
   ]
  },
  {
   "cell_type": "code",
   "execution_count": 59,
   "metadata": {},
   "outputs": [
    {
     "name": "stdout",
     "output_type": "stream",
     "text": [
      "row_name\n",
      "2016\n",
      "2017e\n",
      "2030\n",
      "2035\n",
      "2040\n"
     ]
    }
   ],
   "source": [
    "s = []\n",
    "n = []\n",
    "\n",
    "for c in table1_df.columns:\n",
    "    print(c)\n",
    "    if is_string_dtype(table1_df[c]):\n",
    "        s.append(c)\n",
    "    if is_numeric_dtype(table1_df[c]):\n",
    "        n.append(c)"
   ]
  },
  {
   "cell_type": "code",
   "execution_count": 61,
   "metadata": {},
   "outputs": [
    {
     "data": {
      "text/plain": [
       "(['2016', '2017e', '2030', '2035', '2040'], ['row_name'])"
      ]
     },
     "execution_count": 61,
     "metadata": {},
     "output_type": "execute_result"
    }
   ],
   "source": [
    "n, s"
   ]
  },
  {
   "cell_type": "code",
   "execution_count": 97,
   "metadata": {},
   "outputs": [],
   "source": [
    "table1_df = table1_df.astype(float, errors=\"ignore\")"
   ]
  },
  {
   "cell_type": "code",
   "execution_count": 98,
   "metadata": {},
   "outputs": [
    {
     "data": {
      "text/html": [
       "<div>\n",
       "<style scoped>\n",
       "    .dataframe tbody tr th:only-of-type {\n",
       "        vertical-align: middle;\n",
       "    }\n",
       "\n",
       "    .dataframe tbody tr th {\n",
       "        vertical-align: top;\n",
       "    }\n",
       "\n",
       "    .dataframe thead th {\n",
       "        text-align: right;\n",
       "    }\n",
       "</style>\n",
       "<table border=\"1\" class=\"dataframe\">\n",
       "  <thead>\n",
       "    <tr style=\"text-align: right;\">\n",
       "      <th></th>\n",
       "      <th>row_name</th>\n",
       "      <th>2016</th>\n",
       "      <th>2017e</th>\n",
       "      <th>2030</th>\n",
       "      <th>2035</th>\n",
       "      <th>2040</th>\n",
       "    </tr>\n",
       "  </thead>\n",
       "  <tbody>\n",
       "    <tr>\n",
       "      <th>0</th>\n",
       "      <td>North America</td>\n",
       "      <td>4425.0</td>\n",
       "      <td>5680.0</td>\n",
       "      <td>1120.0</td>\n",
       "      <td>5653.0</td>\n",
       "      <td>1550.0</td>\n",
       "    </tr>\n",
       "    <tr>\n",
       "      <th>1</th>\n",
       "      <td>Central &amp; South America</td>\n",
       "      <td>2330.0</td>\n",
       "      <td>3920.0</td>\n",
       "      <td>2131.0</td>\n",
       "      <td>1375.0</td>\n",
       "      <td>3045.0</td>\n",
       "    </tr>\n",
       "    <tr>\n",
       "      <th>2</th>\n",
       "      <td>Europe</td>\n",
       "      <td>2708.0</td>\n",
       "      <td>2376.0</td>\n",
       "      <td>2053.0</td>\n",
       "      <td>887.0</td>\n",
       "      <td>3670.0</td>\n",
       "    </tr>\n",
       "    <tr>\n",
       "      <th>3</th>\n",
       "      <td>Africa</td>\n",
       "      <td>2257.0</td>\n",
       "      <td>1305.0</td>\n",
       "      <td>2217.0</td>\n",
       "      <td>5788.0</td>\n",
       "      <td>2922.0</td>\n",
       "    </tr>\n",
       "    <tr>\n",
       "      <th>4</th>\n",
       "      <td>Middle East</td>\n",
       "      <td>4151.0</td>\n",
       "      <td>5830.0</td>\n",
       "      <td>2033.0</td>\n",
       "      <td>4962.0</td>\n",
       "      <td>1402.0</td>\n",
       "    </tr>\n",
       "    <tr>\n",
       "      <th>5</th>\n",
       "      <td>Eurasia</td>\n",
       "      <td>4664.0</td>\n",
       "      <td>4901.0</td>\n",
       "      <td>1262.0</td>\n",
       "      <td>2096.0</td>\n",
       "      <td>3242.0</td>\n",
       "    </tr>\n",
       "    <tr>\n",
       "      <th>6</th>\n",
       "      <td>Asia Pacific</td>\n",
       "      <td>5304.0</td>\n",
       "      <td>3025.0</td>\n",
       "      <td>5624.0</td>\n",
       "      <td>2718.0</td>\n",
       "      <td>13690.0</td>\n",
       "    </tr>\n",
       "    <tr>\n",
       "      <th>7</th>\n",
       "      <td>World</td>\n",
       "      <td>1328.0</td>\n",
       "      <td>25679.0</td>\n",
       "      <td>3570.0</td>\n",
       "      <td>4582.0</td>\n",
       "      <td>37114.0</td>\n",
       "    </tr>\n",
       "  </tbody>\n",
       "</table>\n",
       "</div>"
      ],
      "text/plain": [
       "                  row_name    2016    2017e    2030    2035     2040\n",
       "0            North America  4425.0   5680.0  1120.0  5653.0   1550.0\n",
       "1  Central & South America  2330.0   3920.0  2131.0  1375.0   3045.0\n",
       "2                   Europe  2708.0   2376.0  2053.0   887.0   3670.0\n",
       "3                   Africa  2257.0   1305.0  2217.0  5788.0   2922.0\n",
       "4              Middle East  4151.0   5830.0  2033.0  4962.0   1402.0\n",
       "5                  Eurasia  4664.0   4901.0  1262.0  2096.0   3242.0\n",
       "6             Asia Pacific  5304.0   3025.0  5624.0  2718.0  13690.0\n",
       "7                    World  1328.0  25679.0  3570.0  4582.0  37114.0"
      ]
     },
     "execution_count": 98,
     "metadata": {},
     "output_type": "execute_result"
    }
   ],
   "source": [
    "table1_df"
   ]
  },
  {
   "cell_type": "code",
   "execution_count": 102,
   "metadata": {},
   "outputs": [
    {
     "data": {
      "text/plain": [
       "1.322"
      ]
     },
     "execution_count": 102,
     "metadata": {},
     "output_type": "execute_result"
    }
   ],
   "source": [
    "round(1.3222, 3)"
   ]
  },
  {
   "cell_type": "code",
   "execution_count": null,
   "metadata": {},
   "outputs": [],
   "source": []
  }
 ],
 "metadata": {
  "kernelspec": {
   "display_name": "Python 3",
   "language": "python",
   "name": "python3"
  },
  "language_info": {
   "codemirror_mode": {
    "name": "ipython",
    "version": 3
   },
   "file_extension": ".py",
   "mimetype": "text/x-python",
   "name": "python",
   "nbconvert_exporter": "python",
   "pygments_lexer": "ipython3",
   "version": "3.7.0"
  }
 },
 "nbformat": 4,
 "nbformat_minor": 2
}
