{
 "cells": [
  {
   "cell_type": "code",
   "execution_count": 1,
   "metadata": {},
   "outputs": [
    {
     "data": {
      "text/plain": [
       "'\\nThis file goes through the formulas and marks up the values with generic variables.\\nFor example G13-G12 will become A-B\\n'"
      ]
     },
     "execution_count": 1,
     "metadata": {},
     "output_type": "execute_result"
    }
   ],
   "source": [
    "\"\"\"\n",
    "This file goes through the formulas and marks up the values with generic variables.\n",
    "For example G13-G12 will become A-B\n",
    "\"\"\""
   ]
  },
  {
   "cell_type": "code",
   "execution_count": 2,
   "metadata": {},
   "outputs": [
    {
     "name": "stderr",
     "output_type": "stream",
     "text": [
      "/home/george/.pyenv/versions/3.7.0/lib/python3.7/site-packages/pandas/compat/__init__.py:85: UserWarning: Could not import the lzma module. Your installed Python is incomplete. Attempting to use lzma compression will result in a RuntimeError.\n",
      "  warnings.warn(msg)\n",
      "/home/george/.pyenv/versions/3.7.0/lib/python3.7/site-packages/pandas/compat/__init__.py:85: UserWarning: Could not import the lzma module. Your installed Python is incomplete. Attempting to use lzma compression will result in a RuntimeError.\n",
      "  warnings.warn(msg)\n"
     ]
    }
   ],
   "source": [
    "import pandas as pd\n",
    "import os\n",
    "import re"
   ]
  },
  {
   "cell_type": "code",
   "execution_count": 3,
   "metadata": {},
   "outputs": [],
   "source": [
    "IN_DIR = \"data/\""
   ]
  },
  {
   "cell_type": "code",
   "execution_count": 4,
   "metadata": {},
   "outputs": [],
   "source": [
    "f = [\"Ch03-Oil.csv\", \"Ch04-Gas.csv\", \"Ch05-Coal.csv\", \"Ch08-Demand_and_India.csv\", \"Ch9.csv\", \"Ch9_4.csv\", \"Ch9_PH.csv\"]"
   ]
  },
  {
   "cell_type": "code",
   "execution_count": 5,
   "metadata": {},
   "outputs": [],
   "source": [
    "files = [os.path.join(IN_DIR, name) for name in f]"
   ]
  },
  {
   "cell_type": "code",
   "execution_count": 6,
   "metadata": {},
   "outputs": [
    {
     "data": {
      "text/plain": [
       "['data/Ch03-Oil.csv',\n",
       " 'data/Ch04-Gas.csv',\n",
       " 'data/Ch05-Coal.csv',\n",
       " 'data/Ch08-Demand_and_India.csv',\n",
       " 'data/Ch9.csv',\n",
       " 'data/Ch9_4.csv',\n",
       " 'data/Ch9_PH.csv']"
      ]
     },
     "execution_count": 6,
     "metadata": {},
     "output_type": "execute_result"
    }
   ],
   "source": [
    "files"
   ]
  },
  {
   "cell_type": "code",
   "execution_count": 7,
   "metadata": {},
   "outputs": [],
   "source": [
    "formula_regex =  \"[A-Z]+[0-9]+\""
   ]
  },
  {
   "cell_type": "code",
   "execution_count": 8,
   "metadata": {},
   "outputs": [
    {
     "data": {
      "text/plain": [
       "['D11', 'D16', 'D11']"
      ]
     },
     "execution_count": 8,
     "metadata": {},
     "output_type": "execute_result"
    }
   ],
   "source": [
    "re.findall(formula_regex, \"SUM(D11:D16)/D11\")"
   ]
  },
  {
   "cell_type": "code",
   "execution_count": 9,
   "metadata": {},
   "outputs": [],
   "source": [
    "variables = \"abcdefghijklmnopqrstuvwxyz\""
   ]
  },
  {
   "cell_type": "code",
   "execution_count": 10,
   "metadata": {},
   "outputs": [],
   "source": [
    "variables_list = [v for v in variables]"
   ]
  },
  {
   "cell_type": "code",
   "execution_count": 11,
   "metadata": {},
   "outputs": [],
   "source": [
    "def get_variables_for_formula(cell_references, variables):\n",
    "    \"\"\"\n",
    "    :param cell_references: list which contains the variables of the formulas \n",
    "                            (example: [\"G11\", \"G14\", \"G22\", \"G11\"])\n",
    "    :param variables: list containing all the letters\n",
    "    returns a dict that maps the cell_references to the variables that should be replaced in the formula\n",
    "    for the exmple above, we return {\"G11\":\"a\", \"G14\":\"b\", \"G22\": \"c\"]\n",
    "    \"\"\"\n",
    "    ret_dict = dict()\n",
    "    var_idx = 0\n",
    "    for ref in cell_references:\n",
    "        if not ref in ret_dict:\n",
    "            ret_dict[ref] = variables[var_idx]\n",
    "            var_idx += 1\n",
    "    return ret_dict"
   ]
  },
  {
   "cell_type": "code",
   "execution_count": 12,
   "metadata": {},
   "outputs": [],
   "source": [
    "def replace_claim_with_variables(formula, ref_var_dict):\n",
    "    \"\"\"\n",
    "    claim: str of the formula (example: G11-G21/3)\n",
    "    ref_var_dict: dict with keys the cell fererences (exist in claim) and values the variables that \n",
    "                  should replace them\n",
    "    \"\"\"\n",
    "    ret_formula = formula\n",
    "    for ref, var in ref_var_dict.items():\n",
    "        ret_formula = ret_formula.replace(ref, var)\n",
    "    return ret_formula"
   ]
  },
  {
   "cell_type": "code",
   "execution_count": 13,
   "metadata": {},
   "outputs": [],
   "source": [
    "def remove_white_space(s):\n",
    "    return s.replace(\" \", \"\")"
   ]
  },
  {
   "cell_type": "code",
   "execution_count": 14,
   "metadata": {},
   "outputs": [],
   "source": [
    "d = get_variables_for_formula([\"G11\", \"G12\", \"G11\"], variables_list)"
   ]
  },
  {
   "cell_type": "code",
   "execution_count": 15,
   "metadata": {},
   "outputs": [
    {
     "data": {
      "text/plain": [
       "{'G11': 'a', 'G12': 'b'}"
      ]
     },
     "execution_count": 15,
     "metadata": {},
     "output_type": "execute_result"
    }
   ],
   "source": [
    "d"
   ]
  },
  {
   "cell_type": "code",
   "execution_count": 16,
   "metadata": {},
   "outputs": [
    {
     "data": {
      "text/plain": [
       "'a-b/a'"
      ]
     },
     "execution_count": 16,
     "metadata": {},
     "output_type": "execute_result"
    }
   ],
   "source": [
    "replace_claim_with_variables(\"G11 - G12/G11\", d).replace(\" \", \"\")"
   ]
  },
  {
   "cell_type": "code",
   "execution_count": 17,
   "metadata": {},
   "outputs": [],
   "source": [
    "def cleanup_df(row):\n",
    "    if \"LOOKUP\" in row[\"Published value\"] or \"LOOKUP\" in row[\"Author Calculation Equations\"]:\n",
    "        return False\n",
    "    elif len(re.findall(formula_regex, row[\"Author Calculation Equations\"])) == 0:\n",
    "        return False\n",
    "    elif len(re.findall(formula_regex, row[\"Published value\"])) > 0:\n",
    "        return False\n",
    "    else:\n",
    "        return True"
   ]
  },
  {
   "cell_type": "code",
   "execution_count": 18,
   "metadata": {},
   "outputs": [],
   "source": [
    "def substitute_claims_with_vars(row):\n",
    "    formula = row[\"Author Calculation Equations\"]\n",
    "    # G12, G1, ... etc.\n",
    "    cell_references = re.findall(formula_regex, formula)\n",
    "    ref_vars_dict = get_variables_for_formula(cell_references, variables_list)\n",
    "    template_formula = replace_claim_with_variables(formula, ref_vars_dict)\n",
    "    template_formula = remove_white_space(template_formula)\n",
    "    return template_formula"
   ]
  },
  {
   "cell_type": "code",
   "execution_count": null,
   "metadata": {},
   "outputs": [],
   "source": []
  },
  {
   "cell_type": "code",
   "execution_count": 19,
   "metadata": {},
   "outputs": [],
   "source": [
    "# read input files and get the template_formulas from each and merge everything together"
   ]
  },
  {
   "cell_type": "code",
   "execution_count": 20,
   "metadata": {},
   "outputs": [],
   "source": [
    "cols = [\"Text\", \"Published value\", \"Author Calculation Equations\"]"
   ]
  },
  {
   "cell_type": "code",
   "execution_count": 21,
   "metadata": {},
   "outputs": [],
   "source": [
    "main_df = pd.DataFrame()"
   ]
  },
  {
   "cell_type": "code",
   "execution_count": 22,
   "metadata": {},
   "outputs": [
    {
     "name": "stdout",
     "output_type": "stream",
     "text": [
      "data/Ch03-Oil.csv\n",
      "data/Ch04-Gas.csv\n",
      "data/Ch05-Coal.csv\n",
      "data/Ch08-Demand_and_India.csv\n",
      "data/Ch9.csv\n",
      "data/Ch9_4.csv\n",
      "data/Ch9_PH.csv\n"
     ]
    }
   ],
   "source": [
    "for file in files:\n",
    "    print(file)\n",
    "    temp_df = pd.read_csv(file)\n",
    "    temp_df = temp_df[cols]\n",
    "    temp_df[\"file\"] = file\n",
    "    # remove unwanted rows\n",
    "    temp_df[\"keep\"] = temp_df.apply(cleanup_df, axis=1)\n",
    "    temp_df = temp_df[temp_df.keep == True]\n",
    "    temp_df[\"template_formula\"] = temp_df.apply(substitute_claims_with_vars, axis=1)\n",
    "    main_df = pd.concat([main_df, temp_df])"
   ]
  },
  {
   "cell_type": "code",
   "execution_count": 23,
   "metadata": {},
   "outputs": [
    {
     "data": {
      "text/html": [
       "<div>\n",
       "<style scoped>\n",
       "    .dataframe tbody tr th:only-of-type {\n",
       "        vertical-align: middle;\n",
       "    }\n",
       "\n",
       "    .dataframe tbody tr th {\n",
       "        vertical-align: top;\n",
       "    }\n",
       "\n",
       "    .dataframe thead th {\n",
       "        text-align: right;\n",
       "    }\n",
       "</style>\n",
       "<table border=\"1\" class=\"dataframe\">\n",
       "  <thead>\n",
       "    <tr style=\"text-align: right;\">\n",
       "      <th></th>\n",
       "      <th>Text</th>\n",
       "      <th>Published value</th>\n",
       "      <th>Author Calculation Equations</th>\n",
       "      <th>file</th>\n",
       "      <th>keep</th>\n",
       "      <th>template_formula</th>\n",
       "    </tr>\n",
       "  </thead>\n",
       "  <tbody>\n",
       "    <tr>\n",
       "      <th>0</th>\n",
       "      <td>Global oil demand grows by nearly 950 thousand...</td>\n",
       "      <td>grows</td>\n",
       "      <td>=IF(G6&gt;0,\"ok\",\"no\")</td>\n",
       "      <td>data/Ch03-Oil.csv</td>\n",
       "      <td>True</td>\n",
       "      <td>=IF(a&gt;0,\"ok\",\"no\")</td>\n",
       "    </tr>\n",
       "    <tr>\n",
       "      <th>1</th>\n",
       "      <td>Global oil demand grows by nearly 950 thousand...</td>\n",
       "      <td>nearly 950 thousand</td>\n",
       "      <td>=((D6-D5)/(B6-B5))*1000</td>\n",
       "      <td>data/Ch03-Oil.csv</td>\n",
       "      <td>True</td>\n",
       "      <td>=((a-b)/(c-d))*1000</td>\n",
       "    </tr>\n",
       "    <tr>\n",
       "      <th>3</th>\n",
       "      <td>Global oil demand grows by nearly 950 thousand...</td>\n",
       "      <td>slows</td>\n",
       "      <td>=IF(G9&lt;G6,\"ok\",\"no\")</td>\n",
       "      <td>data/Ch03-Oil.csv</td>\n",
       "      <td>True</td>\n",
       "      <td>=IF(a&lt;b,\"ok\",\"no\")</td>\n",
       "    </tr>\n",
       "    <tr>\n",
       "      <th>4</th>\n",
       "      <td>Global oil demand grows by nearly 950 thousand...</td>\n",
       "      <td>250 kb/d</td>\n",
       "      <td>=((D7-D6)/(B7-B6))*1000</td>\n",
       "      <td>data/Ch03-Oil.csv</td>\n",
       "      <td>True</td>\n",
       "      <td>=((a-b)/(c-d))*1000</td>\n",
       "    </tr>\n",
       "    <tr>\n",
       "      <th>5</th>\n",
       "      <td>All of this growth occurs in developing econom...</td>\n",
       "      <td>All of this growth</td>\n",
       "      <td>=IF(D20&gt;D19,\"ok\",\"no\")</td>\n",
       "      <td>data/Ch03-Oil.csv</td>\n",
       "      <td>True</td>\n",
       "      <td>=IF(a&gt;b,\"ok\",\"no\")</td>\n",
       "    </tr>\n",
       "    <tr>\n",
       "      <th>...</th>\n",
       "      <td>...</td>\n",
       "      <td>...</td>\n",
       "      <td>...</td>\n",
       "      <td>...</td>\n",
       "      <td>...</td>\n",
       "      <td>...</td>\n",
       "    </tr>\n",
       "    <tr>\n",
       "      <th>2242</th>\n",
       "      <td>Flexibility needs experience a step change, wi...</td>\n",
       "      <td>0.37</td>\n",
       "      <td>=ROUND(G190, 2)</td>\n",
       "      <td>data/Ch9_PH.csv</td>\n",
       "      <td>True</td>\n",
       "      <td>=ROUND(a,2)</td>\n",
       "    </tr>\n",
       "    <tr>\n",
       "      <th>2243</th>\n",
       "      <td>Flexibility needs experience a step change, wi...</td>\n",
       "      <td>0.37</td>\n",
       "      <td>=SUM(G192:G193)/G191</td>\n",
       "      <td>data/Ch9_PH.csv</td>\n",
       "      <td>True</td>\n",
       "      <td>=SUM(a:b)/c</td>\n",
       "    </tr>\n",
       "    <tr>\n",
       "      <th>2247</th>\n",
       "      <td>All in all, demand-side response facilitated b...</td>\n",
       "      <td>450</td>\n",
       "      <td>=G211</td>\n",
       "      <td>data/Ch9_PH.csv</td>\n",
       "      <td>True</td>\n",
       "      <td>=a</td>\n",
       "    </tr>\n",
       "    <tr>\n",
       "      <th>2248</th>\n",
       "      <td>All in all, demand-side response facilitated b...</td>\n",
       "      <td>300</td>\n",
       "      <td>=G202</td>\n",
       "      <td>data/Ch9_PH.csv</td>\n",
       "      <td>True</td>\n",
       "      <td>=a</td>\n",
       "    </tr>\n",
       "    <tr>\n",
       "      <th>2249</th>\n",
       "      <td>All in all, demand-side response facilitated b...</td>\n",
       "      <td>70 times</td>\n",
       "      <td>=G202/G203</td>\n",
       "      <td>data/Ch9_PH.csv</td>\n",
       "      <td>True</td>\n",
       "      <td>=a/b</td>\n",
       "    </tr>\n",
       "  </tbody>\n",
       "</table>\n",
       "<p>3805 rows × 6 columns</p>\n",
       "</div>"
      ],
      "text/plain": [
       "                                                   Text      Published value  \\\n",
       "0     Global oil demand grows by nearly 950 thousand...                grows   \n",
       "1     Global oil demand grows by nearly 950 thousand...  nearly 950 thousand   \n",
       "3     Global oil demand grows by nearly 950 thousand...                slows   \n",
       "4     Global oil demand grows by nearly 950 thousand...             250 kb/d   \n",
       "5     All of this growth occurs in developing econom...   All of this growth   \n",
       "...                                                 ...                  ...   \n",
       "2242  Flexibility needs experience a step change, wi...                 0.37   \n",
       "2243  Flexibility needs experience a step change, wi...                 0.37   \n",
       "2247  All in all, demand-side response facilitated b...                  450   \n",
       "2248  All in all, demand-side response facilitated b...                  300   \n",
       "2249  All in all, demand-side response facilitated b...             70 times   \n",
       "\n",
       "     Author Calculation Equations               file  keep  \\\n",
       "0             =IF(G6>0,\"ok\",\"no\")  data/Ch03-Oil.csv  True   \n",
       "1         =((D6-D5)/(B6-B5))*1000  data/Ch03-Oil.csv  True   \n",
       "3            =IF(G9<G6,\"ok\",\"no\")  data/Ch03-Oil.csv  True   \n",
       "4         =((D7-D6)/(B7-B6))*1000  data/Ch03-Oil.csv  True   \n",
       "5          =IF(D20>D19,\"ok\",\"no\")  data/Ch03-Oil.csv  True   \n",
       "...                           ...                ...   ...   \n",
       "2242              =ROUND(G190, 2)    data/Ch9_PH.csv  True   \n",
       "2243         =SUM(G192:G193)/G191    data/Ch9_PH.csv  True   \n",
       "2247                        =G211    data/Ch9_PH.csv  True   \n",
       "2248                        =G202    data/Ch9_PH.csv  True   \n",
       "2249                   =G202/G203    data/Ch9_PH.csv  True   \n",
       "\n",
       "         template_formula  \n",
       "0      =IF(a>0,\"ok\",\"no\")  \n",
       "1     =((a-b)/(c-d))*1000  \n",
       "3      =IF(a<b,\"ok\",\"no\")  \n",
       "4     =((a-b)/(c-d))*1000  \n",
       "5      =IF(a>b,\"ok\",\"no\")  \n",
       "...                   ...  \n",
       "2242          =ROUND(a,2)  \n",
       "2243          =SUM(a:b)/c  \n",
       "2247                   =a  \n",
       "2248                   =a  \n",
       "2249                 =a/b  \n",
       "\n",
       "[3805 rows x 6 columns]"
      ]
     },
     "execution_count": 23,
     "metadata": {},
     "output_type": "execute_result"
    }
   ],
   "source": [
    "main_df"
   ]
  },
  {
   "cell_type": "code",
   "execution_count": 24,
   "metadata": {},
   "outputs": [
    {
     "data": {
      "text/plain": [
       "1828"
      ]
     },
     "execution_count": 24,
     "metadata": {},
     "output_type": "execute_result"
    }
   ],
   "source": [
    "len(main_df.drop_duplicates(subset=[\"Text\", \"Published value\", \"template_formula\"]))"
   ]
  },
  {
   "cell_type": "code",
   "execution_count": 212,
   "metadata": {},
   "outputs": [
    {
     "data": {
      "text/plain": [
       "<pandas.core.groupby.generic.SeriesGroupBy object at 0x7f15a47f8b00>"
      ]
     },
     "execution_count": 212,
     "metadata": {},
     "output_type": "execute_result"
    }
   ],
   "source": [
    "main_df.groupby(\"Author Calculation Equations\")[\"template_formula\"]"
   ]
  },
  {
   "cell_type": "code",
   "execution_count": 25,
   "metadata": {},
   "outputs": [],
   "source": [
    "main_df.to_csv(\"data/templates_from_7_files\", index=False)"
   ]
  },
  {
   "cell_type": "code",
   "execution_count": 29,
   "metadata": {},
   "outputs": [
    {
     "data": {
      "text/plain": [
       "478"
      ]
     },
     "execution_count": 29,
     "metadata": {},
     "output_type": "execute_result"
    }
   ],
   "source": [
    "len(main_df.drop_duplicates(subset=[\"Text\", \"Published value\", \"template_formula\"]).drop_duplicates(\"template_formula\"))"
   ]
  },
  {
   "cell_type": "code",
   "execution_count": 30,
   "metadata": {},
   "outputs": [
    {
     "data": {
      "text/plain": [
       "3.8242677824267783"
      ]
     },
     "execution_count": 30,
     "metadata": {},
     "output_type": "execute_result"
    }
   ],
   "source": [
    "1828/478"
   ]
  },
  {
   "cell_type": "code",
   "execution_count": null,
   "metadata": {},
   "outputs": [],
   "source": []
  }
 ],
 "metadata": {
  "kernelspec": {
   "display_name": "Python 3",
   "language": "python",
   "name": "python3"
  },
  "language_info": {
   "codemirror_mode": {
    "name": "ipython",
    "version": 3
   },
   "file_extension": ".py",
   "mimetype": "text/x-python",
   "name": "python",
   "nbconvert_exporter": "python",
   "pygments_lexer": "ipython3",
   "version": "3.7.0"
  }
 },
 "nbformat": 4,
 "nbformat_minor": 2
}
