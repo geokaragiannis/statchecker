{
 "cells": [
  {
   "cell_type": "code",
   "execution_count": 76,
   "metadata": {},
   "outputs": [
    {
     "data": {
      "text/plain": [
       "'\\nThis file goes through the formulas and marks up the values with generic variables.\\nFor example G13-G12 will become A-B\\n'"
      ]
     },
     "execution_count": 76,
     "metadata": {},
     "output_type": "execute_result"
    }
   ],
   "source": [
    "\"\"\"\n",
    "This file goes through the formulas and marks up the values with generic variables.\n",
    "For example G13-G12 will become A-B\n",
    "\"\"\""
   ]
  },
  {
   "cell_type": "code",
   "execution_count": 1,
   "metadata": {},
   "outputs": [
    {
     "name": "stderr",
     "output_type": "stream",
     "text": [
      "/home/george/.pyenv/versions/3.7.0/lib/python3.7/site-packages/pandas/compat/__init__.py:85: UserWarning: Could not import the lzma module. Your installed Python is incomplete. Attempting to use lzma compression will result in a RuntimeError.\n",
      "  warnings.warn(msg)\n",
      "/home/george/.pyenv/versions/3.7.0/lib/python3.7/site-packages/pandas/compat/__init__.py:85: UserWarning: Could not import the lzma module. Your installed Python is incomplete. Attempting to use lzma compression will result in a RuntimeError.\n",
      "  warnings.warn(msg)\n"
     ]
    }
   ],
   "source": [
    "import pandas as pd\n",
    "import os\n",
    "import re"
   ]
  },
  {
   "cell_type": "code",
   "execution_count": 2,
   "metadata": {},
   "outputs": [],
   "source": [
    "IN_DIR = \"data/\""
   ]
  },
  {
   "cell_type": "code",
   "execution_count": 3,
   "metadata": {},
   "outputs": [],
   "source": [
    "f = [\"Ch03-Oil.csv\", \"Ch04-Gas.csv\", \"Ch05-Coal.csv\", \"Ch08-Demand_and_India.csv\", \"Ch9.csv\", \"Ch9_4.csv\", \"Ch9_PH.csv\", \"Ch3_Claims_ExtractedByUs.csv\"]"
   ]
  },
  {
   "cell_type": "code",
   "execution_count": 4,
   "metadata": {},
   "outputs": [],
   "source": [
    "files = [os.path.join(IN_DIR, name) for name in f]"
   ]
  },
  {
   "cell_type": "code",
   "execution_count": 5,
   "metadata": {},
   "outputs": [
    {
     "data": {
      "text/plain": [
       "['data/Ch03-Oil.csv',\n",
       " 'data/Ch04-Gas.csv',\n",
       " 'data/Ch05-Coal.csv',\n",
       " 'data/Ch08-Demand_and_India.csv',\n",
       " 'data/Ch9.csv',\n",
       " 'data/Ch9_4.csv',\n",
       " 'data/Ch9_PH.csv',\n",
       " 'data/Ch3_Claims_ExtractedByUs.csv']"
      ]
     },
     "execution_count": 5,
     "metadata": {},
     "output_type": "execute_result"
    }
   ],
   "source": [
    "files"
   ]
  },
  {
   "cell_type": "code",
   "execution_count": 6,
   "metadata": {},
   "outputs": [],
   "source": [
    "formula_regex =  \"[A-Z]+[0-9]+\""
   ]
  },
  {
   "cell_type": "code",
   "execution_count": 7,
   "metadata": {},
   "outputs": [],
   "source": [
    "other_file_ref_regex = \"\\'.*\\'\""
   ]
  },
  {
   "cell_type": "code",
   "execution_count": 8,
   "metadata": {},
   "outputs": [],
   "source": [
    "str_const_regex = \"(?<![0-9])[a-z]+(?![0-9])\""
   ]
  },
  {
   "cell_type": "code",
   "execution_count": 85,
   "metadata": {},
   "outputs": [],
   "source": [
    "num_const_regex = \"(?<![a-zA-Z])[0-9]+.?[0-9]*(?![a-zA-Z])\""
   ]
  },
  {
   "cell_type": "code",
   "execution_count": 11,
   "metadata": {},
   "outputs": [],
   "source": [
    "if_regex = \"IF\\(.*\\)\""
   ]
  },
  {
   "cell_type": "code",
   "execution_count": 12,
   "metadata": {},
   "outputs": [
    {
     "data": {
      "text/plain": [
       "['D11', 'D16', 'D11']"
      ]
     },
     "execution_count": 12,
     "metadata": {},
     "output_type": "execute_result"
    }
   ],
   "source": [
    "re.findall(formula_regex, \"SUM(D11:D16)/D11\")"
   ]
  },
  {
   "cell_type": "code",
   "execution_count": 13,
   "metadata": {},
   "outputs": [
    {
     "data": {
      "text/plain": [
       "[\"'3.2.1 - 3.2.5 + 3.2.8'\"]"
      ]
     },
     "execution_count": 13,
     "metadata": {},
     "output_type": "execute_result"
    }
   ],
   "source": [
    "re.findall(other_file_ref_regex, \"='3.2.1 - 3.2.5 + 3.2.8'!G593\")"
   ]
  },
  {
   "cell_type": "code",
   "execution_count": 14,
   "metadata": {},
   "outputs": [
    {
     "data": {
      "text/plain": [
       "['ok']"
      ]
     },
     "execution_count": 14,
     "metadata": {},
     "output_type": "execute_result"
    }
   ],
   "source": [
    "re.findall(str_const_regex, \"D12=\\\"ok\\\"\")"
   ]
  },
  {
   "cell_type": "code",
   "execution_count": 33,
   "metadata": {},
   "outputs": [],
   "source": [
    "temp = \"\\(.*\\)\""
   ]
  },
  {
   "cell_type": "code",
   "execution_count": 36,
   "metadata": {},
   "outputs": [],
   "source": [
    "q = re.findall(temp, \"IF(a<b, \\\"ok\\\", \\\"nok\\\")\")"
   ]
  },
  {
   "cell_type": "code",
   "execution_count": 37,
   "metadata": {},
   "outputs": [
    {
     "data": {
      "text/plain": [
       "'(a<b, \"ok\", \"nok\")'"
      ]
     },
     "execution_count": 37,
     "metadata": {},
     "output_type": "execute_result"
    }
   ],
   "source": [
    "q[0]"
   ]
  },
  {
   "cell_type": "code",
   "execution_count": 32,
   "metadata": {},
   "outputs": [
    {
     "data": {
      "text/plain": [
       "['IF', 'AND', 'a>b,c>b), \"ok\", \"nok\")']"
      ]
     },
     "execution_count": 32,
     "metadata": {},
     "output_type": "execute_result"
    }
   ],
   "source": [
    "q[0].split(\"(\")"
   ]
  },
  {
   "cell_type": "code",
   "execution_count": 90,
   "metadata": {},
   "outputs": [],
   "source": [
    "variables = \"abcdefghijklmnopqrstuvwxyz\""
   ]
  },
  {
   "cell_type": "code",
   "execution_count": 91,
   "metadata": {},
   "outputs": [],
   "source": [
    "variables_list = [v for v in variables]"
   ]
  },
  {
   "cell_type": "code",
   "execution_count": 92,
   "metadata": {},
   "outputs": [],
   "source": [
    "def get_variables_for_formula(cell_references, variables):\n",
    "    \"\"\"\n",
    "    :param cell_references: list which contains the variables of the formulas \n",
    "                            (example: [\"G11\", \"G14\", \"G22\", \"G11\"])\n",
    "    :param variables: list containing all the letters\n",
    "    returns a dict that maps the cell_references to the variables that should be replaced in the formula\n",
    "    for the exmple above, we return {\"G11\":\"a\", \"G14\":\"b\", \"G22\": \"c\"]\n",
    "    \"\"\"\n",
    "    ret_dict = dict()\n",
    "    var_idx = 0\n",
    "    for ref in cell_references:\n",
    "        if not ref in ret_dict:\n",
    "            ret_dict[ref] = variables[var_idx]\n",
    "            var_idx += 1\n",
    "    return ret_dict"
   ]
  },
  {
   "cell_type": "code",
   "execution_count": 93,
   "metadata": {},
   "outputs": [],
   "source": [
    "def replace_claim_with_variables(formula, ref_var_dict):\n",
    "    \"\"\"\n",
    "    claim: str of the formula (example: G11-G21/3)\n",
    "    ref_var_dict: dict with keys the cell references (exist in claim) and values the variables that \n",
    "                  should replace them\n",
    "    \"\"\"\n",
    "    ret_formula = formula\n",
    "    for ref, var in ref_var_dict.items():\n",
    "        ret_formula = ret_formula.replace(ref, var)\n",
    "    return ret_formula"
   ]
  },
  {
   "cell_type": "code",
   "execution_count": 94,
   "metadata": {},
   "outputs": [],
   "source": [
    "def replace_str_formula(formula, str_list):\n",
    "    \"\"\"\n",
    "    replace all the constant strings in the formula with STR\n",
    "    \"\"\"\n",
    "    const_str = \"STR\"\n",
    "    ret_formula = formula\n",
    "    for s in str_list:\n",
    "        ret_formula = ret_formula.replace(s, const_str)\n",
    "    return ret_formula"
   ]
  },
  {
   "cell_type": "code",
   "execution_count": 95,
   "metadata": {},
   "outputs": [],
   "source": [
    "def remove_white_space(s):\n",
    "    return s.replace(\" \", \"\")"
   ]
  },
  {
   "cell_type": "code",
   "execution_count": 96,
   "metadata": {},
   "outputs": [],
   "source": [
    "d = get_variables_for_formula([\"G11\", \"G12\", \"G11\"], variables_list)"
   ]
  },
  {
   "cell_type": "code",
   "execution_count": 97,
   "metadata": {},
   "outputs": [
    {
     "data": {
      "text/plain": [
       "{'G11': 'a', 'G12': 'b'}"
      ]
     },
     "execution_count": 97,
     "metadata": {},
     "output_type": "execute_result"
    }
   ],
   "source": [
    "d"
   ]
  },
  {
   "cell_type": "code",
   "execution_count": 98,
   "metadata": {},
   "outputs": [
    {
     "data": {
      "text/plain": [
       "'a-b/a'"
      ]
     },
     "execution_count": 98,
     "metadata": {},
     "output_type": "execute_result"
    }
   ],
   "source": [
    "replace_claim_with_variables(\"G11 - G12/G11\", d).replace(\" \", \"\")"
   ]
  },
  {
   "cell_type": "code",
   "execution_count": 99,
   "metadata": {},
   "outputs": [],
   "source": [
    "def cleanup_df(row):\n",
    "    if \"LOOKUP\" in row[\"Published value\"] or \"LOOKUP\" in row[\"Author Calculation Equations\"]:\n",
    "        return False\n",
    "    if \"Fig\" in row[\"Author Calculation Equations\"]:\n",
    "        return False\n",
    "    elif len(re.findall(formula_regex, row[\"Author Calculation Equations\"])) == 0:\n",
    "        return False\n",
    "    elif len(re.findall(formula_regex, row[\"Published value\"])) > 0:\n",
    "        return False\n",
    "    elif len(re.findall(other_file_ref_regex, row[\"Author Calculation Equations\"])) > 0:\n",
    "        return False\n",
    "    else:\n",
    "        return True"
   ]
  },
  {
   "cell_type": "code",
   "execution_count": 100,
   "metadata": {},
   "outputs": [],
   "source": [
    "def substitute_claims_with_vars(row):\n",
    "    formula = row[\"Author Calculation Equations\"]\n",
    "    # G12, G1, ... etc.\n",
    "    cell_references = re.findall(formula_regex, formula)\n",
    "    string_references = re.findall(str_const_regex, formula)\n",
    "    ref_vars_dict = get_variables_for_formula(cell_references, variables_list)\n",
    "    template_formula = replace_claim_with_variables(formula, ref_vars_dict)\n",
    "    template_formula = replace_str_formula(template_formula, string_references)\n",
    "    template_formula = remove_white_space(template_formula)\n",
    "    return template_formula"
   ]
  },
  {
   "cell_type": "code",
   "execution_count": null,
   "metadata": {},
   "outputs": [],
   "source": []
  },
  {
   "cell_type": "code",
   "execution_count": 101,
   "metadata": {},
   "outputs": [],
   "source": [
    "# read input files and get the template_formulas from each and merge everything together"
   ]
  },
  {
   "cell_type": "code",
   "execution_count": 102,
   "metadata": {},
   "outputs": [],
   "source": [
    "cols = [\"Text\", \"Published value\", \"Author Calculation Equations\"]"
   ]
  },
  {
   "cell_type": "code",
   "execution_count": 103,
   "metadata": {},
   "outputs": [],
   "source": [
    "main_df = pd.DataFrame()"
   ]
  },
  {
   "cell_type": "code",
   "execution_count": 104,
   "metadata": {},
   "outputs": [
    {
     "name": "stdout",
     "output_type": "stream",
     "text": [
      "data/Ch03-Oil.csv\n",
      "data/Ch04-Gas.csv\n",
      "data/Ch05-Coal.csv\n",
      "data/Ch08-Demand_and_India.csv\n",
      "data/Ch9.csv\n",
      "data/Ch9_4.csv\n",
      "data/Ch9_PH.csv\n",
      "data/Ch3_Claims_ExtractedByUs.csv\n"
     ]
    },
    {
     "name": "stderr",
     "output_type": "stream",
     "text": [
      "/home/george/.pyenv/versions/3.7.0/lib/python3.7/site-packages/ipykernel_launcher.py:10: FutureWarning: Sorting because non-concatenation axis is not aligned. A future version\n",
      "of pandas will change to not sort by default.\n",
      "\n",
      "To accept the future behavior, pass 'sort=False'.\n",
      "\n",
      "To retain the current behavior and silence the warning, pass 'sort=True'.\n",
      "\n",
      "  # Remove the CWD from sys.path while we load stuff.\n"
     ]
    }
   ],
   "source": [
    "for file in files:\n",
    "    print(file)\n",
    "    temp_df = pd.read_csv(file)\n",
    "#     temp_df = temp_df[cols]\n",
    "    temp_df[\"file\"] = file\n",
    "    # remove unwanted rows\n",
    "    temp_df[\"keep\"] = temp_df.apply(cleanup_df, axis=1)\n",
    "    temp_df = temp_df[temp_df.keep == True]\n",
    "    temp_df[\"template_formula\"] = temp_df.apply(substitute_claims_with_vars, axis=1)\n",
    "    main_df = pd.concat([main_df, temp_df])"
   ]
  },
  {
   "cell_type": "code",
   "execution_count": 105,
   "metadata": {},
   "outputs": [
    {
     "data": {
      "text/html": [
       "<div>\n",
       "<style scoped>\n",
       "    .dataframe tbody tr th:only-of-type {\n",
       "        vertical-align: middle;\n",
       "    }\n",
       "\n",
       "    .dataframe tbody tr th {\n",
       "        vertical-align: top;\n",
       "    }\n",
       "\n",
       "    .dataframe thead th {\n",
       "        text-align: right;\n",
       "    }\n",
       "</style>\n",
       "<table border=\"1\" class=\"dataframe\">\n",
       "  <thead>\n",
       "    <tr style=\"text-align: right;\">\n",
       "      <th></th>\n",
       "      <th>Author Calculation Equations</th>\n",
       "      <th>Author calc Value</th>\n",
       "      <th>Look-up value</th>\n",
       "      <th>Look-up year</th>\n",
       "      <th>Published value</th>\n",
       "      <th>Scenario</th>\n",
       "      <th>Text</th>\n",
       "      <th>file</th>\n",
       "      <th>keep</th>\n",
       "      <th>template_formula</th>\n",
       "    </tr>\n",
       "  </thead>\n",
       "  <tbody>\n",
       "    <tr>\n",
       "      <th>0</th>\n",
       "      <td>=IF(G6&gt;0,\"ok\",\"no\")</td>\n",
       "      <td>NaN</td>\n",
       "      <td>TPEDoil_mbd</td>\n",
       "      <td>2017</td>\n",
       "      <td>grows</td>\n",
       "      <td>NPS</td>\n",
       "      <td>Global oil demand grows by nearly 950 thousand...</td>\n",
       "      <td>data/Ch03-Oil.csv</td>\n",
       "      <td>True</td>\n",
       "      <td>=IF(a&gt;0,\"STR\",\"STR\")</td>\n",
       "    </tr>\n",
       "    <tr>\n",
       "      <th>1</th>\n",
       "      <td>=((D6-D5)/(B6-B5))*1000</td>\n",
       "      <td>NaN</td>\n",
       "      <td>TPEDoil_mbd</td>\n",
       "      <td>2025</td>\n",
       "      <td>nearly 950 thousand</td>\n",
       "      <td>NPS</td>\n",
       "      <td>Global oil demand grows by nearly 950 thousand...</td>\n",
       "      <td>data/Ch03-Oil.csv</td>\n",
       "      <td>True</td>\n",
       "      <td>=((a-b)/(c-d))*1000</td>\n",
       "    </tr>\n",
       "    <tr>\n",
       "      <th>3</th>\n",
       "      <td>=IF(G9&lt;G6,\"ok\",\"no\")</td>\n",
       "      <td>NaN</td>\n",
       "      <td>TPEDoil_mbd</td>\n",
       "      <td>2040</td>\n",
       "      <td>slows</td>\n",
       "      <td>NPS</td>\n",
       "      <td>Global oil demand grows by nearly 950 thousand...</td>\n",
       "      <td>data/Ch03-Oil.csv</td>\n",
       "      <td>True</td>\n",
       "      <td>=IF(a&lt;b,\"STR\",\"STR\")</td>\n",
       "    </tr>\n",
       "    <tr>\n",
       "      <th>4</th>\n",
       "      <td>=((D7-D6)/(B7-B6))*1000</td>\n",
       "      <td>NaN</td>\n",
       "      <td>TPEDoil_mbd</td>\n",
       "      <td>2040</td>\n",
       "      <td>250 kb/d</td>\n",
       "      <td>NPS</td>\n",
       "      <td>Global oil demand grows by nearly 950 thousand...</td>\n",
       "      <td>data/Ch03-Oil.csv</td>\n",
       "      <td>True</td>\n",
       "      <td>=((a-b)/(c-d))*1000</td>\n",
       "    </tr>\n",
       "    <tr>\n",
       "      <th>5</th>\n",
       "      <td>=IF(D20&gt;D19,\"ok\",\"no\")</td>\n",
       "      <td>NaN</td>\n",
       "      <td>TPEDoil_mbd</td>\n",
       "      <td>2017</td>\n",
       "      <td>All of this growth</td>\n",
       "      <td>NPS</td>\n",
       "      <td>All of this growth occurs in developing econom...</td>\n",
       "      <td>data/Ch03-Oil.csv</td>\n",
       "      <td>True</td>\n",
       "      <td>=IF(a&gt;b,\"STR\",\"STR\")</td>\n",
       "    </tr>\n",
       "    <tr>\n",
       "      <th>6</th>\n",
       "      <td>=IF(G18&lt;0,\"ok\",\"no\")</td>\n",
       "      <td>NaN</td>\n",
       "      <td>TPEDoil_mbd</td>\n",
       "      <td>2025</td>\n",
       "      <td>drops</td>\n",
       "      <td>NPS</td>\n",
       "      <td>All of this growth occurs in developing econom...</td>\n",
       "      <td>data/Ch03-Oil.csv</td>\n",
       "      <td>True</td>\n",
       "      <td>=IF(a&lt;0,\"STR\",\"STR\")</td>\n",
       "    </tr>\n",
       "    <tr>\n",
       "      <th>7</th>\n",
       "      <td>=((D18-D16)/(B18-B16))*1000</td>\n",
       "      <td>NaN</td>\n",
       "      <td>TPEDoil_mbd</td>\n",
       "      <td>2040</td>\n",
       "      <td>over 400 kb/d on average</td>\n",
       "      <td>NPS</td>\n",
       "      <td>All of this growth occurs in developing econom...</td>\n",
       "      <td>data/Ch03-Oil.csv</td>\n",
       "      <td>True</td>\n",
       "      <td>=((a-b)/(c-d))*1000</td>\n",
       "    </tr>\n",
       "    <tr>\n",
       "      <th>8</th>\n",
       "      <td>=IF(A30&lt;A29,\"ok\",\"false\")</td>\n",
       "      <td>NaN</td>\n",
       "      <td>China</td>\n",
       "      <td>NaN</td>\n",
       "      <td>slows noticeably</td>\n",
       "      <td>NaN</td>\n",
       "      <td>Even though its demand growth slows noticeably...</td>\n",
       "      <td>data/Ch03-Oil.csv</td>\n",
       "      <td>True</td>\n",
       "      <td>=IF(a&lt;b,\"STR\",\"STR\")</td>\n",
       "    </tr>\n",
       "    <tr>\n",
       "      <th>9</th>\n",
       "      <td>=IF(D28&gt;D35,\"ok\",\"false\")</td>\n",
       "      <td>NaN</td>\n",
       "      <td>TPEDoil_mbd</td>\n",
       "      <td>2017</td>\n",
       "      <td>overtakes</td>\n",
       "      <td>NPS</td>\n",
       "      <td>Even though its demand growth slows noticeably...</td>\n",
       "      <td>data/Ch03-Oil.csv</td>\n",
       "      <td>True</td>\n",
       "      <td>=IF(a&gt;b,\"STR\",\"STR\")</td>\n",
       "    </tr>\n",
       "    <tr>\n",
       "      <th>10</th>\n",
       "      <td>=IF(AND(D28&gt;D35,D28&gt;D37),\"ok\",\"false\")</td>\n",
       "      <td>NaN</td>\n",
       "      <td>TPEDoil_mbd</td>\n",
       "      <td>2025</td>\n",
       "      <td>world's largest</td>\n",
       "      <td>NPS</td>\n",
       "      <td>Even though its demand growth slows noticeably...</td>\n",
       "      <td>data/Ch03-Oil.csv</td>\n",
       "      <td>True</td>\n",
       "      <td>=IF(AND(a&gt;b,a&gt;c),\"STR\",\"STR\")</td>\n",
       "    </tr>\n",
       "    <tr>\n",
       "      <th>11</th>\n",
       "      <td>=IF(D41&lt;D46,\"ok\",\"false\")</td>\n",
       "      <td>NaN</td>\n",
       "      <td>OIL_NetTrade</td>\n",
       "      <td>2040</td>\n",
       "      <td>largest</td>\n",
       "      <td>NPS</td>\n",
       "      <td>By 2040, China becomes the largest net oil imp...</td>\n",
       "      <td>data/Ch03-Oil.csv</td>\n",
       "      <td>True</td>\n",
       "      <td>=IF(a&lt;b,\"STR\",\"STR\")</td>\n",
       "    </tr>\n",
       "    <tr>\n",
       "      <th>12</th>\n",
       "      <td>=D41</td>\n",
       "      <td>NaN</td>\n",
       "      <td>OIL_NetTrade</td>\n",
       "      <td>2040</td>\n",
       "      <td>over 13 million</td>\n",
       "      <td>NPS</td>\n",
       "      <td>By 2040, China becomes the largest net oil imp...</td>\n",
       "      <td>data/Ch03-Oil.csv</td>\n",
       "      <td>True</td>\n",
       "      <td>=a</td>\n",
       "    </tr>\n",
       "    <tr>\n",
       "      <th>13</th>\n",
       "      <td>=(D57-D55)/D55</td>\n",
       "      <td>NaN</td>\n",
       "      <td>TPEDoil_mbd</td>\n",
       "      <td>2017</td>\n",
       "      <td>strong</td>\n",
       "      <td>NPS</td>\n",
       "      <td>Demand growth is strong in India and the Middl...</td>\n",
       "      <td>data/Ch03-Oil.csv</td>\n",
       "      <td>True</td>\n",
       "      <td>=(a-b)/b</td>\n",
       "    </tr>\n",
       "    <tr>\n",
       "      <th>14</th>\n",
       "      <td>=IF(AND(D56&gt;D63,D60&gt;D63),\" ok\", \"false\")</td>\n",
       "      <td>NaN</td>\n",
       "      <td>TPEDoil_mbd</td>\n",
       "      <td>2033</td>\n",
       "      <td>larger</td>\n",
       "      <td>NPS</td>\n",
       "      <td>Demand growth is strong in India and the Middl...</td>\n",
       "      <td>data/Ch03-Oil.csv</td>\n",
       "      <td>True</td>\n",
       "      <td>=IF(AND(a&gt;b,c&gt;b),\"STR\",\"STR\")</td>\n",
       "    </tr>\n",
       "    <tr>\n",
       "      <th>16</th>\n",
       "      <td>=IF(G70&gt;0,\"ok\",\"false\")</td>\n",
       "      <td>NaN</td>\n",
       "      <td>2017</td>\n",
       "      <td>VehicleRoadStock_PLDV</td>\n",
       "      <td>rises</td>\n",
       "      <td>=HLOOKUP(A69,[15]!RawData_NPS_World,MATCH(B69,...</td>\n",
       "      <td>Oil use in cars peaks in the mid-2020s in the ...</td>\n",
       "      <td>data/Ch03-Oil.csv</td>\n",
       "      <td>True</td>\n",
       "      <td>=IF(a&gt;0,\"STR\",\"STR\")</td>\n",
       "    </tr>\n",
       "    <tr>\n",
       "      <th>17</th>\n",
       "      <td>=(C70-C69)/C69</td>\n",
       "      <td>NaN</td>\n",
       "      <td>2040</td>\n",
       "      <td>VehicleRoadStock_PLDV</td>\n",
       "      <td>0.8</td>\n",
       "      <td>=HLOOKUP(A70,[15]!RawData_NPS_World,MATCH(B70,...</td>\n",
       "      <td>Oil use in cars peaks in the mid-2020s in the ...</td>\n",
       "      <td>data/Ch03-Oil.csv</td>\n",
       "      <td>True</td>\n",
       "      <td>=(a-b)/b</td>\n",
       "    </tr>\n",
       "    <tr>\n",
       "      <th>18</th>\n",
       "      <td>=C70</td>\n",
       "      <td>NaN</td>\n",
       "      <td>2040</td>\n",
       "      <td>VehicleRoadStock_PLDV</td>\n",
       "      <td>2 000 million</td>\n",
       "      <td>=HLOOKUP(A70,[15]!RawData_NPS_World,MATCH(B70,...</td>\n",
       "      <td>Oil use in cars peaks in the mid-2020s in the ...</td>\n",
       "      <td>data/Ch03-Oil.csv</td>\n",
       "      <td>True</td>\n",
       "      <td>=a</td>\n",
       "    </tr>\n",
       "    <tr>\n",
       "      <th>19</th>\n",
       "      <td>=C87</td>\n",
       "      <td>NaN</td>\n",
       "      <td>2040</td>\n",
       "      <td>VehicleRoadStock_Ecars</td>\n",
       "      <td>Some 300 million</td>\n",
       "      <td>=HLOOKUP(A87,[15]!RawData_NPS_World,MATCH(B87,...</td>\n",
       "      <td>Some 300 million electric cars on the road in ...</td>\n",
       "      <td>data/Ch03-Oil.csv</td>\n",
       "      <td>True</td>\n",
       "      <td>=a</td>\n",
       "    </tr>\n",
       "    <tr>\n",
       "      <th>21</th>\n",
       "      <td>=G92*G93/SUM(G94:G95)</td>\n",
       "      <td>NaN</td>\n",
       "      <td>NaN</td>\n",
       "      <td>NaN</td>\n",
       "      <td>over 9 mb/d</td>\n",
       "      <td>NaN</td>\n",
       "      <td>Efficiency measures are even more important to...</td>\n",
       "      <td>data/Ch03-Oil.csv</td>\n",
       "      <td>True</td>\n",
       "      <td>=a*b/SUM(c:d)</td>\n",
       "    </tr>\n",
       "    <tr>\n",
       "      <th>22</th>\n",
       "      <td>=G100-G99</td>\n",
       "      <td>NaN</td>\n",
       "      <td>NaN</td>\n",
       "      <td>NaN</td>\n",
       "      <td>4 mb/d</td>\n",
       "      <td>NaN</td>\n",
       "      <td>However, this pace of change is not matched el...</td>\n",
       "      <td>data/Ch03-Oil.csv</td>\n",
       "      <td>True</td>\n",
       "      <td>=a-b</td>\n",
       "    </tr>\n",
       "    <tr>\n",
       "      <th>26</th>\n",
       "      <td>=G105=MAX(G107:G115)</td>\n",
       "      <td>NaN</td>\n",
       "      <td>NaN</td>\n",
       "      <td>NaN</td>\n",
       "      <td>largest</td>\n",
       "      <td>NaN</td>\n",
       "      <td>Oil use in petrochemicals sees the largest gro...</td>\n",
       "      <td>data/Ch03-Oil.csv</td>\n",
       "      <td>True</td>\n",
       "      <td>=a=MAX(b:c)</td>\n",
       "    </tr>\n",
       "    <tr>\n",
       "      <th>27</th>\n",
       "      <td>=G115</td>\n",
       "      <td>NaN</td>\n",
       "      <td>NaN</td>\n",
       "      <td>NaN</td>\n",
       "      <td>5 mb/d</td>\n",
       "      <td>NaN</td>\n",
       "      <td>Oil use in petrochemicals sees the largest gro...</td>\n",
       "      <td>data/Ch03-Oil.csv</td>\n",
       "      <td>True</td>\n",
       "      <td>=a</td>\n",
       "    </tr>\n",
       "    <tr>\n",
       "      <th>39</th>\n",
       "      <td>=G132/G129</td>\n",
       "      <td>NaN</td>\n",
       "      <td>NaN</td>\n",
       "      <td>NaN</td>\n",
       "      <td>nearly 75%</td>\n",
       "      <td>NaN</td>\n",
       "      <td>On the supply side, the United States provides...</td>\n",
       "      <td>data/Ch03-Oil.csv</td>\n",
       "      <td>True</td>\n",
       "      <td>=a/b</td>\n",
       "    </tr>\n",
       "    <tr>\n",
       "      <th>40</th>\n",
       "      <td>=IF(G129&gt;0,\"ok\",\"false\")</td>\n",
       "      <td>NaN</td>\n",
       "      <td>World</td>\n",
       "      <td>NaN</td>\n",
       "      <td>increase</td>\n",
       "      <td>NaN</td>\n",
       "      <td>On the supply side, the United States provides...</td>\n",
       "      <td>data/Ch03-Oil.csv</td>\n",
       "      <td>True</td>\n",
       "      <td>=IF(a&gt;0,\"STR\",\"STR\")</td>\n",
       "    </tr>\n",
       "    <tr>\n",
       "      <th>41</th>\n",
       "      <td>=C129-C128</td>\n",
       "      <td>NaN</td>\n",
       "      <td>2025</td>\n",
       "      <td>OIL_PROD</td>\n",
       "      <td>increase</td>\n",
       "      <td>=VLOOKUP(B129,[5]!data_World,MATCH(A129,[5]!ti...</td>\n",
       "      <td>On the supply side, the United States provides...</td>\n",
       "      <td>data/Ch03-Oil.csv</td>\n",
       "      <td>True</td>\n",
       "      <td>=a-b</td>\n",
       "    </tr>\n",
       "    <tr>\n",
       "      <th>42</th>\n",
       "      <td>=C132-C131</td>\n",
       "      <td>NaN</td>\n",
       "      <td>2025</td>\n",
       "      <td>OIL_PROD</td>\n",
       "      <td>increase</td>\n",
       "      <td>=VLOOKUP(B132,[5]!data_US,MATCH(A132,[5]!time_...</td>\n",
       "      <td>On the supply side, the United States provides...</td>\n",
       "      <td>data/Ch03-Oil.csv</td>\n",
       "      <td>True</td>\n",
       "      <td>=a-b</td>\n",
       "    </tr>\n",
       "    <tr>\n",
       "      <th>43</th>\n",
       "      <td>=MAX(C137:C150)</td>\n",
       "      <td>NaN</td>\n",
       "      <td>NaN</td>\n",
       "      <td>NaN</td>\n",
       "      <td>high</td>\n",
       "      <td>NaN</td>\n",
       "      <td>US tight oil reaches a high of 9.2 mb/d in the...</td>\n",
       "      <td>data/Ch03-Oil.csv</td>\n",
       "      <td>True</td>\n",
       "      <td>=MAX(a:b)</td>\n",
       "    </tr>\n",
       "    <tr>\n",
       "      <th>44</th>\n",
       "      <td>=G136</td>\n",
       "      <td>NaN</td>\n",
       "      <td>2017</td>\n",
       "      <td>PROD_LTO</td>\n",
       "      <td>9.2 mb/d</td>\n",
       "      <td>=VLOOKUP(B137,[5]!data_US,MATCH(A137,[5]!time_...</td>\n",
       "      <td>US tight oil reaches a high of 9.2 mb/d in the...</td>\n",
       "      <td>data/Ch03-Oil.csv</td>\n",
       "      <td>True</td>\n",
       "      <td>=a</td>\n",
       "    </tr>\n",
       "    <tr>\n",
       "      <th>45</th>\n",
       "      <td>=(C151/C145)^(1/(A151-A145))-1</td>\n",
       "      <td>NaN</td>\n",
       "      <td>2018</td>\n",
       "      <td>PROD_LTO</td>\n",
       "      <td>declining slowly</td>\n",
       "      <td>=VLOOKUP(B138,[5]!data_US,MATCH(A138,[5]!time_...</td>\n",
       "      <td>US tight oil reaches a high of 9.2 mb/d in the...</td>\n",
       "      <td>data/Ch03-Oil.csv</td>\n",
       "      <td>True</td>\n",
       "      <td>=(a/b)^(1/(c-d))-1</td>\n",
       "    </tr>\n",
       "    <tr>\n",
       "      <th>46</th>\n",
       "      <td>=IF(C159&gt;C158,\"ok\",\"false\")</td>\n",
       "      <td>NaN</td>\n",
       "      <td>2040</td>\n",
       "      <td>PROD_LTO</td>\n",
       "      <td>increases</td>\n",
       "      <td>=VLOOKUP(B151,[5]!data_US,MATCH(A151,[5]!time_...</td>\n",
       "      <td>US tight oil reaches a high of 9.2 mb/d in the...</td>\n",
       "      <td>data/Ch03-Oil.csv</td>\n",
       "      <td>True</td>\n",
       "      <td>=IF(a&gt;b,\"STR\",\"STR\")</td>\n",
       "    </tr>\n",
       "  </tbody>\n",
       "</table>\n",
       "</div>"
      ],
      "text/plain": [
       "                Author Calculation Equations Author calc Value Look-up value  \\\n",
       "0                        =IF(G6>0,\"ok\",\"no\")               NaN   TPEDoil_mbd   \n",
       "1                    =((D6-D5)/(B6-B5))*1000               NaN   TPEDoil_mbd   \n",
       "3                       =IF(G9<G6,\"ok\",\"no\")               NaN   TPEDoil_mbd   \n",
       "4                    =((D7-D6)/(B7-B6))*1000               NaN   TPEDoil_mbd   \n",
       "5                     =IF(D20>D19,\"ok\",\"no\")               NaN   TPEDoil_mbd   \n",
       "6                       =IF(G18<0,\"ok\",\"no\")               NaN   TPEDoil_mbd   \n",
       "7                =((D18-D16)/(B18-B16))*1000               NaN   TPEDoil_mbd   \n",
       "8                  =IF(A30<A29,\"ok\",\"false\")               NaN         China   \n",
       "9                  =IF(D28>D35,\"ok\",\"false\")               NaN   TPEDoil_mbd   \n",
       "10    =IF(AND(D28>D35,D28>D37),\"ok\",\"false\")               NaN   TPEDoil_mbd   \n",
       "11                 =IF(D41<D46,\"ok\",\"false\")               NaN  OIL_NetTrade   \n",
       "12                                      =D41               NaN  OIL_NetTrade   \n",
       "13                            =(D57-D55)/D55               NaN   TPEDoil_mbd   \n",
       "14  =IF(AND(D56>D63,D60>D63),\" ok\", \"false\")               NaN   TPEDoil_mbd   \n",
       "16                   =IF(G70>0,\"ok\",\"false\")               NaN          2017   \n",
       "17                            =(C70-C69)/C69               NaN          2040   \n",
       "18                                      =C70               NaN          2040   \n",
       "19                                      =C87               NaN          2040   \n",
       "21                     =G92*G93/SUM(G94:G95)               NaN           NaN   \n",
       "22                                 =G100-G99               NaN           NaN   \n",
       "26                      =G105=MAX(G107:G115)               NaN           NaN   \n",
       "27                                     =G115               NaN           NaN   \n",
       "39                                =G132/G129               NaN           NaN   \n",
       "40                  =IF(G129>0,\"ok\",\"false\")               NaN         World   \n",
       "41                                =C129-C128               NaN          2025   \n",
       "42                                =C132-C131               NaN          2025   \n",
       "43                           =MAX(C137:C150)               NaN           NaN   \n",
       "44                                     =G136               NaN          2017   \n",
       "45            =(C151/C145)^(1/(A151-A145))-1               NaN          2018   \n",
       "46               =IF(C159>C158,\"ok\",\"false\")               NaN          2040   \n",
       "\n",
       "              Look-up year           Published value  \\\n",
       "0                     2017                     grows   \n",
       "1                     2025       nearly 950 thousand   \n",
       "3                     2040                     slows   \n",
       "4                     2040                  250 kb/d   \n",
       "5                     2017        All of this growth   \n",
       "6                     2025                     drops   \n",
       "7                     2040  over 400 kb/d on average   \n",
       "8                      NaN          slows noticeably   \n",
       "9                     2017                 overtakes   \n",
       "10                    2025           world's largest   \n",
       "11                    2040                   largest   \n",
       "12                    2040           over 13 million   \n",
       "13                    2017                    strong   \n",
       "14                    2033                    larger   \n",
       "16   VehicleRoadStock_PLDV                     rises   \n",
       "17   VehicleRoadStock_PLDV                       0.8   \n",
       "18   VehicleRoadStock_PLDV             2 000 million   \n",
       "19  VehicleRoadStock_Ecars          Some 300 million   \n",
       "21                     NaN               over 9 mb/d   \n",
       "22                     NaN                    4 mb/d   \n",
       "26                     NaN                   largest   \n",
       "27                     NaN                   5 mb/d    \n",
       "39                     NaN                nearly 75%   \n",
       "40                     NaN                  increase   \n",
       "41                OIL_PROD                  increase   \n",
       "42                OIL_PROD                  increase   \n",
       "43                     NaN                      high   \n",
       "44                PROD_LTO                  9.2 mb/d   \n",
       "45                PROD_LTO          declining slowly   \n",
       "46                PROD_LTO                 increases   \n",
       "\n",
       "                                             Scenario  \\\n",
       "0                                                 NPS   \n",
       "1                                                 NPS   \n",
       "3                                                 NPS   \n",
       "4                                                 NPS   \n",
       "5                                                 NPS   \n",
       "6                                                 NPS   \n",
       "7                                                 NPS   \n",
       "8                                                 NaN   \n",
       "9                                                 NPS   \n",
       "10                                                NPS   \n",
       "11                                                NPS   \n",
       "12                                                NPS   \n",
       "13                                                NPS   \n",
       "14                                                NPS   \n",
       "16  =HLOOKUP(A69,[15]!RawData_NPS_World,MATCH(B69,...   \n",
       "17  =HLOOKUP(A70,[15]!RawData_NPS_World,MATCH(B70,...   \n",
       "18  =HLOOKUP(A70,[15]!RawData_NPS_World,MATCH(B70,...   \n",
       "19  =HLOOKUP(A87,[15]!RawData_NPS_World,MATCH(B87,...   \n",
       "21                                                NaN   \n",
       "22                                                NaN   \n",
       "26                                                NaN   \n",
       "27                                                NaN   \n",
       "39                                                NaN   \n",
       "40                                                NaN   \n",
       "41  =VLOOKUP(B129,[5]!data_World,MATCH(A129,[5]!ti...   \n",
       "42  =VLOOKUP(B132,[5]!data_US,MATCH(A132,[5]!time_...   \n",
       "43                                                NaN   \n",
       "44  =VLOOKUP(B137,[5]!data_US,MATCH(A137,[5]!time_...   \n",
       "45  =VLOOKUP(B138,[5]!data_US,MATCH(A138,[5]!time_...   \n",
       "46  =VLOOKUP(B151,[5]!data_US,MATCH(A151,[5]!time_...   \n",
       "\n",
       "                                                 Text               file  \\\n",
       "0   Global oil demand grows by nearly 950 thousand...  data/Ch03-Oil.csv   \n",
       "1   Global oil demand grows by nearly 950 thousand...  data/Ch03-Oil.csv   \n",
       "3   Global oil demand grows by nearly 950 thousand...  data/Ch03-Oil.csv   \n",
       "4   Global oil demand grows by nearly 950 thousand...  data/Ch03-Oil.csv   \n",
       "5   All of this growth occurs in developing econom...  data/Ch03-Oil.csv   \n",
       "6   All of this growth occurs in developing econom...  data/Ch03-Oil.csv   \n",
       "7   All of this growth occurs in developing econom...  data/Ch03-Oil.csv   \n",
       "8   Even though its demand growth slows noticeably...  data/Ch03-Oil.csv   \n",
       "9   Even though its demand growth slows noticeably...  data/Ch03-Oil.csv   \n",
       "10  Even though its demand growth slows noticeably...  data/Ch03-Oil.csv   \n",
       "11  By 2040, China becomes the largest net oil imp...  data/Ch03-Oil.csv   \n",
       "12  By 2040, China becomes the largest net oil imp...  data/Ch03-Oil.csv   \n",
       "13  Demand growth is strong in India and the Middl...  data/Ch03-Oil.csv   \n",
       "14  Demand growth is strong in India and the Middl...  data/Ch03-Oil.csv   \n",
       "16  Oil use in cars peaks in the mid-2020s in the ...  data/Ch03-Oil.csv   \n",
       "17  Oil use in cars peaks in the mid-2020s in the ...  data/Ch03-Oil.csv   \n",
       "18  Oil use in cars peaks in the mid-2020s in the ...  data/Ch03-Oil.csv   \n",
       "19  Some 300 million electric cars on the road in ...  data/Ch03-Oil.csv   \n",
       "21  Efficiency measures are even more important to...  data/Ch03-Oil.csv   \n",
       "22  However, this pace of change is not matched el...  data/Ch03-Oil.csv   \n",
       "26  Oil use in petrochemicals sees the largest gro...  data/Ch03-Oil.csv   \n",
       "27  Oil use in petrochemicals sees the largest gro...  data/Ch03-Oil.csv   \n",
       "39  On the supply side, the United States provides...  data/Ch03-Oil.csv   \n",
       "40  On the supply side, the United States provides...  data/Ch03-Oil.csv   \n",
       "41  On the supply side, the United States provides...  data/Ch03-Oil.csv   \n",
       "42  On the supply side, the United States provides...  data/Ch03-Oil.csv   \n",
       "43  US tight oil reaches a high of 9.2 mb/d in the...  data/Ch03-Oil.csv   \n",
       "44  US tight oil reaches a high of 9.2 mb/d in the...  data/Ch03-Oil.csv   \n",
       "45  US tight oil reaches a high of 9.2 mb/d in the...  data/Ch03-Oil.csv   \n",
       "46  US tight oil reaches a high of 9.2 mb/d in the...  data/Ch03-Oil.csv   \n",
       "\n",
       "    keep               template_formula  \n",
       "0   True           =IF(a>0,\"STR\",\"STR\")  \n",
       "1   True            =((a-b)/(c-d))*1000  \n",
       "3   True           =IF(a<b,\"STR\",\"STR\")  \n",
       "4   True            =((a-b)/(c-d))*1000  \n",
       "5   True           =IF(a>b,\"STR\",\"STR\")  \n",
       "6   True           =IF(a<0,\"STR\",\"STR\")  \n",
       "7   True            =((a-b)/(c-d))*1000  \n",
       "8   True           =IF(a<b,\"STR\",\"STR\")  \n",
       "9   True           =IF(a>b,\"STR\",\"STR\")  \n",
       "10  True  =IF(AND(a>b,a>c),\"STR\",\"STR\")  \n",
       "11  True           =IF(a<b,\"STR\",\"STR\")  \n",
       "12  True                             =a  \n",
       "13  True                       =(a-b)/b  \n",
       "14  True  =IF(AND(a>b,c>b),\"STR\",\"STR\")  \n",
       "16  True           =IF(a>0,\"STR\",\"STR\")  \n",
       "17  True                       =(a-b)/b  \n",
       "18  True                             =a  \n",
       "19  True                             =a  \n",
       "21  True                  =a*b/SUM(c:d)  \n",
       "22  True                           =a-b  \n",
       "26  True                    =a=MAX(b:c)  \n",
       "27  True                             =a  \n",
       "39  True                           =a/b  \n",
       "40  True           =IF(a>0,\"STR\",\"STR\")  \n",
       "41  True                           =a-b  \n",
       "42  True                           =a-b  \n",
       "43  True                      =MAX(a:b)  \n",
       "44  True                             =a  \n",
       "45  True             =(a/b)^(1/(c-d))-1  \n",
       "46  True           =IF(a>b,\"STR\",\"STR\")  "
      ]
     },
     "execution_count": 105,
     "metadata": {},
     "output_type": "execute_result"
    }
   ],
   "source": [
    "main_df.head(30)"
   ]
  },
  {
   "cell_type": "code",
   "execution_count": 64,
   "metadata": {},
   "outputs": [],
   "source": [
    "size = len(main_df.drop_duplicates(subset=[\"Text\", \"Published value\", \"template_formula\"]))"
   ]
  },
  {
   "cell_type": "code",
   "execution_count": 65,
   "metadata": {},
   "outputs": [
    {
     "data": {
      "text/plain": [
       "2091"
      ]
     },
     "execution_count": 65,
     "metadata": {},
     "output_type": "execute_result"
    }
   ],
   "source": [
    "size"
   ]
  },
  {
   "cell_type": "code",
   "execution_count": 61,
   "metadata": {},
   "outputs": [
    {
     "data": {
      "text/plain": [
       "<pandas.core.groupby.generic.SeriesGroupBy object at 0x7fb8c426cc18>"
      ]
     },
     "execution_count": 61,
     "metadata": {},
     "output_type": "execute_result"
    }
   ],
   "source": [
    "main_df.groupby(\"Author Calculation Equations\")[\"template_formula\"]"
   ]
  },
  {
   "cell_type": "code",
   "execution_count": 62,
   "metadata": {},
   "outputs": [],
   "source": [
    "# main_df.to_csv(\"data/templates_from_8_files.csv\", index=False)"
   ]
  },
  {
   "cell_type": "code",
   "execution_count": 66,
   "metadata": {},
   "outputs": [],
   "source": [
    " len(main_df.drop_duplicates(subset=[\"Text\", \"Published value\", \"template_formula\"]).drop_duplicates(\"template_formula\"))"
   ]
  },
  {
   "cell_type": "code",
   "execution_count": 67,
   "metadata": {},
   "outputs": [],
   "source": [
    "num_labels = len(main_df.drop_duplicates(subset=\"template_formula\"))"
   ]
  },
  {
   "cell_type": "code",
   "execution_count": 68,
   "metadata": {},
   "outputs": [
    {
     "data": {
      "text/plain": [
       "556"
      ]
     },
     "execution_count": 68,
     "metadata": {},
     "output_type": "execute_result"
    }
   ],
   "source": [
    "num_labels"
   ]
  },
  {
   "cell_type": "code",
   "execution_count": 69,
   "metadata": {},
   "outputs": [
    {
     "data": {
      "text/plain": [
       "3.7607913669064748"
      ]
     },
     "execution_count": 69,
     "metadata": {},
     "output_type": "execute_result"
    }
   ],
   "source": [
    "size/num_labels"
   ]
  },
  {
   "cell_type": "code",
   "execution_count": null,
   "metadata": {},
   "outputs": [],
   "source": []
  },
  {
   "cell_type": "code",
   "execution_count": 61,
   "metadata": {},
   "outputs": [
    {
     "data": {
      "text/html": [
       "<div>\n",
       "<style scoped>\n",
       "    .dataframe tbody tr th:only-of-type {\n",
       "        vertical-align: middle;\n",
       "    }\n",
       "\n",
       "    .dataframe tbody tr th {\n",
       "        vertical-align: top;\n",
       "    }\n",
       "\n",
       "    .dataframe thead th {\n",
       "        text-align: right;\n",
       "    }\n",
       "</style>\n",
       "<table border=\"1\" class=\"dataframe\">\n",
       "  <thead>\n",
       "    <tr style=\"text-align: right;\">\n",
       "      <th></th>\n",
       "      <th>Text</th>\n",
       "      <th>Published value</th>\n",
       "      <th>Author Calculation Equations</th>\n",
       "      <th>file</th>\n",
       "      <th>keep</th>\n",
       "      <th>template_formula</th>\n",
       "    </tr>\n",
       "  </thead>\n",
       "  <tbody>\n",
       "    <tr>\n",
       "      <th>0</th>\n",
       "      <td>Global oil demand grows by nearly 950 thousand...</td>\n",
       "      <td>grows</td>\n",
       "      <td>IF(G6&gt;0,\"ok\",\"no\")</td>\n",
       "      <td>data/Ch3_Claims_ExtractedByUs.csv</td>\n",
       "      <td>True</td>\n",
       "      <td>IF(a&gt;0,\"ok\",\"no\")</td>\n",
       "    </tr>\n",
       "    <tr>\n",
       "      <th>1</th>\n",
       "      <td>Global oil demand grows by nearly 950 thousand...</td>\n",
       "      <td>nearly 950 thousand</td>\n",
       "      <td>((D6-D5)/(B6-B5))*1000</td>\n",
       "      <td>data/Ch3_Claims_ExtractedByUs.csv</td>\n",
       "      <td>True</td>\n",
       "      <td>((a-b)/(c-d))*1000</td>\n",
       "    </tr>\n",
       "    <tr>\n",
       "      <th>3</th>\n",
       "      <td>Global oil demand grows by nearly 950 thousand...</td>\n",
       "      <td>slows</td>\n",
       "      <td>IF(G9&lt;G6,\"ok\",\"no\")</td>\n",
       "      <td>data/Ch3_Claims_ExtractedByUs.csv</td>\n",
       "      <td>True</td>\n",
       "      <td>IF(a&lt;b,\"ok\",\"no\")</td>\n",
       "    </tr>\n",
       "    <tr>\n",
       "      <th>4</th>\n",
       "      <td>Global oil demand grows by nearly 950 thousand...</td>\n",
       "      <td>250 kb/d</td>\n",
       "      <td>((D7-D6)/(B7-B6))*1000</td>\n",
       "      <td>data/Ch3_Claims_ExtractedByUs.csv</td>\n",
       "      <td>True</td>\n",
       "      <td>((a-b)/(c-d))*1000</td>\n",
       "    </tr>\n",
       "    <tr>\n",
       "      <th>5</th>\n",
       "      <td>All of this growth occurs in developing econom...</td>\n",
       "      <td>All of this growth</td>\n",
       "      <td>IF(D20&gt;D19,\"ok\",\"no\")</td>\n",
       "      <td>data/Ch3_Claims_ExtractedByUs.csv</td>\n",
       "      <td>True</td>\n",
       "      <td>IF(a&gt;b,\"ok\",\"no\")</td>\n",
       "    </tr>\n",
       "    <tr>\n",
       "      <th>...</th>\n",
       "      <td>...</td>\n",
       "      <td>...</td>\n",
       "      <td>...</td>\n",
       "      <td>...</td>\n",
       "      <td>...</td>\n",
       "      <td>...</td>\n",
       "    </tr>\n",
       "    <tr>\n",
       "      <th>647</th>\n",
       "      <td>Robust production growth in Brazil increases C...</td>\n",
       "      <td>Robust production growth</td>\n",
       "      <td>G261&gt;1%</td>\n",
       "      <td>data/Ch3_Claims_ExtractedByUs.csv</td>\n",
       "      <td>True</td>\n",
       "      <td>a&gt;1%</td>\n",
       "    </tr>\n",
       "    <tr>\n",
       "      <th>648</th>\n",
       "      <td>Robust production growth in Brazil increases C...</td>\n",
       "      <td>increases</td>\n",
       "      <td>AND(G269&gt;G264,G271&gt;G264)</td>\n",
       "      <td>data/Ch3_Claims_ExtractedByUs.csv</td>\n",
       "      <td>True</td>\n",
       "      <td>AND(a&gt;b,c&gt;b)</td>\n",
       "    </tr>\n",
       "    <tr>\n",
       "      <th>649</th>\n",
       "      <td>Robust production growth in Brazil increases C...</td>\n",
       "      <td>decline</td>\n",
       "      <td>G274&lt;G273</td>\n",
       "      <td>data/Ch3_Claims_ExtractedByUs.csv</td>\n",
       "      <td>True</td>\n",
       "      <td>a&lt;b</td>\n",
       "    </tr>\n",
       "    <tr>\n",
       "      <th>650</th>\n",
       "      <td>Robust production growth in Brazil increases C...</td>\n",
       "      <td>waning</td>\n",
       "      <td>G277&lt;G276</td>\n",
       "      <td>data/Ch3_Claims_ExtractedByUs.csv</td>\n",
       "      <td>True</td>\n",
       "      <td>a&lt;b</td>\n",
       "    </tr>\n",
       "    <tr>\n",
       "      <th>653</th>\n",
       "      <td>Robust production growth in Brazil increases C...</td>\n",
       "      <td>waning</td>\n",
       "      <td>(G260/G259)^(1/(B260-B259))-1</td>\n",
       "      <td>data/Ch3_Claims_ExtractedByUs.csv</td>\n",
       "      <td>True</td>\n",
       "      <td>(a/b)^(1/(c-d))-1</td>\n",
       "    </tr>\n",
       "  </tbody>\n",
       "</table>\n",
       "<p>389 rows × 6 columns</p>\n",
       "</div>"
      ],
      "text/plain": [
       "                                                  Text  \\\n",
       "0    Global oil demand grows by nearly 950 thousand...   \n",
       "1    Global oil demand grows by nearly 950 thousand...   \n",
       "3    Global oil demand grows by nearly 950 thousand...   \n",
       "4    Global oil demand grows by nearly 950 thousand...   \n",
       "5    All of this growth occurs in developing econom...   \n",
       "..                                                 ...   \n",
       "647  Robust production growth in Brazil increases C...   \n",
       "648  Robust production growth in Brazil increases C...   \n",
       "649  Robust production growth in Brazil increases C...   \n",
       "650  Robust production growth in Brazil increases C...   \n",
       "653  Robust production growth in Brazil increases C...   \n",
       "\n",
       "              Published value   Author Calculation Equations  \\\n",
       "0                       grows             IF(G6>0,\"ok\",\"no\")   \n",
       "1         nearly 950 thousand         ((D6-D5)/(B6-B5))*1000   \n",
       "3                       slows            IF(G9<G6,\"ok\",\"no\")   \n",
       "4                    250 kb/d         ((D7-D6)/(B7-B6))*1000   \n",
       "5          All of this growth          IF(D20>D19,\"ok\",\"no\")   \n",
       "..                        ...                            ...   \n",
       "647  Robust production growth                        G261>1%   \n",
       "648                 increases       AND(G269>G264,G271>G264)   \n",
       "649                   decline                      G274<G273   \n",
       "650                    waning                      G277<G276   \n",
       "653                    waning  (G260/G259)^(1/(B260-B259))-1   \n",
       "\n",
       "                                  file  keep    template_formula  \n",
       "0    data/Ch3_Claims_ExtractedByUs.csv  True   IF(a>0,\"ok\",\"no\")  \n",
       "1    data/Ch3_Claims_ExtractedByUs.csv  True  ((a-b)/(c-d))*1000  \n",
       "3    data/Ch3_Claims_ExtractedByUs.csv  True   IF(a<b,\"ok\",\"no\")  \n",
       "4    data/Ch3_Claims_ExtractedByUs.csv  True  ((a-b)/(c-d))*1000  \n",
       "5    data/Ch3_Claims_ExtractedByUs.csv  True   IF(a>b,\"ok\",\"no\")  \n",
       "..                                 ...   ...                 ...  \n",
       "647  data/Ch3_Claims_ExtractedByUs.csv  True                a>1%  \n",
       "648  data/Ch3_Claims_ExtractedByUs.csv  True        AND(a>b,c>b)  \n",
       "649  data/Ch3_Claims_ExtractedByUs.csv  True                 a<b  \n",
       "650  data/Ch3_Claims_ExtractedByUs.csv  True                 a<b  \n",
       "653  data/Ch3_Claims_ExtractedByUs.csv  True   (a/b)^(1/(c-d))-1  \n",
       "\n",
       "[389 rows x 6 columns]"
      ]
     },
     "execution_count": 61,
     "metadata": {},
     "output_type": "execute_result"
    }
   ],
   "source": [
    "main_df[main_df.file == \"data/Ch3_Claims_ExtractedByUs.csv\"]"
   ]
  },
  {
   "cell_type": "code",
   "execution_count": 75,
   "metadata": {},
   "outputs": [],
   "source": [
    "q = pd.merge(main_df, main_df, on=\"Published value\")"
   ]
  },
  {
   "cell_type": "code",
   "execution_count": null,
   "metadata": {},
   "outputs": [],
   "source": [
    "q[]"
   ]
  }
 ],
 "metadata": {
  "kernelspec": {
   "display_name": "Python 3",
   "language": "python",
   "name": "python3"
  },
  "language_info": {
   "codemirror_mode": {
    "name": "ipython",
    "version": 3
   },
   "file_extension": ".py",
   "mimetype": "text/x-python",
   "name": "python",
   "nbconvert_exporter": "python",
   "pygments_lexer": "ipython3",
   "version": "3.7.0"
  }
 },
 "nbformat": 4,
 "nbformat_minor": 2
}
